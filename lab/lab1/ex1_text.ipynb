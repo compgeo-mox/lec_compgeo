{
 "cells": [
  {
   "cell_type": "markdown",
   "metadata": {},
   "source": [
    "Credits: Edie Miglio"
   ]
  },
  {
   "cell_type": "markdown",
   "metadata": {
    "id": "sz93POM5ScAa"
   },
   "source": [
    "# Introduction to Python"
   ]
  },
  {
   "cell_type": "markdown",
   "metadata": {
    "id": "OK1p_S0lJ78O"
   },
   "source": [
    "Python is an interpreted language. For the pourposes of this course I suggest you to use either [Colab](https://colab.research.google.com/) or install [Anaconda](https://www.anaconda.com/).\n",
    "\n",
    "The approach we will adopt is based on the resolution of small problems and projects. In each project we will introduce some features of the language. The course will focus on the use of Python for managing data and for implementing mathematical algorithms.\n",
    "\n"
   ]
  },
  {
   "cell_type": "markdown",
   "metadata": {
    "id": "xDKqpMT3qxpN"
   },
   "source": [
    "## Project 1: Fahrenheit to Celsius"
   ]
  },
  {
   "cell_type": "markdown",
   "metadata": {
    "id": "Dy5bCjLoFfFm"
   },
   "source": [
    "**Skills**:\n",
    "\n",
    "*   input from the command line\n",
    "*   casting (string to float)\n",
    "*   variable assignements\n",
    "*   simple math formulas\n",
    "*   print\n",
    "*   functions\n",
    "* importance of the indentation\n",
    "\n"
   ]
  },
  {
   "cell_type": "markdown",
   "metadata": {
    "id": "XGg8naNjq4h7"
   },
   "source": [
    "**Problem**: ask the user a temperature in Fahrenheit and print the corresponding Celsius value using the the formula\n",
    "$$\n",
    "^\\circ C = \\frac{5}{9}(^\\circ F - 32).\n",
    "$$"
   ]
  },
  {
   "cell_type": "code",
   "execution_count": 6,
   "metadata": {},
   "outputs": [
    {
     "name": "stdout",
     "output_type": "stream",
     "text": [
      "<class 'str'>\n",
      "8\n",
      "-13.333333333333334\n"
     ]
    }
   ],
   "source": [
    "temp_f_str = input(\"give me the temperature\")\n",
    "print(type(temp_f_str))\n",
    "print(temp_f_str)\n",
    "\n",
    "temp_f = float(temp_f_str)\n",
    "temp_c = 5 / 9 * (temp_f - 32)\n",
    "\n",
    "# we print the resulting temperature in Celsius\n",
    "print(temp_c)"
   ]
  },
  {
   "cell_type": "code",
   "execution_count": 7,
   "metadata": {},
   "outputs": [
    {
     "name": "stdout",
     "output_type": "stream",
     "text": [
      "-13.333333333333334\n"
     ]
    }
   ],
   "source": [
    "def convert(s):\n",
    "    f = float(s)\n",
    "    return 5 / 9 * (f - 32)\n",
    "\n",
    "\n",
    "f_str = input(\"give me the temperature\")\n",
    "temp_c = convert(f_str)\n",
    "print(temp_c)"
   ]
  },
  {
   "cell_type": "markdown",
   "metadata": {
    "id": "j1X_hzwAvqPN"
   },
   "source": [
    "**Exercise 1** Write a Python function for converting from Kelvin to Fahrenheit. The formula is\n",
    "$$\n",
    "F = 1.8(K-273.15) + 32.\n",
    "$$"
   ]
  },
  {
   "cell_type": "markdown",
   "metadata": {
    "id": "mYGJguvhnmY7"
   },
   "source": [
    "## Project 2: van der Waals equation"
   ]
  },
  {
   "cell_type": "markdown",
   "metadata": {
    "id": "xIytalRuqtmY"
   },
   "source": [
    "The van der Waals equation of state is a modification of the ideal gas law and i takes into account also the molecular size and the molecular interaction forces. This equation can be written as\n",
    "$$\n",
    "\\left[P+a\\left(\\frac{n}{V}\\right)^2\\right]\\left(V-nb\\right)=nRT,\n",
    "$$\n",
    "where $P\\,[Pa]$ is the pressure, $V \\, [m^3]$ is the volume, $T [K]$ is the temperature, $n$ is the number of moles, $R=8,314 \\, [J / (mol ∙ K)] $ is the gas constant, finally $a [Pa \\, m^6/mol^2]$ and $b [m^3/mol]$ are the van der Waals coefficients characterizing different gases. In the following table values of $a$ and $b$ are reported for some gases.\n",
    "\n"
   ]
  },
  {
   "cell_type": "markdown",
   "metadata": {
    "id": "2soVgR7SZVwo"
   },
   "source": [
    "Gas            |     a   | b\n",
    "---------------|---------|---------\n",
    "Helium         | 3.46e-3 | 23.71e-6\n",
    "Neon           | 2.12e-2 | 17.10e-6\n",
    "Hydrogen       | 2.45e-2 | 26.61e-6\n",
    "Carbon dioxide | 3.96e-1 | 42.69e-6\n",
    "Water vapor    | 5.47e-1 | 30.52e-6\n",
    "Oxygen         | 1.38e-1 | 31.86e-6"
   ]
  },
  {
   "cell_type": "markdown",
   "metadata": {
    "id": "Jw5-n_bHGZwZ"
   },
   "source": [
    "**Skills**.\n",
    "*   Function with many input parameters\n",
    "* Help\n",
    "* Simple formatting\n",
    "*   Optional input arguments and default values\n",
    "* Positional and keyword arguments"
   ]
  },
  {
   "cell_type": "markdown",
   "metadata": {
    "id": "bLp-AmRHb_MY"
   },
   "source": [
    "**Problem**: write a Python function that computes the pressure given the temperature and the volume for a real gas. The input parameters of the function should be $T, V, n, a$ and $b$; the output is the pressure $P$."
   ]
  },
  {
   "cell_type": "code",
   "execution_count": 10,
   "metadata": {},
   "outputs": [
    {
     "name": "stdout",
     "output_type": "stream",
     "text": [
      "-1060.0689655172414\n"
     ]
    }
   ],
   "source": [
    "def vanderwaals(T, V, n, a=1.38e-1, b=31.86e-6):\n",
    "    R = 8.314\n",
    "    P = n * R * T / (V - n * b) - a * n**2 / V**2\n",
    "    return P\n",
    "\n",
    "\n",
    "print(vanderwaals(300, 0.1, 1))"
   ]
  },
  {
   "cell_type": "code",
   "execution_count": 11,
   "metadata": {},
   "outputs": [
    {
     "name": "stdout",
     "output_type": "stream",
     "text": [
      "2.204461e+06\n"
     ]
    }
   ],
   "source": [
    "P = vanderwaals(273.15, 0.001, 1, b=30.52e-6)\n",
    "print(\"{:e}\".format(P))"
   ]
  },
  {
   "cell_type": "code",
   "execution_count": null,
   "metadata": {},
   "outputs": [],
   "source": [
    "help(\"FORMATTING\")"
   ]
  },
  {
   "cell_type": "markdown",
   "metadata": {
    "id": "xL6E4uePwIkX"
   },
   "source": [
    "**Exercise 2** Write a Python function for computing the temperature given all the other parameters. The default values for $a$ and $b$ are the ones for the hydrogen."
   ]
  },
  {
   "cell_type": "markdown",
   "metadata": {
    "id": "bkJvxm9sw-GK"
   },
   "source": [
    "## Project 3: area of a circle"
   ]
  },
  {
   "cell_type": "markdown",
   "metadata": {
    "id": "GFicMZaeImLl"
   },
   "source": [
    "**Skills**.\n",
    "* Module import\n",
    "* Shortcut name of a module\n",
    "* Use of a function belonging to an imported module\n",
    "* Power operator\n",
    "* Type function\n",
    "* Function with multiple output\n",
    "* Tuples and immutable objects\n",
    "* Access elements of a complex structure (tuple)\n",
    "* Understand error messages\n",
    "* Content of a module"
   ]
  },
  {
   "cell_type": "code",
   "execution_count": null,
   "metadata": {},
   "outputs": [],
   "source": [
    "import math as mt\n",
    "\n",
    "\n",
    "def circle(r):\n",
    "    \"\"\"\n",
    "    Function to compute the area and length of a circle\n",
    "    input:\n",
    "        r: float the radius\n",
    "    output:\n",
    "        a: float the area\n",
    "        l: float the length\n",
    "    \"\"\"\n",
    "    l = 2 * mt.pi * r\n",
    "    a = mt.pi * r**2\n",
    "    return l, a"
   ]
  },
  {
   "cell_type": "code",
   "execution_count": null,
   "metadata": {},
   "outputs": [],
   "source": [
    "help(circle)"
   ]
  },
  {
   "cell_type": "code",
   "execution_count": null,
   "metadata": {},
   "outputs": [],
   "source": [
    "_, area = circle(3)\n",
    "print(_)"
   ]
  },
  {
   "cell_type": "markdown",
   "metadata": {
    "id": "y3uTL2ylxC4J"
   },
   "source": [
    "**Problem.** Write a function to compute the length and the area of a circle of radius $r$."
   ]
  },
  {
   "cell_type": "markdown",
   "metadata": {
    "id": "fBmLB4le0ajm"
   },
   "source": [
    "**Exercise 3.** Write a Python function that computes the lengths of the edges $b$ and $c$ of a right triangle given the length of the hypotenuse $a$ and the amplitude of one the angle $\\gamma$ (see the following figure).\n",
    "\n",
    "*Hint*: the function <code>sin</code> and <code>cos</code> belong to the <code>math</code> module. Try <code>help(math)</code> to see the content of the module!\n",
    "\n",
    "$$\n",
    "c=a\\sin(\\gamma)\n",
    "$$\n",
    "$$\n",
    "b=a\\cos(\\gamma)\n",
    "$$\n",
    "\n",
    "![triaes01_rapp4.png](data:image/png;base64,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)"
   ]
  },
  {
   "cell_type": "markdown",
   "metadata": {
    "id": "BDmLU21LM1Zy"
   },
   "source": [
    "## Project 4: temperature conversion revised"
   ]
  },
  {
   "cell_type": "markdown",
   "metadata": {
    "id": "dadQ2AX6UiuE"
   },
   "source": [
    "**Skills:**\n",
    "* docstring\n",
    "* string definition\n",
    "* string slicing and indices\n",
    "* <code>if, elif</code> statement\n",
    "* logical operator <code>==</code>\n"
   ]
  },
  {
   "cell_type": "markdown",
   "metadata": {
    "id": "NsdYnmmqNONz"
   },
   "source": [
    "**Project**. We want to write a function that is able to perform conversion from Farheneit to Kelvin and viceversa."
   ]
  },
  {
   "cell_type": "markdown",
   "metadata": {
    "id": "R5roFAV0UHYQ"
   },
   "source": [
    "**Exercise 4**. Extend the previuos function so that it can handle Kelvin, Fahrenheit and Celsius. You have to add an additional input parameter in order to specify the output format."
   ]
  },
  {
   "cell_type": "markdown",
   "metadata": {
    "id": "XEDWpCiWVc5o"
   },
   "source": [
    "## Project 4: computation of the machine epsilon"
   ]
  },
  {
   "cell_type": "markdown",
   "metadata": {
    "id": "ITUbr9BDWLo-"
   },
   "source": [
    "**Skills:**\n",
    "* while loop\n",
    "* logical operator <code>!=</code>"
   ]
  },
  {
   "cell_type": "markdown",
   "metadata": {
    "id": "JirIXJKrVpbE"
   },
   "source": [
    "**Project.** Let us compute the machine epsilon `eps` using `while`. Remember that the definition of $\\epsilon$ is the smallest number such that $1\\neq 1+\\epsilon$."
   ]
  },
  {
   "cell_type": "markdown",
   "metadata": {
    "id": "cMmUynPFYKeD"
   },
   "source": [
    "## Project 5: conversion of a Roman number to decimal format"
   ]
  },
  {
   "cell_type": "markdown",
   "metadata": {
    "id": "QQbvO4diYc_K"
   },
   "source": [
    "**Skills:**\n",
    "* Dictionaries\n",
    "* <code>for</code> loop\n",
    "* <code>range</code> and <code>len</code> function\n",
    "* <code>-=, +=</code> operators\n",
    "* <code><</code> logical operator"
   ]
  },
  {
   "cell_type": "markdown",
   "metadata": {
    "id": "VWQ2DlCtYT7F"
   },
   "source": [
    "**Problem.** Write a Python function that converts a Roman number to decimal format."
   ]
  },
  {
   "cell_type": "markdown",
   "metadata": {
    "id": "I6XP426EEI7B"
   },
   "source": [
    "**Exercise.** Write a Python function that converts an integer to its binary format.\n",
    "\n",
    "*Hint:* Consider the following example where we want to convert $13$ to its binary format:\n",
    "\n",
    "$$\n",
    "13:2 = 6 \\textrm{ with remainder } 1 \\\\\n",
    " 6:2 = 3 \\textrm{ with remainder } 0 \\\\\n",
    " 3:2 = 1 \\textrm{ with remainder } 1 \\\\\n",
    " 1:2 = 0 \\textrm{ with remainder } 1,\n",
    "$$\n",
    "\n",
    "now let us take the remainders in reverse order *i.e.* $1101$, this is the binary format of $13$.\n",
    "\n",
    "The remainder of an integer division is obtained using the operator <code>%</code> and the integer part of the result of a division can be obtained using <code>int</code>. See the following examples:\n"
   ]
  },
  {
   "cell_type": "markdown",
   "metadata": {
    "id": "osOZO-bzEg78"
   },
   "source": [
    "## Project 7: Fibonacci numbers"
   ]
  },
  {
   "cell_type": "markdown",
   "metadata": {
    "id": "UO3fWg1EPdB9"
   },
   "source": [
    "**Skills.**\n",
    "\n",
    "\n",
    "*   recursion\n",
    "*   <code>range</code> function\n",
    "* list comprehension\n",
    "* slicing\n",
    "\n"
   ]
  },
  {
   "cell_type": "markdown",
   "metadata": {
    "id": "4sHpvDiPEnfe"
   },
   "source": [
    "**Problem.** The well known Fibonacci sequence is defined by the following recursive relation:\n",
    "\n",
    "$$\n",
    "F(0)=0, \\\\\n",
    "F(1)=1, \\\\\n",
    "F(n)=F(n-1)+F(n-2).\n",
    "$$\n",
    "\n",
    "Let us write a function that computes the n*th* term of the sequence using recursion."
   ]
  },
  {
   "cell_type": "markdown",
   "metadata": {
    "id": "8-FBaMYQND0f"
   },
   "source": [
    "**Exercise.** Write a function for computing the Recaman sequence defined as follows ($n>0$):\n",
    "\n",
    "$$\n",
    "R(0)=0,\n",
    "$$\n",
    "$$\n",
    "R(n)=\n",
    "\\begin{cases}\n",
    " R(n-1) -n \\quad \\textrm{ if non negative and not already present,} \\\\\n",
    " R(n-1) +n \\quad \\textrm{ otherwise.}\n",
    "\\end{cases}\n",
    "$$"
   ]
  },
  {
   "cell_type": "markdown",
   "metadata": {
    "id": "h19u1iq3LSps"
   },
   "source": [
    "## Project 8: Computation of $\\pi$ using Monte Carlo method"
   ]
  },
  {
   "cell_type": "markdown",
   "metadata": {
    "id": "JiUiCMvdP7Np"
   },
   "source": [
    "**Skills.**\n",
    "\n",
    "* <code>+=</code> (and similar) operator\n",
    "* introduction of *Numpy* arrays\n",
    "* append element to a list and list concatenation\n",
    "* introduction of *Matplotlib*"
   ]
  },
  {
   "cell_type": "markdown",
   "metadata": {
    "id": "SyhjeXV-I3J_"
   },
   "source": [
    "**Problem.** Let us pick $N$ random points in a $2D$ plane within a square of side 2 centered in (0,0).\n",
    "\n",
    "Imagine a circle inscribed into the square; the idea is to use the ratio of number points that lie inside the circle ($N_{\\textrm{inside}}$) to the total number of generated points to compute $\\pi$. Why does it work ?\n",
    "\n",
    "The probability that a point falls inside the circle is directly proportional to the area of the circle *i.e.*\n",
    "\n",
    "$$\n",
    "\\frac{N_{\\textrm{inside}}}{N}=\\frac{\\textrm{Area of the circle}}{\\textrm{Area of the square}}.\n",
    "$$\n",
    "\n",
    "Moreover we know that area of the square is $4$ while that of circle is $\\pi$. The ratio of these two areas is:\n",
    "\n",
    "$$\n",
    "\\frac{\\textrm{Area of the circle}}{\\textrm{Area of the square}}=\\frac{\\pi}{4},\n",
    "$$\n",
    "\n",
    "we can compute $\\pi$ as\n",
    "\n",
    "$$\n",
    "\\pi= 4\\frac{N_{\\textrm{inside}}}{N}.\n",
    "$$"
   ]
  },
  {
   "cell_type": "code",
   "execution_count": null,
   "metadata": {},
   "outputs": [],
   "source": [
    "import math as mt\n",
    "import random\n",
    "\n",
    "\n",
    "def compute_pi_mc(N):\n",
    "    circle_points, num_elements = 0, 0\n",
    "\n",
    "    approx_pi = []\n",
    "\n",
    "    for i in range(N):\n",
    "        rand_x = random.uniform(-1, 1)\n",
    "        rand_y = random.uniform(-1, 1)\n",
    "\n",
    "        dist = mt.sqrt(rand_x**2 + rand_y**2)\n",
    "\n",
    "        if dist <= 1:\n",
    "            circle_points += 1\n",
    "        num_elements += 1\n",
    "\n",
    "        approx_pi.append(4 * circle_points / num_elements)\n",
    "\n",
    "    return (approx_pi,)"
   ]
  },
  {
   "cell_type": "code",
   "execution_count": null,
   "metadata": {},
   "outputs": [],
   "source": [
    "N = 10\n",
    "approx_pi = compute_pi_mc(N)\n",
    "print(approx_pi)"
   ]
  },
  {
   "cell_type": "code",
   "execution_count": null,
   "metadata": {},
   "outputs": [],
   "source": [
    "i"
   ]
  }
 ],
 "metadata": {
  "colab": {
   "authorship_tag": "ABX9TyMaQ+FmnlTVqxuTKHamfHew",
   "provenance": [
    {
     "file_id": "1G75PnfeviVwNpIJ3_FoEGda6oMLwaGRv",
     "timestamp": 1688380409510
    }
   ]
  },
  "kernelspec": {
   "display_name": "Python 3 (ipykernel)",
   "language": "python",
   "name": "python3"
  },
  "language_info": {
   "codemirror_mode": {
    "name": "ipython",
    "version": 3
   },
   "file_extension": ".py",
   "mimetype": "text/x-python",
   "name": "python",
   "nbconvert_exporter": "python",
   "pygments_lexer": "ipython3",
   "version": "3.11.1"
  }
 },
 "nbformat": 4,
 "nbformat_minor": 1
}
