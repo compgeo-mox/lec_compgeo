{
 "cells": [
  {
   "cell_type": "markdown",
   "metadata": {},
   "source": [
    "Credits: Edie Miglio"
   ]
  },
  {
   "cell_type": "markdown",
   "metadata": {
    "id": "sz93POM5ScAa"
   },
   "source": [
    "# Introduction to Python"
   ]
  },
  {
   "cell_type": "markdown",
   "metadata": {
    "id": "OK1p_S0lJ78O"
   },
   "source": [
    "Python is an interpreted language. For the pourposes of this course I suggest you to use either [Colab](https://colab.research.google.com/) or install [Anaconda](https://www.anaconda.com/).\n",
    "\n",
    "The approach we will adopt is based on the resolution of small problems and projects. In each project we will introduce some features of the language. The course will focus on the use of Python for managing data and for implementing mathematical algorithms.\n",
    "\n"
   ]
  },
  {
   "cell_type": "markdown",
   "metadata": {
    "id": "xDKqpMT3qxpN"
   },
   "source": [
    "## Project 1: Fahrenheit to Celsius"
   ]
  },
  {
   "cell_type": "markdown",
   "metadata": {
    "id": "Dy5bCjLoFfFm"
   },
   "source": [
    "**Skills**:\n",
    "\n",
    "*   input from the command line\n",
    "*   casting (string to float)\n",
    "*   variable assignements\n",
    "*   simple math formulas\n",
    "*   print\n",
    "*   functions\n",
    "* importance of the indentation\n",
    "\n"
   ]
  },
  {
   "cell_type": "markdown",
   "metadata": {
    "id": "XGg8naNjq4h7"
   },
   "source": [
    "**Problem**: ask the user a temperature in Fahrenheit and print the corresponding Celsius value using the the formula\n",
    "$$\n",
    "^\\circ C = \\frac{5}{9}(^\\circ F - 32).\n",
    "$$"
   ]
  },
  {
   "cell_type": "code",
   "execution_count": null,
   "metadata": {
    "colab": {
     "base_uri": "https://localhost:8080/"
    },
    "executionInfo": {
     "elapsed": 48518,
     "status": "ok",
     "timestamp": 1668601638790,
     "user": {
      "displayName": "Edie Miglio",
      "userId": "11723019705501296075"
     },
     "user_tz": -60
    },
    "id": "xyk5WoT2Jm0L",
    "outputId": "279a7e6b-3110-4b97-9394-613602bb3aa5",
    "tags": [
     "hide-input"
    ]
   },
   "outputs": [
    {
     "name": "stdout",
     "output_type": "stream",
     "text": [
      "-17.22222222222222\n"
     ]
    }
   ],
   "source": [
    "# Ask the user the Fahrenheit temperarature. Notice that the input given by the\n",
    "# user is a string\n",
    "fahrenheit_string = input(\"Enter the temperature in Fahrenheit:\")\n",
    "# Convert the string to number (casting)\n",
    "fahrenheit = float(fahrenheit_string)\n",
    "# Use the conversion formula to find the Celsius temperature\n",
    "celsius = (fahrenheit - 32) * 5 / 9\n",
    "# Print the Celsius value\n",
    "print(celsius)"
   ]
  },
  {
   "cell_type": "markdown",
   "metadata": {
    "id": "DQxHPLCftKD-"
   },
   "source": [
    "The problem with the implementation we have just seen is that if we want to perform multiple conversion we ha to re-run the cell. In order to have a tool that can be called many times in an easy way we can create a **function**: a function is defined by the keyword <code>def</code>. Let us see how we can change the implementation making use of the function concept."
   ]
  },
  {
   "cell_type": "code",
   "execution_count": null,
   "metadata": {
    "id": "UHNaOVXDsDA5"
   },
   "outputs": [],
   "source": [
    "# NOTE the indentation!\n",
    "def convert(s):  # Definition of the function with the input parameter(s)\n",
    "    f = float(s)\n",
    "    c = (f - 32) * 5 / 9\n",
    "    return c  # Return the Celsius temperature"
   ]
  },
  {
   "cell_type": "markdown",
   "metadata": {
    "id": "mu0Cs0KQz4B3"
   },
   "source": [
    "Let us now use the new defined function."
   ]
  },
  {
   "cell_type": "code",
   "execution_count": null,
   "metadata": {
    "colab": {
     "base_uri": "https://localhost:8080/"
    },
    "executionInfo": {
     "elapsed": 6136,
     "status": "ok",
     "timestamp": 1668602002959,
     "user": {
      "displayName": "Edie Miglio",
      "userId": "11723019705501296075"
     },
     "user_tz": -60
    },
    "id": "_nfGUAmEz_wG",
    "outputId": "d67fffc8-9330-429f-8e0a-5930234a599c"
   },
   "outputs": [
    {
     "name": "stdout",
     "output_type": "stream",
     "text": [
      "-17.22222222222222\n"
     ]
    }
   ],
   "source": [
    "# Ask the user the Fahrenheit temperarature. Notice that the input given\n",
    "# by the user is a string\n",
    "fahrenheit_string = input(\"Enter the temperature in Fahrenheit:\")\n",
    "celsius = convert(fahrenheit_string)  # Call the function\n",
    "print(celsius)"
   ]
  },
  {
   "cell_type": "markdown",
   "metadata": {
    "id": "j1X_hzwAvqPN"
   },
   "source": [
    "**Exercise 1** Write a Python function for converting from Kelvin to Fahrenheit. The formula is\n",
    "$$\n",
    "F = 1.8(K-273.15) + 32.\n",
    "$$"
   ]
  },
  {
   "cell_type": "code",
   "execution_count": 5,
   "metadata": {
    "colab": {
     "base_uri": "https://localhost:8080/"
    },
    "executionInfo": {
     "elapsed": 436,
     "status": "ok",
     "timestamp": 1668603462000,
     "user": {
      "displayName": "Edie Miglio",
      "userId": "11723019705501296075"
     },
     "user_tz": -60
    },
    "id": "m2RxWTL_g8jk",
    "outputId": "8ac38d05-ad56-41aa-9332-5cb1b923ce7e"
   },
   "outputs": [
    {
     "ename": "NameError",
     "evalue": "name 'convert1' is not defined",
     "output_type": "error",
     "traceback": [
      "\u001b[0;31m---------------------------------------------------------------------------\u001b[0m",
      "\u001b[0;31mNameError\u001b[0m                                 Traceback (most recent call last)",
      "Cell \u001b[0;32mIn[5], line 1\u001b[0m\n\u001b[0;32m----> 1\u001b[0m \u001b[43mconvert1\u001b[49m(\u001b[38;5;124m\"\u001b[39m\u001b[38;5;124m555\u001b[39m\u001b[38;5;124m\"\u001b[39m)\n",
      "\u001b[0;31mNameError\u001b[0m: name 'convert1' is not defined"
     ]
    }
   ],
   "source": [
    "convert1(\"555\")"
   ]
  },
  {
   "cell_type": "code",
   "execution_count": 70,
   "metadata": {
    "id": "Zu7FvxAFdB9J"
   },
   "outputs": [],
   "source": [
    "def convert1(s):  # Definition of the function with the input parameter(s)\n",
    "    k = float(s)\n",
    "    f = 1.8 * (k - 273.15) + 32\n",
    "    return f"
   ]
  },
  {
   "cell_type": "code",
   "execution_count": 71,
   "metadata": {
    "colab": {
     "base_uri": "https://localhost:8080/"
    },
    "executionInfo": {
     "elapsed": 3165,
     "status": "ok",
     "timestamp": 1668603428758,
     "user": {
      "displayName": "Edie Miglio",
      "userId": "11723019705501296075"
     },
     "user_tz": -60
    },
    "id": "M1H9o8MLfxoj",
    "outputId": "8f58aadb-7da8-4118-e9bb-866f1d34126f"
   },
   "outputs": [
    {
     "name": "stdout",
     "output_type": "stream",
     "text": [
      "The temperature in F is: -457.86999999999995\n"
     ]
    }
   ],
   "source": [
    "kelvin_string = input(\"Enter the temperature in Kelvin:\")\n",
    "farhenheit = convert1(kelvin_string)  # Call the function\n",
    "print(\"The temperature in F is:\", farhenheit)"
   ]
  },
  {
   "cell_type": "markdown",
   "metadata": {
    "id": "mYGJguvhnmY7"
   },
   "source": [
    "## Project 2: van der Waals equation"
   ]
  },
  {
   "cell_type": "markdown",
   "metadata": {
    "id": "xIytalRuqtmY"
   },
   "source": [
    "The van der Waals equation of state is a modification of the ideal gas law and i takes into account also the molecular size and the molecular interaction forces. This equation can be written as\n",
    "$$\n",
    "\\left[P+a\\left(\\frac{n}{V}\\right)^2\\right]\\left(V-nb\\right)=nRT,\n",
    "$$\n",
    "where $P\\,[Pa]$ is the pressure, $V \\, [m^3]$ is the volume, $T [K]$ is the temperature, $n$ is the number of moles, $R=8,314 \\, [J / (mol ∙ K)] $ is the gas constant, finally $a [Pa \\, m^6/mol^2]$ and $b [m^3/mol]$ are the van der Waals coefficients characterizing different gases. In the following table values of $a$ and $b$ are reported for some gases.\n",
    "\n"
   ]
  },
  {
   "cell_type": "markdown",
   "metadata": {
    "id": "2soVgR7SZVwo"
   },
   "source": [
    "Gas            |     a   | b\n",
    "---------------|---------|---------\n",
    "Helium         | 3.46e-3 | 23.71e-6\n",
    "Neon           | 2.12e-2 | 17.10e-6\n",
    "Hydrogen       | 2.45e-2 | 26.61e-6\n",
    "Carbon dioxide | 3.96e-1 | 42.69e-6\n",
    "Water vapor    | 5.47e-1 | 30.52e-6\n",
    "Oxygen         | 1.38e-1 | 31.86e-6"
   ]
  },
  {
   "cell_type": "markdown",
   "metadata": {
    "id": "Jw5-n_bHGZwZ"
   },
   "source": [
    "**Skills**.\n",
    "\n",
    "*   Function with many input parameters\n",
    "* Help\n",
    "* Simple formatting\n",
    "*   Optional input arguments and default values\n",
    "* Positional and keyword arguments"
   ]
  },
  {
   "cell_type": "markdown",
   "metadata": {
    "id": "bLp-AmRHb_MY"
   },
   "source": [
    "**Problem**: write a Python function that computes the pressure given the temperature and the volume for a real gas. The input parameters of the function should be $T, V, n, a$ and $b$; the output is the pressure $P$."
   ]
  },
  {
   "cell_type": "code",
   "execution_count": null,
   "metadata": {
    "id": "-9nCGLb_qrdv"
   },
   "outputs": [],
   "source": [
    "def vanderwaals(T, V, n, a, b):\n",
    "    R = 8.314\n",
    "    P = n * R * T / (V - n * b) - a * n**2 / V**2\n",
    "    return P"
   ]
  },
  {
   "cell_type": "markdown",
   "metadata": {
    "id": "D2l3qRPHe-ou"
   },
   "source": [
    "Let us compute the pressure exerted by $1 \\, mol$ of $O_2$ confined in a volume of $0.001 \\, m^3$ at $T=273.15 \\, K$."
   ]
  },
  {
   "cell_type": "code",
   "execution_count": null,
   "metadata": {
    "colab": {
     "base_uri": "https://localhost:8080/"
    },
    "executionInfo": {
     "elapsed": 256,
     "status": "ok",
     "timestamp": 1668604507968,
     "user": {
      "displayName": "Edie Miglio",
      "userId": "11723019705501296075"
     },
     "user_tz": -60
    },
    "id": "82_fG8r5eW_e",
    "outputId": "1ef039bb-9684-4667-8ae3-bad468ddd513"
   },
   "outputs": [
    {
     "name": "stdout",
     "output_type": "stream",
     "text": [
      "2207703.204082054\n"
     ]
    }
   ],
   "source": [
    "P = vanderwaals(273.15, 0.001, 1, 1.38e-1, 31.86e-6)\n",
    "print(P)"
   ]
  },
  {
   "cell_type": "markdown",
   "metadata": {
    "id": "iiLcgyC1sLUq"
   },
   "source": [
    "If you want to visualize the result in scientific notation you can use <code>format</code>. Let us see the help."
   ]
  },
  {
   "cell_type": "code",
   "execution_count": 9,
   "metadata": {
    "colab": {
     "base_uri": "https://localhost:8080/"
    },
    "executionInfo": {
     "elapsed": 239,
     "status": "ok",
     "timestamp": 1668604546768,
     "user": {
      "displayName": "Edie Miglio",
      "userId": "11723019705501296075"
     },
     "user_tz": -60
    },
    "id": "qELy26TNs3xK",
    "outputId": "e8823942-5859-4230-aae1-c7bf41adcdd5"
   },
   "outputs": [
    {
     "name": "stdout",
     "output_type": "stream",
     "text": [
      "Help on built-in function format in module builtins:\n",
      "\n",
      "format(value, format_spec='', /)\n",
      "    Return type(value).__format__(value, format_spec)\n",
      "\n",
      "    Many built-in types implement format_spec according to the\n",
      "    Format Specification Mini-language. See help('FORMATTING').\n",
      "\n",
      "    If type(value) does not supply a method named __format__\n",
      "    and format_spec is empty, then str(value) is returned.\n",
      "    See also help('SPECIALMETHODS').\n",
      "\n"
     ]
    }
   ],
   "source": [
    "help(format)"
   ]
  },
  {
   "cell_type": "code",
   "execution_count": null,
   "metadata": {
    "colab": {
     "base_uri": "https://localhost:8080/"
    },
    "executionInfo": {
     "elapsed": 413,
     "status": "ok",
     "timestamp": 1668604564869,
     "user": {
      "displayName": "Edie Miglio",
      "userId": "11723019705501296075"
     },
     "user_tz": -60
    },
    "id": "cxUJk8H5s7su",
    "outputId": "8efc5430-73ad-4b74-b52d-8d6b294c8bf9"
   },
   "outputs": [
    {
     "name": "stdout",
     "output_type": "stream",
     "text": [
      "Format String Syntax\n",
      "********************\n",
      "\n",
      "The \"str.format()\" method and the \"Formatter\" class share the same\n",
      "syntax for format strings (although in the case of \"Formatter\",\n",
      "subclasses can define their own format string syntax).  The syntax is\n",
      "related to that of formatted string literals, but it is less\n",
      "sophisticated and, in particular, does not support arbitrary\n",
      "expressions.\n",
      "\n",
      "Format strings contain “replacement fields” surrounded by curly braces\n",
      "\"{}\". Anything that is not contained in braces is considered literal\n",
      "text, which is copied unchanged to the output.  If you need to include\n",
      "a brace character in the literal text, it can be escaped by doubling:\n",
      "\"{{\" and \"}}\".\n",
      "\n",
      "The grammar for a replacement field is as follows:\n",
      "\n",
      "   replacement_field ::= \"{\" [field_name] [\"!\" conversion] [\":\" format_spec] \"}\"\n",
      "   field_name        ::= arg_name (\".\" attribute_name | \"[\" element_index \"]\")*\n",
      "   arg_name          ::= [identifier | digit+]\n",
      "   attribute_name    ::= identifier\n",
      "   element_index     ::= digit+ | index_string\n",
      "   index_string      ::= <any source character except \"]\"> +\n",
      "   conversion        ::= \"r\" | \"s\" | \"a\"\n",
      "   format_spec       ::= format-spec:format_spec\n",
      "\n",
      "In less formal terms, the replacement field can start with a\n",
      "*field_name* that specifies the object whose value is to be formatted\n",
      "and inserted into the output instead of the replacement field. The\n",
      "*field_name* is optionally followed by a  *conversion* field, which is\n",
      "preceded by an exclamation point \"'!'\", and a *format_spec*, which is\n",
      "preceded by a colon \"':'\".  These specify a non-default format for the\n",
      "replacement value.\n",
      "\n",
      "See also the Format Specification Mini-Language section.\n",
      "\n",
      "The *field_name* itself begins with an *arg_name* that is either a\n",
      "number or a keyword.  If it’s a number, it refers to a positional\n",
      "argument, and if it’s a keyword, it refers to a named keyword\n",
      "argument. An *arg_name* is treated as a number if a call to\n",
      "\"str.isdecimal()\" on the string would return true. If the numerical\n",
      "arg_names in a format string are 0, 1, 2, … in sequence, they can all\n",
      "be omitted (not just some) and the numbers 0, 1, 2, … will be\n",
      "automatically inserted in that order. Because *arg_name* is not quote-\n",
      "delimited, it is not possible to specify arbitrary dictionary keys\n",
      "(e.g., the strings \"'10'\" or \"':-]'\") within a format string. The\n",
      "*arg_name* can be followed by any number of index or attribute\n",
      "expressions. An expression of the form \"'.name'\" selects the named\n",
      "attribute using \"getattr()\", while an expression of the form\n",
      "\"'[index]'\" does an index lookup using \"__getitem__()\".\n",
      "\n",
      "Changed in version 3.1: The positional argument specifiers can be\n",
      "omitted for \"str.format()\", so \"'{} {}'.format(a, b)\" is equivalent to\n",
      "\"'{0} {1}'.format(a, b)\".\n",
      "\n",
      "Changed in version 3.4: The positional argument specifiers can be\n",
      "omitted for \"Formatter\".\n",
      "\n",
      "Some simple format string examples:\n",
      "\n",
      "   \"First, thou shalt count to {0}\"  # References first positional argument\n",
      "   \"Bring me a {}\"                   # Implicitly references the first positional argument\n",
      "   \"From {} to {}\"                   # Same as \"From {0} to {1}\"\n",
      "   \"My quest is {name}\"              # References keyword argument 'name'\n",
      "   \"Weight in tons {0.weight}\"       # 'weight' attribute of first positional arg\n",
      "   \"Units destroyed: {players[0]}\"   # First element of keyword argument 'players'.\n",
      "\n",
      "The *conversion* field causes a type coercion before formatting.\n",
      "Normally, the job of formatting a value is done by the \"__format__()\"\n",
      "method of the value itself.  However, in some cases it is desirable to\n",
      "force a type to be formatted as a string, overriding its own\n",
      "definition of formatting.  By converting the value to a string before\n",
      "calling \"__format__()\", the normal formatting logic is bypassed.\n",
      "\n",
      "Three conversion flags are currently supported: \"'!s'\" which calls\n",
      "\"str()\" on the value, \"'!r'\" which calls \"repr()\" and \"'!a'\" which\n",
      "calls \"ascii()\".\n",
      "\n",
      "Some examples:\n",
      "\n",
      "   \"Harold's a clever {0!s}\"        # Calls str() on the argument first\n",
      "   \"Bring out the holy {name!r}\"    # Calls repr() on the argument first\n",
      "   \"More {!a}\"                      # Calls ascii() on the argument first\n",
      "\n",
      "The *format_spec* field contains a specification of how the value\n",
      "should be presented, including such details as field width, alignment,\n",
      "padding, decimal precision and so on.  Each value type can define its\n",
      "own “formatting mini-language” or interpretation of the *format_spec*.\n",
      "\n",
      "Most built-in types support a common formatting mini-language, which\n",
      "is described in the next section.\n",
      "\n",
      "A *format_spec* field can also include nested replacement fields\n",
      "within it. These nested replacement fields may contain a field name,\n",
      "conversion flag and format specification, but deeper nesting is not\n",
      "allowed.  The replacement fields within the format_spec are\n",
      "substituted before the *format_spec* string is interpreted. This\n",
      "allows the formatting of a value to be dynamically specified.\n",
      "\n",
      "See the Format examples section for some examples.\n",
      "\n",
      "\n",
      "Format Specification Mini-Language\n",
      "==================================\n",
      "\n",
      "“Format specifications” are used within replacement fields contained\n",
      "within a format string to define how individual values are presented\n",
      "(see Format String Syntax and f-strings). They can also be passed\n",
      "directly to the built-in \"format()\" function.  Each formattable type\n",
      "may define how the format specification is to be interpreted.\n",
      "\n",
      "Most built-in types implement the following options for format\n",
      "specifications, although some of the formatting options are only\n",
      "supported by the numeric types.\n",
      "\n",
      "A general convention is that an empty format specification produces\n",
      "the same result as if you had called \"str()\" on the value. A non-empty\n",
      "format specification typically modifies the result.\n",
      "\n",
      "The general form of a *standard format specifier* is:\n",
      "\n",
      "   format_spec     ::= [[fill]align][sign][\"z\"][\"#\"][\"0\"][width][grouping_option][\".\" precision][type]\n",
      "   fill            ::= <any character>\n",
      "   align           ::= \"<\" | \">\" | \"=\" | \"^\"\n",
      "   sign            ::= \"+\" | \"-\" | \" \"\n",
      "   width           ::= digit+\n",
      "   grouping_option ::= \"_\" | \",\"\n",
      "   precision       ::= digit+\n",
      "   type            ::= \"b\" | \"c\" | \"d\" | \"e\" | \"E\" | \"f\" | \"F\" | \"g\" | \"G\" | \"n\" | \"o\" | \"s\" | \"x\" | \"X\" | \"%\"\n",
      "\n",
      "If a valid *align* value is specified, it can be preceded by a *fill*\n",
      "character that can be any character and defaults to a space if\n",
      "omitted. It is not possible to use a literal curly brace (”\"{\"” or\n",
      "“\"}\"”) as the *fill* character in a formatted string literal or when\n",
      "using the \"str.format()\" method.  However, it is possible to insert a\n",
      "curly brace with a nested replacement field.  This limitation doesn’t\n",
      "affect the \"format()\" function.\n",
      "\n",
      "The meaning of the various alignment options is as follows:\n",
      "\n",
      "+-----------+------------------------------------------------------------+\n",
      "| Option    | Meaning                                                    |\n",
      "|===========|============================================================|\n",
      "| \"'<'\"     | Forces the field to be left-aligned within the available   |\n",
      "|           | space (this is the default for most objects).              |\n",
      "+-----------+------------------------------------------------------------+\n",
      "| \"'>'\"     | Forces the field to be right-aligned within the available  |\n",
      "|           | space (this is the default for numbers).                   |\n",
      "+-----------+------------------------------------------------------------+\n",
      "| \"'='\"     | Forces the padding to be placed after the sign (if any)    |\n",
      "|           | but before the digits.  This is used for printing fields   |\n",
      "|           | in the form ‘+000000120’. This alignment option is only    |\n",
      "|           | valid for numeric types.  It becomes the default for       |\n",
      "|           | numbers when ‘0’ immediately precedes the field width.     |\n",
      "+-----------+------------------------------------------------------------+\n",
      "| \"'^'\"     | Forces the field to be centered within the available       |\n",
      "|           | space.                                                     |\n",
      "+-----------+------------------------------------------------------------+\n",
      "\n",
      "Note that unless a minimum field width is defined, the field width\n",
      "will always be the same size as the data to fill it, so that the\n",
      "alignment option has no meaning in this case.\n",
      "\n",
      "The *sign* option is only valid for number types, and can be one of\n",
      "the following:\n",
      "\n",
      "+-----------+------------------------------------------------------------+\n",
      "| Option    | Meaning                                                    |\n",
      "|===========|============================================================|\n",
      "| \"'+'\"     | indicates that a sign should be used for both positive as  |\n",
      "|           | well as negative numbers.                                  |\n",
      "+-----------+------------------------------------------------------------+\n",
      "| \"'-'\"     | indicates that a sign should be used only for negative     |\n",
      "|           | numbers (this is the default behavior).                    |\n",
      "+-----------+------------------------------------------------------------+\n",
      "| space     | indicates that a leading space should be used on positive  |\n",
      "|           | numbers, and a minus sign on negative numbers.             |\n",
      "+-----------+------------------------------------------------------------+\n",
      "\n",
      "The \"'z'\" option coerces negative zero floating-point values to\n",
      "positive zero after rounding to the format precision.  This option is\n",
      "only valid for floating-point presentation types.\n",
      "\n",
      "Changed in version 3.11: Added the \"'z'\" option (see also **PEP\n",
      "682**).\n",
      "\n",
      "The \"'#'\" option causes the “alternate form” to be used for the\n",
      "conversion.  The alternate form is defined differently for different\n",
      "types.  This option is only valid for integer, float and complex\n",
      "types. For integers, when binary, octal, or hexadecimal output is\n",
      "used, this option adds the respective prefix \"'0b'\", \"'0o'\", \"'0x'\",\n",
      "or \"'0X'\" to the output value. For float and complex the alternate\n",
      "form causes the result of the conversion to always contain a decimal-\n",
      "point character, even if no digits follow it. Normally, a decimal-\n",
      "point character appears in the result of these conversions only if a\n",
      "digit follows it. In addition, for \"'g'\" and \"'G'\" conversions,\n",
      "trailing zeros are not removed from the result.\n",
      "\n",
      "The \"','\" option signals the use of a comma for a thousands separator.\n",
      "For a locale aware separator, use the \"'n'\" integer presentation type\n",
      "instead.\n",
      "\n",
      "Changed in version 3.1: Added the \"','\" option (see also **PEP 378**).\n",
      "\n",
      "The \"'_'\" option signals the use of an underscore for a thousands\n",
      "separator for floating-point presentation types and for integer\n",
      "presentation type \"'d'\".  For integer presentation types \"'b'\", \"'o'\",\n",
      "\"'x'\", and \"'X'\", underscores will be inserted every 4 digits.  For\n",
      "other presentation types, specifying this option is an error.\n",
      "\n",
      "Changed in version 3.6: Added the \"'_'\" option (see also **PEP 515**).\n",
      "\n",
      "*width* is a decimal integer defining the minimum total field width,\n",
      "including any prefixes, separators, and other formatting characters.\n",
      "If not specified, then the field width will be determined by the\n",
      "content.\n",
      "\n",
      "When no explicit alignment is given, preceding the *width* field by a\n",
      "zero (\"'0'\") character enables sign-aware zero-padding for numeric\n",
      "types.  This is equivalent to a *fill* character of \"'0'\" with an\n",
      "*alignment* type of \"'='\".\n",
      "\n",
      "Changed in version 3.10: Preceding the *width* field by \"'0'\" no\n",
      "longer affects the default alignment for strings.\n",
      "\n",
      "The *precision* is a decimal integer indicating how many digits should\n",
      "be displayed after the decimal point for presentation types \"'f'\" and\n",
      "\"'F'\", or before and after the decimal point for presentation types\n",
      "\"'g'\" or \"'G'\".  For string presentation types the field indicates the\n",
      "maximum field size - in other words, how many characters will be used\n",
      "from the field content.  The *precision* is not allowed for integer\n",
      "presentation types.\n",
      "\n",
      "Finally, the *type* determines how the data should be presented.\n",
      "\n",
      "The available string presentation types are:\n",
      "\n",
      "   +-----------+------------------------------------------------------------+\n",
      "   | Type      | Meaning                                                    |\n",
      "   |===========|============================================================|\n",
      "   | \"'s'\"     | String format. This is the default type for strings and    |\n",
      "   |           | may be omitted.                                            |\n",
      "   +-----------+------------------------------------------------------------+\n",
      "   | None      | The same as \"'s'\".                                         |\n",
      "   +-----------+------------------------------------------------------------+\n",
      "\n",
      "The available integer presentation types are:\n",
      "\n",
      "   +-----------+------------------------------------------------------------+\n",
      "   | Type      | Meaning                                                    |\n",
      "   |===========|============================================================|\n",
      "   | \"'b'\"     | Binary format. Outputs the number in base 2.               |\n",
      "   +-----------+------------------------------------------------------------+\n",
      "   | \"'c'\"     | Character. Converts the integer to the corresponding       |\n",
      "   |           | unicode character before printing.                         |\n",
      "   +-----------+------------------------------------------------------------+\n",
      "   | \"'d'\"     | Decimal Integer. Outputs the number in base 10.            |\n",
      "   +-----------+------------------------------------------------------------+\n",
      "   | \"'o'\"     | Octal format. Outputs the number in base 8.                |\n",
      "   +-----------+------------------------------------------------------------+\n",
      "   | \"'x'\"     | Hex format. Outputs the number in base 16, using lower-    |\n",
      "   |           | case letters for the digits above 9.                       |\n",
      "   +-----------+------------------------------------------------------------+\n",
      "   | \"'X'\"     | Hex format. Outputs the number in base 16, using upper-    |\n",
      "   |           | case letters for the digits above 9. In case \"'#'\" is      |\n",
      "   |           | specified, the prefix \"'0x'\" will be upper-cased to \"'0X'\" |\n",
      "   |           | as well.                                                   |\n",
      "   +-----------+------------------------------------------------------------+\n",
      "   | \"'n'\"     | Number. This is the same as \"'d'\", except that it uses the |\n",
      "   |           | current locale setting to insert the appropriate number    |\n",
      "   |           | separator characters.                                      |\n",
      "   +-----------+------------------------------------------------------------+\n",
      "   | None      | The same as \"'d'\".                                         |\n",
      "   +-----------+------------------------------------------------------------+\n",
      "\n",
      "In addition to the above presentation types, integers can be formatted\n",
      "with the floating-point presentation types listed below (except \"'n'\"\n",
      "and \"None\"). When doing so, \"float()\" is used to convert the integer\n",
      "to a floating-point number before formatting.\n",
      "\n",
      "The available presentation types for \"float\" and \"Decimal\" values are:\n",
      "\n",
      "   +-----------+------------------------------------------------------------+\n",
      "   | Type      | Meaning                                                    |\n",
      "   |===========|============================================================|\n",
      "   | \"'e'\"     | Scientific notation. For a given precision \"p\", formats    |\n",
      "   |           | the number in scientific notation with the letter ‘e’      |\n",
      "   |           | separating the coefficient from the exponent. The          |\n",
      "   |           | coefficient has one digit before and \"p\" digits after the  |\n",
      "   |           | decimal point, for a total of \"p + 1\" significant digits.  |\n",
      "   |           | With no precision given, uses a precision of \"6\" digits    |\n",
      "   |           | after the decimal point for \"float\", and shows all         |\n",
      "   |           | coefficient digits for \"Decimal\". If no digits follow the  |\n",
      "   |           | decimal point, the decimal point is also removed unless    |\n",
      "   |           | the \"#\" option is used.                                    |\n",
      "   +-----------+------------------------------------------------------------+\n",
      "   | \"'E'\"     | Scientific notation. Same as \"'e'\" except it uses an upper |\n",
      "   |           | case ‘E’ as the separator character.                       |\n",
      "   +-----------+------------------------------------------------------------+\n",
      "   | \"'f'\"     | Fixed-point notation. For a given precision \"p\", formats   |\n",
      "   |           | the number as a decimal number with exactly \"p\" digits     |\n",
      "   |           | following the decimal point. With no precision given, uses |\n",
      "   |           | a precision of \"6\" digits after the decimal point for      |\n",
      "   |           | \"float\", and uses a precision large enough to show all     |\n",
      "   |           | coefficient digits for \"Decimal\". If no digits follow the  |\n",
      "   |           | decimal point, the decimal point is also removed unless    |\n",
      "   |           | the \"#\" option is used.                                    |\n",
      "   +-----------+------------------------------------------------------------+\n",
      "   | \"'F'\"     | Fixed-point notation. Same as \"'f'\", but converts \"nan\" to |\n",
      "   |           | \"NAN\" and \"inf\" to \"INF\".                                  |\n",
      "   +-----------+------------------------------------------------------------+\n",
      "   | \"'g'\"     | General format.  For a given precision \"p >= 1\", this      |\n",
      "   |           | rounds the number to \"p\" significant digits and then       |\n",
      "   |           | formats the result in either fixed-point format or in      |\n",
      "   |           | scientific notation, depending on its magnitude. A         |\n",
      "   |           | precision of \"0\" is treated as equivalent to a precision   |\n",
      "   |           | of \"1\".  The precise rules are as follows: suppose that    |\n",
      "   |           | the result formatted with presentation type \"'e'\" and      |\n",
      "   |           | precision \"p-1\" would have exponent \"exp\".  Then, if \"m <= |\n",
      "   |           | exp < p\", where \"m\" is -4 for floats and -6 for            |\n",
      "   |           | \"Decimals\", the number is formatted with presentation type |\n",
      "   |           | \"'f'\" and precision \"p-1-exp\".  Otherwise, the number is   |\n",
      "   |           | formatted with presentation type \"'e'\" and precision       |\n",
      "   |           | \"p-1\". In both cases insignificant trailing zeros are      |\n",
      "   |           | removed from the significand, and the decimal point is     |\n",
      "   |           | also removed if there are no remaining digits following    |\n",
      "   |           | it, unless the \"'#'\" option is used.  With no precision    |\n",
      "   |           | given, uses a precision of \"6\" significant digits for      |\n",
      "   |           | \"float\". For \"Decimal\", the coefficient of the result is   |\n",
      "   |           | formed from the coefficient digits of the value;           |\n",
      "   |           | scientific notation is used for values smaller than \"1e-6\" |\n",
      "   |           | in absolute value and values where the place value of the  |\n",
      "   |           | least significant digit is larger than 1, and fixed-point  |\n",
      "   |           | notation is used otherwise.  Positive and negative         |\n",
      "   |           | infinity, positive and negative zero, and nans, are        |\n",
      "   |           | formatted as \"inf\", \"-inf\", \"0\", \"-0\" and \"nan\"            |\n",
      "   |           | respectively, regardless of the precision.                 |\n",
      "   +-----------+------------------------------------------------------------+\n",
      "   | \"'G'\"     | General format. Same as \"'g'\" except switches to \"'E'\" if  |\n",
      "   |           | the number gets too large. The representations of infinity |\n",
      "   |           | and NaN are uppercased, too.                               |\n",
      "   +-----------+------------------------------------------------------------+\n",
      "   | \"'n'\"     | Number. This is the same as \"'g'\", except that it uses the |\n",
      "   |           | current locale setting to insert the appropriate number    |\n",
      "   |           | separator characters.                                      |\n",
      "   +-----------+------------------------------------------------------------+\n",
      "   | \"'%'\"     | Percentage. Multiplies the number by 100 and displays in   |\n",
      "   |           | fixed (\"'f'\") format, followed by a percent sign.          |\n",
      "   +-----------+------------------------------------------------------------+\n",
      "   | None      | For \"float\" this is like the \"'g'\" type, except that when  |\n",
      "   |           | fixed- point notation is used to format the result, it     |\n",
      "   |           | always includes at least one digit past the decimal point, |\n",
      "   |           | and switches to the scientific notation when \"exp >= p -   |\n",
      "   |           | 1\".  When the precision is not specified, the latter will  |\n",
      "   |           | be as large as needed to represent the given value         |\n",
      "   |           | faithfully.  For \"Decimal\", this is the same as either     |\n",
      "   |           | \"'g'\" or \"'G'\" depending on the value of                   |\n",
      "   |           | \"context.capitals\" for the current decimal context.  The   |\n",
      "   |           | overall effect is to match the output of \"str()\" as        |\n",
      "   |           | altered by the other format modifiers.                     |\n",
      "   +-----------+------------------------------------------------------------+\n",
      "\n",
      "\n",
      "Format examples\n",
      "===============\n",
      "\n",
      "This section contains examples of the \"str.format()\" syntax and\n",
      "comparison with the old \"%\"-formatting.\n",
      "\n",
      "In most of the cases the syntax is similar to the old \"%\"-formatting,\n",
      "with the addition of the \"{}\" and with \":\" used instead of \"%\". For\n",
      "example, \"'%03.2f'\" can be translated to \"'{:03.2f}'\".\n",
      "\n",
      "The new format syntax also supports new and different options, shown\n",
      "in the following examples.\n",
      "\n",
      "Accessing arguments by position:\n",
      "\n",
      "   >>> '{0}, {1}, {2}'.format('a', 'b', 'c')\n",
      "   'a, b, c'\n",
      "   >>> '{}, {}, {}'.format('a', 'b', 'c')  # 3.1+ only\n",
      "   'a, b, c'\n",
      "   >>> '{2}, {1}, {0}'.format('a', 'b', 'c')\n",
      "   'c, b, a'\n",
      "   >>> '{2}, {1}, {0}'.format(*'abc')      # unpacking argument sequence\n",
      "   'c, b, a'\n",
      "   >>> '{0}{1}{0}'.format('abra', 'cad')   # arguments' indices can be repeated\n",
      "   'abracadabra'\n",
      "\n",
      "Accessing arguments by name:\n",
      "\n",
      "   >>> 'Coordinates: {latitude}, {longitude}'.format(latitude='37.24N', longitude='-115.81W')\n",
      "   'Coordinates: 37.24N, -115.81W'\n",
      "   >>> coord = {'latitude': '37.24N', 'longitude': '-115.81W'}\n",
      "   >>> 'Coordinates: {latitude}, {longitude}'.format(**coord)\n",
      "   'Coordinates: 37.24N, -115.81W'\n",
      "\n",
      "Accessing arguments’ attributes:\n",
      "\n",
      "   >>> c = 3-5j\n",
      "   >>> ('The complex number {0} is formed from the real part {0.real} '\n",
      "   ...  'and the imaginary part {0.imag}.').format(c)\n",
      "   'The complex number (3-5j) is formed from the real part 3.0 and the imaginary part -5.0.'\n",
      "   >>> class Point:\n",
      "   ...     def __init__(self, x, y):\n",
      "   ...         self.x, self.y = x, y\n",
      "   ...     def __str__(self):\n",
      "   ...         return 'Point({self.x}, {self.y})'.format(self=self)\n",
      "   ...\n",
      "   >>> str(Point(4, 2))\n",
      "   'Point(4, 2)'\n",
      "\n",
      "Accessing arguments’ items:\n",
      "\n",
      "   >>> coord = (3, 5)\n",
      "   >>> 'X: {0[0]};  Y: {0[1]}'.format(coord)\n",
      "   'X: 3;  Y: 5'\n",
      "\n",
      "Replacing \"%s\" and \"%r\":\n",
      "\n",
      "   >>> \"repr() shows quotes: {!r}; str() doesn't: {!s}\".format('test1', 'test2')\n",
      "   \"repr() shows quotes: 'test1'; str() doesn't: test2\"\n",
      "\n",
      "Aligning the text and specifying a width:\n",
      "\n",
      "   >>> '{:<30}'.format('left aligned')\n",
      "   'left aligned                  '\n",
      "   >>> '{:>30}'.format('right aligned')\n",
      "   '                 right aligned'\n",
      "   >>> '{:^30}'.format('centered')\n",
      "   '           centered           '\n",
      "   >>> '{:*^30}'.format('centered')  # use '*' as a fill char\n",
      "   '***********centered***********'\n",
      "\n",
      "Replacing \"%+f\", \"%-f\", and \"% f\" and specifying a sign:\n",
      "\n",
      "   >>> '{:+f}; {:+f}'.format(3.14, -3.14)  # show it always\n",
      "   '+3.140000; -3.140000'\n",
      "   >>> '{: f}; {: f}'.format(3.14, -3.14)  # show a space for positive numbers\n",
      "   ' 3.140000; -3.140000'\n",
      "   >>> '{:-f}; {:-f}'.format(3.14, -3.14)  # show only the minus -- same as '{:f}; {:f}'\n",
      "   '3.140000; -3.140000'\n",
      "\n",
      "Replacing \"%x\" and \"%o\" and converting the value to different bases:\n",
      "\n",
      "   >>> # format also supports binary numbers\n",
      "   >>> \"int: {0:d};  hex: {0:x};  oct: {0:o};  bin: {0:b}\".format(42)\n",
      "   'int: 42;  hex: 2a;  oct: 52;  bin: 101010'\n",
      "   >>> # with 0x, 0o, or 0b as prefix:\n",
      "   >>> \"int: {0:d};  hex: {0:#x};  oct: {0:#o};  bin: {0:#b}\".format(42)\n",
      "   'int: 42;  hex: 0x2a;  oct: 0o52;  bin: 0b101010'\n",
      "\n",
      "Using the comma as a thousands separator:\n",
      "\n",
      "   >>> '{:,}'.format(1234567890)\n",
      "   '1,234,567,890'\n",
      "\n",
      "Expressing a percentage:\n",
      "\n",
      "   >>> points = 19\n",
      "   >>> total = 22\n",
      "   >>> 'Correct answers: {:.2%}'.format(points/total)\n",
      "   'Correct answers: 86.36%'\n",
      "\n",
      "Using type-specific formatting:\n",
      "\n",
      "   >>> import datetime\n",
      "   >>> d = datetime.datetime(2010, 7, 4, 12, 15, 58)\n",
      "   >>> '{:%Y-%m-%d %H:%M:%S}'.format(d)\n",
      "   '2010-07-04 12:15:58'\n",
      "\n",
      "Nesting arguments and more complex examples:\n",
      "\n",
      "   >>> for align, text in zip('<^>', ['left', 'center', 'right']):\n",
      "   ...     '{0:{fill}{align}16}'.format(text, fill=align, align=align)\n",
      "   ...\n",
      "   'left<<<<<<<<<<<<'\n",
      "   '^^^^^center^^^^^'\n",
      "   '>>>>>>>>>>>right'\n",
      "   >>>\n",
      "   >>> octets = [192, 168, 0, 1]\n",
      "   >>> '{:02X}{:02X}{:02X}{:02X}'.format(*octets)\n",
      "   'C0A80001'\n",
      "   >>> int(_, 16)\n",
      "   3232235521\n",
      "   >>>\n",
      "   >>> width = 5\n",
      "   >>> for num in range(5,12): \n",
      "   ...     for base in 'dXob':\n",
      "   ...         print('{0:{width}{base}}'.format(num, base=base, width=width), end=' ')\n",
      "   ...     print()\n",
      "   ...\n",
      "       5     5     5   101\n",
      "       6     6     6   110\n",
      "       7     7     7   111\n",
      "       8     8    10  1000\n",
      "       9     9    11  1001\n",
      "      10     A    12  1010\n",
      "      11     B    13  1011\n",
      "\n",
      "Related help topics: OPERATORS\n",
      "\n"
     ]
    }
   ],
   "source": [
    "help(\"FORMATTING\")"
   ]
  },
  {
   "cell_type": "code",
   "execution_count": null,
   "metadata": {
    "colab": {
     "base_uri": "https://localhost:8080/"
    },
    "executionInfo": {
     "elapsed": 329,
     "status": "ok",
     "timestamp": 1668604701953,
     "user": {
      "displayName": "Edie Miglio",
      "userId": "11723019705501296075"
     },
     "user_tz": -60
    },
    "id": "qGQyDMqXqQti",
    "outputId": "cf2641fe-3a1e-4c61-88cd-2e42e27f16bb"
   },
   "outputs": [
    {
     "name": "stdout",
     "output_type": "stream",
     "text": [
      "2.207703e+06\n"
     ]
    }
   ],
   "source": [
    "P_sn = \"{:e}\".format(P)\n",
    "print(P_sn)"
   ]
  },
  {
   "cell_type": "markdown",
   "metadata": {
    "id": "yh1UkevPtCaY"
   },
   "source": [
    "Let us now suppose we want to modify the previous function in such a way that, by default, $a$ and $b$ are assigned the values relative to the oxygen and the user con override these default values."
   ]
  },
  {
   "cell_type": "code",
   "execution_count": null,
   "metadata": {
    "id": "ufd1u0Kmtkeg"
   },
   "outputs": [],
   "source": [
    "def vanderwaals1(T, V, n, a=1.38e-1, b=31.86e-6):\n",
    "    R = 8.314\n",
    "    P = n * R * T / (V - n * b) - a * n**2 / V**2\n",
    "    return P"
   ]
  },
  {
   "cell_type": "code",
   "execution_count": 13,
   "metadata": {
    "colab": {
     "base_uri": "https://localhost:8080/"
    },
    "executionInfo": {
     "elapsed": 325,
     "status": "ok",
     "timestamp": 1668604850514,
     "user": {
      "displayName": "Edie Miglio",
      "userId": "11723019705501296075"
     },
     "user_tz": -60
    },
    "id": "IMlAk_upt2Uz",
    "outputId": "81aa5e1d-3df7-4dd3-9aea-86317956203f"
   },
   "outputs": [
    {
     "name": "stdout",
     "output_type": "stream",
     "text": [
      "2.207703e+06\n"
     ]
    }
   ],
   "source": [
    "P = vanderwaals1(273.15, 0.001, 1)\n",
    "print(\"{:e}\".format(P))"
   ]
  },
  {
   "cell_type": "markdown",
   "metadata": {
    "id": "Oqqu2UKKuH9p"
   },
   "source": [
    "Now let us suppose we want to compute the pressure exerted by $1 \\, mol$  of  Helium confined in a volume of  $0.001\\,m^3$  at  $T=273.15 \\, K$."
   ]
  },
  {
   "cell_type": "code",
   "execution_count": 14,
   "metadata": {
    "colab": {
     "base_uri": "https://localhost:8080/"
    },
    "executionInfo": {
     "elapsed": 247,
     "status": "ok",
     "timestamp": 1668604941606,
     "user": {
      "displayName": "Edie Miglio",
      "userId": "11723019705501296075"
     },
     "user_tz": -60
    },
    "id": "YWyFNNz6uFum",
    "outputId": "eb7bec5f-e954-4ba5-d7fb-e1631b75ff21"
   },
   "outputs": [
    {
     "name": "stdout",
     "output_type": "stream",
     "text": [
      "2.322661e+06\n"
     ]
    }
   ],
   "source": [
    "P = vanderwaals1(273.15, 0.001, 1, 3.46e-3, 23.71e-6)\n",
    "print(\"{:e}\".format(P))"
   ]
  },
  {
   "cell_type": "markdown",
   "metadata": {},
   "source": [
    "It is also possible to specify the names of the default variables"
   ]
  },
  {
   "cell_type": "code",
   "execution_count": 15,
   "metadata": {
    "colab": {
     "base_uri": "https://localhost:8080/"
    },
    "executionInfo": {
     "elapsed": 4,
     "status": "ok",
     "timestamp": 1668604989831,
     "user": {
      "displayName": "Edie Miglio",
      "userId": "11723019705501296075"
     },
     "user_tz": -60
    },
    "id": "byTp-TEEvFia",
    "outputId": "12994431-326e-4111-9749-de53b3b5c955"
   },
   "outputs": [
    {
     "name": "stdout",
     "output_type": "stream",
     "text": [
      "2.322661e+06\n"
     ]
    }
   ],
   "source": [
    "P = vanderwaals1(273.15, 0.001, 1, a=3.46e-3, b=23.71e-6)\n",
    "print(\"{:e}\".format(P))"
   ]
  },
  {
   "cell_type": "markdown",
   "metadata": {},
   "source": [
    "Or only one of the default parameter can  be specified"
   ]
  },
  {
   "cell_type": "code",
   "execution_count": 16,
   "metadata": {
    "colab": {
     "base_uri": "https://localhost:8080/"
    },
    "executionInfo": {
     "elapsed": 541,
     "status": "ok",
     "timestamp": 1668605028274,
     "user": {
      "displayName": "Edie Miglio",
      "userId": "11723019705501296075"
     },
     "user_tz": -60
    },
    "id": "EVv9_mpUvLNG",
    "outputId": "9e601fa0-8c4f-4793-a2d5-880fdb7b4458"
   },
   "outputs": [
    {
     "name": "stdout",
     "output_type": "stream",
     "text": [
      "2.342243e+06\n"
     ]
    }
   ],
   "source": [
    "P = vanderwaals1(273.15, 0.001, 1, a=3.46e-3)\n",
    "print(\"{:e}\".format(P))"
   ]
  },
  {
   "cell_type": "markdown",
   "metadata": {},
   "source": [
    "If the name of a default parameter is set then Python will follow the order of the input parameters, if we want to specify just `a`"
   ]
  },
  {
   "cell_type": "code",
   "execution_count": 17,
   "metadata": {
    "colab": {
     "base_uri": "https://localhost:8080/"
    },
    "executionInfo": {
     "elapsed": 4,
     "status": "ok",
     "timestamp": 1668605063396,
     "user": {
      "displayName": "Edie Miglio",
      "userId": "11723019705501296075"
     },
     "user_tz": -60
    },
    "id": "I8S3Bxs3nJfs",
    "outputId": "14275fe5-4e75-4b2f-a864-6a5d9d730b83"
   },
   "outputs": [
    {
     "name": "stdout",
     "output_type": "stream",
     "text": [
      "2.342243e+06\n"
     ]
    }
   ],
   "source": [
    "P = vanderwaals1(273.15, 0.001, 1, 3.46e-3)\n",
    "print(\"{:e}\".format(P))"
   ]
  },
  {
   "cell_type": "markdown",
   "metadata": {},
   "source": [
    "However, if want to give a vale to the other parameters with a default value we need to explicit use their name. If we want to use the default value of `a` but set the `b` we can do as"
   ]
  },
  {
   "cell_type": "code",
   "execution_count": 18,
   "metadata": {
    "colab": {
     "base_uri": "https://localhost:8080/"
    },
    "executionInfo": {
     "elapsed": 732,
     "status": "ok",
     "timestamp": 1668605164767,
     "user": {
      "displayName": "Edie Miglio",
      "userId": "11723019705501296075"
     },
     "user_tz": -60
    },
    "id": "5EK0rXULnF-9",
    "outputId": "ea958685-5478-4cc5-963d-ad65cc0f23e2"
   },
   "outputs": [
    {
     "name": "stdout",
     "output_type": "stream",
     "text": [
      "2.140854e+06\n"
     ]
    }
   ],
   "source": [
    "P = vanderwaals1(273.15, 0.001, 1, b=3.46e-6)\n",
    "print(\"{:e}\".format(P))"
   ]
  },
  {
   "cell_type": "markdown",
   "metadata": {},
   "source": [
    "It is also possible to not follow the same order of the input when the names of the input parameters are explicitly used"
   ]
  },
  {
   "cell_type": "code",
   "execution_count": 19,
   "metadata": {
    "id": "qHUQwAeFnle_"
   },
   "outputs": [
    {
     "name": "stdout",
     "output_type": "stream",
     "text": [
      "2.322661e+06\n"
     ]
    }
   ],
   "source": [
    "P = vanderwaals1(\n",
    "    273.15,\n",
    "    0.001,\n",
    "    1,\n",
    "    b=23.71e-6,\n",
    "    a=3.46e-3,\n",
    ")\n",
    "print(\"{:e}\".format(P))"
   ]
  },
  {
   "cell_type": "markdown",
   "metadata": {},
   "source": [
    "It is not possible to mix parameters called by name with others where the name is not specified"
   ]
  },
  {
   "cell_type": "code",
   "execution_count": 20,
   "metadata": {
    "colab": {
     "base_uri": "https://localhost:8080/",
     "height": 131
    },
    "executionInfo": {
     "elapsed": 244,
     "status": "error",
     "timestamp": 1668605504416,
     "user": {
      "displayName": "Edie Miglio",
      "userId": "11723019705501296075"
     },
     "user_tz": -60
    },
    "id": "zYIX0lfvvXkA",
    "outputId": "e6bf0ced-86df-409b-fce2-177b919b7683"
   },
   "outputs": [
    {
     "ename": "SyntaxError",
     "evalue": "positional argument follows keyword argument (3000982498.py, line 1)",
     "output_type": "error",
     "traceback": [
      "\u001b[0;36m  Cell \u001b[0;32mIn[20], line 1\u001b[0;36m\u001b[0m\n\u001b[0;31m    P = vanderwaals1(273.15, 0.001, b=23.71e-6, 1, a=3.46e-3)\u001b[0m\n\u001b[0m                                                            ^\u001b[0m\n\u001b[0;31mSyntaxError\u001b[0m\u001b[0;31m:\u001b[0m positional argument follows keyword argument\n"
     ]
    }
   ],
   "source": [
    "P = vanderwaals1(273.15, 0.001, b=23.71e-6, 1, a=3.46e-3)\n",
    "print(\"{:e}\".format(P))"
   ]
  },
  {
   "cell_type": "markdown",
   "metadata": {
    "id": "xL6E4uePwIkX"
   },
   "source": [
    "**Exercise 2** Write a Python function for computing the temperature given all the other parameters. The default values for $a$ and $b$ are the ones for the hydrogen."
   ]
  },
  {
   "cell_type": "markdown",
   "metadata": {
    "id": "bkJvxm9sw-GK"
   },
   "source": [
    "## Project 3: area of a circle"
   ]
  },
  {
   "cell_type": "markdown",
   "metadata": {
    "id": "GFicMZaeImLl"
   },
   "source": [
    "**Skills**.\n",
    "\n",
    "* Module import\n",
    "* Shortcut name of a module\n",
    "* Use of a function belonging to an imported module\n",
    "* Power operator\n",
    "* Type function\n",
    "* Function with multiple output\n",
    "* Tuples and immutable objects\n",
    "* Access elements of a complex structure (tuple)\n",
    "* Understand error messages\n",
    "* Content of a module"
   ]
  },
  {
   "cell_type": "markdown",
   "metadata": {
    "id": "y3uTL2ylxC4J"
   },
   "source": [
    "**Problem.** Write a function to compute the length and the area of a circle of radius $r$."
   ]
  },
  {
   "cell_type": "code",
   "execution_count": 21,
   "metadata": {
    "id": "ZAuUAeAeJnJw"
   },
   "outputs": [],
   "source": [
    "import math\n",
    "\n",
    "\n",
    "def circle1(r):\n",
    "    \"\"\"\n",
    "    Function that computes the length of a circle and its area\n",
    "    INPUT: r = radius\n",
    "    OUTPUT: L = length\n",
    "            A = area\n",
    "    \"\"\"\n",
    "    L = 2 * math.pi * r\n",
    "    A = math.pi * r**2\n",
    "    return L, A"
   ]
  },
  {
   "cell_type": "code",
   "execution_count": 22,
   "metadata": {
    "colab": {
     "base_uri": "https://localhost:8080/"
    },
    "executionInfo": {
     "elapsed": 5,
     "status": "ok",
     "timestamp": 1668610501296,
     "user": {
      "displayName": "Edie Miglio",
      "userId": "11723019705501296075"
     },
     "user_tz": -60
    },
    "id": "JhCb6N7X74wf",
    "outputId": "1124bdb4-9514-4264-ab05-82d30451d3b2"
   },
   "outputs": [
    {
     "name": "stdout",
     "output_type": "stream",
     "text": [
      "Help on function circle1 in module __main__:\n",
      "\n",
      "circle1(r)\n",
      "    Function that computes the length of a circle and its area\n",
      "    INPUT: r = radius\n",
      "    OUTPUT: L = length\n",
      "            A = area\n",
      "\n"
     ]
    }
   ],
   "source": [
    "help(circle1)"
   ]
  },
  {
   "cell_type": "markdown",
   "metadata": {
    "id": "gfkL4kE7xqMk"
   },
   "source": [
    "Let us test our function using $r=3$."
   ]
  },
  {
   "cell_type": "code",
   "execution_count": 23,
   "metadata": {
    "colab": {
     "base_uri": "https://localhost:8080/"
    },
    "executionInfo": {
     "elapsed": 304,
     "status": "ok",
     "timestamp": 1668607073851,
     "user": {
      "displayName": "Edie Miglio",
      "userId": "11723019705501296075"
     },
     "user_tz": -60
    },
    "id": "tBnydK33Jxoj",
    "outputId": "f5432d1b-2ec8-4ddf-d346-92e9ad378f36"
   },
   "outputs": [
    {
     "data": {
      "text/plain": [
       "(18.84955592153876, 28.274333882308138)"
      ]
     },
     "execution_count": 23,
     "metadata": {},
     "output_type": "execute_result"
    }
   ],
   "source": [
    "circle1(3)"
   ]
  },
  {
   "cell_type": "code",
   "execution_count": 24,
   "metadata": {
    "id": "V06RL9PKu8M5"
   },
   "outputs": [],
   "source": [
    "R = circle1(5)"
   ]
  },
  {
   "cell_type": "code",
   "execution_count": 25,
   "metadata": {
    "colab": {
     "base_uri": "https://localhost:8080/"
    },
    "executionInfo": {
     "elapsed": 217,
     "status": "ok",
     "timestamp": 1668607143326,
     "user": {
      "displayName": "Edie Miglio",
      "userId": "11723019705501296075"
     },
     "user_tz": -60
    },
    "id": "g0YjLhRVvFjl",
    "outputId": "0b19f906-fd85-4992-ef27-afb752aa9986"
   },
   "outputs": [
    {
     "name": "stdout",
     "output_type": "stream",
     "text": [
      "(31.41592653589793, 78.53981633974483)\n"
     ]
    }
   ],
   "source": [
    "print(R)"
   ]
  },
  {
   "cell_type": "code",
   "execution_count": 26,
   "metadata": {
    "colab": {
     "base_uri": "https://localhost:8080/"
    },
    "executionInfo": {
     "elapsed": 227,
     "status": "ok",
     "timestamp": 1668607156242,
     "user": {
      "displayName": "Edie Miglio",
      "userId": "11723019705501296075"
     },
     "user_tz": -60
    },
    "id": "5sTVK0XnvI3F",
    "outputId": "8ca4f194-f243-40a1-fe6c-e422152f777d"
   },
   "outputs": [
    {
     "data": {
      "text/plain": [
       "tuple"
      ]
     },
     "execution_count": 26,
     "metadata": {},
     "output_type": "execute_result"
    }
   ],
   "source": [
    "type(R)"
   ]
  },
  {
   "cell_type": "markdown",
   "metadata": {
    "id": "dh2D-MgyJ5Uw"
   },
   "source": [
    "In many cases (most of the times) the names of imported modules are quite long so a shortcut can be used. Let us see an example."
   ]
  },
  {
   "cell_type": "code",
   "execution_count": 27,
   "metadata": {
    "id": "bX9TGxR4xCRy"
   },
   "outputs": [],
   "source": [
    "import math as mt\n",
    "\n",
    "\n",
    "def circle2(r):\n",
    "    L = 2 * mt.pi * r\n",
    "    A = mt.pi * r**2\n",
    "    return L, A"
   ]
  },
  {
   "cell_type": "code",
   "execution_count": 28,
   "metadata": {
    "colab": {
     "base_uri": "https://localhost:8080/"
    },
    "executionInfo": {
     "elapsed": 4,
     "status": "ok",
     "timestamp": 1668608512798,
     "user": {
      "displayName": "Edie Miglio",
      "userId": "11723019705501296075"
     },
     "user_tz": -60
    },
    "id": "vkuKfucPxm4F",
    "outputId": "195a2061-e21b-4b54-b0e1-b937f4fb4579"
   },
   "outputs": [
    {
     "name": "stdout",
     "output_type": "stream",
     "text": [
      "18.84955592153876 28.274333882308138\n",
      "(18.84955592153876, 28.274333882308138)\n"
     ]
    }
   ],
   "source": [
    "L, A = circle2(3)\n",
    "print(L, A)\n",
    "print(circle2(3))"
   ]
  },
  {
   "cell_type": "markdown",
   "metadata": {},
   "source": [
    "If we are interested only in the area of the circle, we can discard the first output parameter by using the placeholder `_`"
   ]
  },
  {
   "cell_type": "code",
   "execution_count": 29,
   "metadata": {
    "id": "pp56TfYIy5Vh"
   },
   "outputs": [],
   "source": [
    "_, A2 = circle2(4)"
   ]
  },
  {
   "cell_type": "code",
   "execution_count": 30,
   "metadata": {
    "colab": {
     "base_uri": "https://localhost:8080/"
    },
    "executionInfo": {
     "elapsed": 4,
     "status": "ok",
     "timestamp": 1668608187083,
     "user": {
      "displayName": "Edie Miglio",
      "userId": "11723019705501296075"
     },
     "user_tz": -60
    },
    "id": "pDwfZmDjyh8Z",
    "outputId": "9e6cfad3-67c2-4909-b400-e81f1e4aace3"
   },
   "outputs": [
    {
     "data": {
      "text/plain": [
       "50.26548245743669"
      ]
     },
     "execution_count": 30,
     "metadata": {},
     "output_type": "execute_result"
    }
   ],
   "source": [
    "A2"
   ]
  },
  {
   "cell_type": "markdown",
   "metadata": {},
   "source": [
    "We can group all the outputs from a function, this will be saved in a `tuple` "
   ]
  },
  {
   "cell_type": "code",
   "execution_count": 31,
   "metadata": {
    "colab": {
     "base_uri": "https://localhost:8080/"
    },
    "executionInfo": {
     "elapsed": 3,
     "status": "ok",
     "timestamp": 1668608262478,
     "user": {
      "displayName": "Edie Miglio",
      "userId": "11723019705501296075"
     },
     "user_tz": -60
    },
    "id": "SYmgXEugxySJ",
    "outputId": "ab7a40e2-6387-48f4-fbc1-e67a82ffa587"
   },
   "outputs": [
    {
     "name": "stdout",
     "output_type": "stream",
     "text": [
      "(18.84955592153876, 28.274333882308138)\n"
     ]
    }
   ],
   "source": [
    "D = circle1(3)\n",
    "print(D)"
   ]
  },
  {
   "cell_type": "code",
   "execution_count": 32,
   "metadata": {
    "id": "b5c2ok1qJWOq"
   },
   "outputs": [
    {
     "name": "stdout",
     "output_type": "stream",
     "text": [
      "Help on class type in module builtins:\n",
      "\n",
      "class type(object)\n",
      " |  type(object) -> the object's type\n",
      " |  type(name, bases, dict, **kwds) -> a new type\n",
      " |\n",
      " |  Methods defined here:\n",
      " |\n",
      " |  __call__(self, /, *args, **kwargs)\n",
      " |      Call self as a function.\n",
      " |\n",
      " |  __delattr__(self, name, /)\n",
      " |      Implement delattr(self, name).\n",
      " |\n",
      " |  __dir__(self, /)\n",
      " |      Specialized __dir__ implementation for types.\n",
      " |\n",
      " |  __getattribute__(self, name, /)\n",
      " |      Return getattr(self, name).\n",
      " |\n",
      " |  __init__(self, /, *args, **kwargs)\n",
      " |      Initialize self.  See help(type(self)) for accurate signature.\n",
      " |\n",
      " |  __instancecheck__(self, instance, /)\n",
      " |      Check if an object is an instance.\n",
      " |\n",
      " |  __or__(self, value, /)\n",
      " |      Return self|value.\n",
      " |\n",
      " |  __repr__(self, /)\n",
      " |      Return repr(self).\n",
      " |\n",
      " |  __ror__(self, value, /)\n",
      " |      Return value|self.\n",
      " |\n",
      " |  __setattr__(self, name, value, /)\n",
      " |      Implement setattr(self, name, value).\n",
      " |\n",
      " |  __sizeof__(self, /)\n",
      " |      Return memory consumption of the type object.\n",
      " |\n",
      " |  __subclasscheck__(self, subclass, /)\n",
      " |      Check if a class is a subclass.\n",
      " |\n",
      " |  __subclasses__(self, /)\n",
      " |      Return a list of immediate subclasses.\n",
      " |\n",
      " |  mro(self, /)\n",
      " |      Return a type's method resolution order.\n",
      " |\n",
      " |  ----------------------------------------------------------------------\n",
      " |  Class methods defined here:\n",
      " |\n",
      " |  __prepare__(name, bases, /, **kwds)\n",
      " |      Create the namespace for the class statement\n",
      " |\n",
      " |  ----------------------------------------------------------------------\n",
      " |  Static methods defined here:\n",
      " |\n",
      " |  __new__(*args, **kwargs)\n",
      " |      Create and return a new object.  See help(type) for accurate signature.\n",
      " |\n",
      " |  ----------------------------------------------------------------------\n",
      " |  Data descriptors defined here:\n",
      " |\n",
      " |  __abstractmethods__\n",
      " |\n",
      " |  __annotations__\n",
      " |\n",
      " |  __dict__\n",
      " |\n",
      " |  __text_signature__\n",
      " |\n",
      " |  ----------------------------------------------------------------------\n",
      " |  Data and other attributes defined here:\n",
      " |\n",
      " |  __base__ = <class 'object'>\n",
      " |      The base class of the class hierarchy.\n",
      " |\n",
      " |      When called, it accepts no arguments and returns a new featureless\n",
      " |      instance that has no instance attributes and cannot be given any.\n",
      " |\n",
      " |\n",
      " |  __bases__ = (<class 'object'>,)\n",
      " |\n",
      " |  __basicsize__ = 928\n",
      " |\n",
      " |  __dictoffset__ = 264\n",
      " |\n",
      " |  __flags__ = 2155896066\n",
      " |\n",
      " |  __itemsize__ = 40\n",
      " |\n",
      " |  __mro__ = (<class 'type'>, <class 'object'>)\n",
      " |\n",
      " |  __type_params__ = ()\n",
      " |\n",
      " |  __weakrefoffset__ = 368\n",
      "\n"
     ]
    }
   ],
   "source": [
    "help(type)"
   ]
  },
  {
   "cell_type": "code",
   "execution_count": 33,
   "metadata": {
    "id": "rH--YadbyABe"
   },
   "outputs": [
    {
     "data": {
      "text/plain": [
       "tuple"
      ]
     },
     "execution_count": 33,
     "metadata": {},
     "output_type": "execute_result"
    }
   ],
   "source": [
    "type(D)"
   ]
  },
  {
   "cell_type": "markdown",
   "metadata": {},
   "source": [
    "Data in a tuple can be accessed by using the square brakets `[]`, in this case `D` is a tuple with two values"
   ]
  },
  {
   "cell_type": "code",
   "execution_count": 34,
   "metadata": {
    "id": "u9wR-zD-yEuI"
   },
   "outputs": [
    {
     "data": {
      "text/plain": [
       "18.84955592153876"
      ]
     },
     "execution_count": 34,
     "metadata": {},
     "output_type": "execute_result"
    }
   ],
   "source": [
    "D[0]"
   ]
  },
  {
   "cell_type": "code",
   "execution_count": 35,
   "metadata": {
    "id": "reaWP02syMRo"
   },
   "outputs": [
    {
     "data": {
      "text/plain": [
       "28.274333882308138"
      ]
     },
     "execution_count": 35,
     "metadata": {},
     "output_type": "execute_result"
    }
   ],
   "source": [
    "D[1]"
   ]
  },
  {
   "cell_type": "code",
   "execution_count": 36,
   "metadata": {
    "id": "yZcmHrn_yOkF"
   },
   "outputs": [
    {
     "ename": "IndexError",
     "evalue": "tuple index out of range",
     "output_type": "error",
     "traceback": [
      "\u001b[0;31m---------------------------------------------------------------------------\u001b[0m",
      "\u001b[0;31mIndexError\u001b[0m                                Traceback (most recent call last)",
      "Cell \u001b[0;32mIn[36], line 1\u001b[0m\n\u001b[0;32m----> 1\u001b[0m \u001b[43mD\u001b[49m\u001b[43m[\u001b[49m\u001b[38;5;241;43m2\u001b[39;49m\u001b[43m]\u001b[49m\n",
      "\u001b[0;31mIndexError\u001b[0m: tuple index out of range"
     ]
    }
   ],
   "source": [
    "D[2]"
   ]
  },
  {
   "cell_type": "markdown",
   "metadata": {},
   "source": [
    "It is not possible to assign values to a tuple since they are immutable."
   ]
  },
  {
   "cell_type": "code",
   "execution_count": 37,
   "metadata": {
    "colab": {
     "base_uri": "https://localhost:8080/",
     "height": 166
    },
    "executionInfo": {
     "elapsed": 476,
     "status": "error",
     "timestamp": 1668608293793,
     "user": {
      "displayName": "Edie Miglio",
      "userId": "11723019705501296075"
     },
     "user_tz": -60
    },
    "id": "08OedEVUyRB9",
    "outputId": "71d28586-7754-4bf5-a99c-ac9856726c30"
   },
   "outputs": [
    {
     "ename": "TypeError",
     "evalue": "'tuple' object does not support item assignment",
     "output_type": "error",
     "traceback": [
      "\u001b[0;31m---------------------------------------------------------------------------\u001b[0m",
      "\u001b[0;31mTypeError\u001b[0m                                 Traceback (most recent call last)",
      "Cell \u001b[0;32mIn[37], line 1\u001b[0m\n\u001b[0;32m----> 1\u001b[0m \u001b[43mD\u001b[49m\u001b[43m[\u001b[49m\u001b[38;5;241;43m1\u001b[39;49m\u001b[43m]\u001b[49m \u001b[38;5;241m=\u001b[39m \u001b[38;5;241m3\u001b[39m\n",
      "\u001b[0;31mTypeError\u001b[0m: 'tuple' object does not support item assignment"
     ]
    }
   ],
   "source": [
    "D[1] = 3"
   ]
  },
  {
   "cell_type": "markdown",
   "metadata": {
    "id": "fBmLB4le0ajm"
   },
   "source": [
    "**Exercise 3.** Write a Python function that computes the lengths of the edges $b$ and $c$ of a right triangle given the length of the hypotenuse $a$ and the amplitude of one the angle $\\gamma$ (see the following figure).\n",
    "\n",
    "*Hint*: the function <code>sin</code> and <code>cos</code> belong to the <code>math</code> module. Try <code>help(math)</code> to see the content of the module!\n",
    "\n",
    "$$\n",
    "c=a\\sin(\\gamma)\n",
    "$$\n",
    "$$\n",
    "b=a\\cos(\\gamma)\n",
    "$$\n",
    "\n",
    "![triaes01_rapp4.png](data:image/png;base64,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)"
   ]
  },
  {
   "cell_type": "markdown",
   "metadata": {
    "id": "BDmLU21LM1Zy"
   },
   "source": [
    "## Project 4: temperature conversion revised"
   ]
  },
  {
   "cell_type": "markdown",
   "metadata": {
    "id": "dadQ2AX6UiuE"
   },
   "source": [
    "**Skills:**\n",
    "\n",
    "* docstring\n",
    "* string definition\n",
    "* string slicing and indices\n",
    "* <code>if, elif</code> statement\n",
    "* logical operator <code>==</code>\n"
   ]
  },
  {
   "cell_type": "markdown",
   "metadata": {
    "id": "NsdYnmmqNONz"
   },
   "source": [
    "**Project**. We want to write a function that is able to perform conversion from Farheneit to Kelvin and viceversa."
   ]
  },
  {
   "cell_type": "code",
   "execution_count": 38,
   "metadata": {
    "id": "P9NW5AjdyURc"
   },
   "outputs": [],
   "source": [
    "def convtemp(temp):  # temp is a string of the form '10K' or '10F'\n",
    "    \"\"\"\n",
    "    Function to convert from Kelvin to Fahrenheit and viceversa\n",
    "    INPUT:\n",
    "        - temperature to be converted in the form of a string 'valueK|F'\n",
    "    OUTPUT:\n",
    "        - converted temperature\n",
    "    \"\"\"\n",
    "    temp_value = float(temp[0:-1])\n",
    "    # extract the last character of the string\n",
    "    temp_type = temp[-1]\n",
    "    if temp_type == \"K\":\n",
    "        out_temp = 1.8 * (temp_value - 273.15) + 32\n",
    "    elif temp_type == \"F\":\n",
    "        out_temp = (temp_value - 32) / 1.8 + 273.15\n",
    "    return out_temp"
   ]
  },
  {
   "cell_type": "code",
   "execution_count": 39,
   "metadata": {
    "id": "DzTrGlH8T7SD"
   },
   "outputs": [
    {
     "name": "stdout",
     "output_type": "stream",
     "text": [
      "Help on function convtemp in module __main__:\n",
      "\n",
      "convtemp(temp)\n",
      "    Function to convert from Kelvin to Fahrenheit and viceversa\n",
      "    INPUT:\n",
      "        - temperature to be converted in the form of a string 'valueK|F'\n",
      "    OUTPUT:\n",
      "        - converted temperature\n",
      "\n"
     ]
    }
   ],
   "source": [
    "help(convtemp)"
   ]
  },
  {
   "cell_type": "markdown",
   "metadata": {
    "id": "f51_mzz2TZS3"
   },
   "source": [
    "A string is defined using single or double quotes."
   ]
  },
  {
   "cell_type": "code",
   "execution_count": 40,
   "metadata": {
    "id": "sOrtFuuvOeQf"
   },
   "outputs": [],
   "source": [
    "tt = convtemp(\"-40F\")"
   ]
  },
  {
   "cell_type": "code",
   "execution_count": 41,
   "metadata": {
    "id": "0LwkQ5BoOinW"
   },
   "outputs": [
    {
     "name": "stdout",
     "output_type": "stream",
     "text": [
      "233.14999999999998\n"
     ]
    }
   ],
   "source": [
    "print(tt)"
   ]
  },
  {
   "cell_type": "markdown",
   "metadata": {
    "id": "R5roFAV0UHYQ"
   },
   "source": [
    "**Exercise 4**. Extend the previuos function so that it can handle Kelvin, Fahrenheit and Celsius. You have to add an additional input parameter in order to specify the output format."
   ]
  },
  {
   "cell_type": "markdown",
   "metadata": {
    "id": "XEDWpCiWVc5o"
   },
   "source": [
    "## Project 4: computation of the machine epsilon"
   ]
  },
  {
   "cell_type": "markdown",
   "metadata": {
    "id": "ITUbr9BDWLo-"
   },
   "source": [
    "**Skills:**\n",
    "\n",
    "* while loop\n",
    "* logical operator <code>!=</code>"
   ]
  },
  {
   "cell_type": "markdown",
   "metadata": {
    "id": "JirIXJKrVpbE"
   },
   "source": [
    "**Project.** Let us compute the machine epsilon `eps` using `while`. Remember that the definition of $\\epsilon$ is the smallest number such that $1\\neq 1+\\epsilon$."
   ]
  },
  {
   "cell_type": "code",
   "execution_count": 42,
   "metadata": {
    "id": "CklWsIEpRLNF"
   },
   "outputs": [
    {
     "name": "stdout",
     "output_type": "stream",
     "text": [
      "1.1102230246251565e-16\n"
     ]
    }
   ],
   "source": [
    "e = 1.0\n",
    "while 1 + e != 1:\n",
    "    e = e / 2\n",
    "\n",
    "print(e)"
   ]
  },
  {
   "cell_type": "code",
   "execution_count": 43,
   "metadata": {
    "id": "mkV88S-0WGOc"
   },
   "outputs": [
    {
     "name": "stdout",
     "output_type": "stream",
     "text": [
      "2.220446049250313e-16\n"
     ]
    }
   ],
   "source": [
    "import numpy as np  # we will see numpy in a following lecture\n",
    "\n",
    "print(np.finfo(float).eps)"
   ]
  },
  {
   "cell_type": "markdown",
   "metadata": {
    "id": "cMmUynPFYKeD"
   },
   "source": [
    "## Project 5: conversion of a Roman number to decimal format"
   ]
  },
  {
   "cell_type": "markdown",
   "metadata": {
    "id": "QQbvO4diYc_K"
   },
   "source": [
    "**Skills:**\n",
    "\n",
    "* Dictionaries\n",
    "* <code>for</code> loop\n",
    "* <code>range</code> and <code>len</code> function\n",
    "* <code>-=, +=</code> operators\n",
    "* <code><</code> logical operator"
   ]
  },
  {
   "cell_type": "markdown",
   "metadata": {
    "id": "VWQ2DlCtYT7F"
   },
   "source": [
    "**Problem.** Write a Python function that converts a Roman number to decimal format."
   ]
  },
  {
   "cell_type": "code",
   "execution_count": 44,
   "metadata": {
    "id": "_GvhSpQiWKRz"
   },
   "outputs": [],
   "source": [
    "def Roman2Decimal(Roman):\n",
    "    symbols = {\"I\": 1, \"V\": 5, \"X\": 10, \"L\": 50, \"C\": 100, \"D\": 500, \"M\": 1000}\n",
    "    Decimal = 0\n",
    "    for i in range(len(Roman) - 1):\n",
    "        left = Roman[i]\n",
    "        right = Roman[i + 1]\n",
    "        if symbols[left] < symbols[right]:\n",
    "            Decimal -= symbols[left]\n",
    "        else:\n",
    "            Decimal += symbols[left]\n",
    "    Decimal += symbols[Roman[-1]]\n",
    "    return Decimal"
   ]
  },
  {
   "cell_type": "code",
   "execution_count": 45,
   "metadata": {
    "id": "5DVt4d2hXbwr"
   },
   "outputs": [
    {
     "data": {
      "text/plain": [
       "91"
      ]
     },
     "execution_count": 45,
     "metadata": {},
     "output_type": "execute_result"
    }
   ],
   "source": [
    "Roman2Decimal(\"XCI\")"
   ]
  },
  {
   "cell_type": "markdown",
   "metadata": {
    "id": "I6XP426EEI7B"
   },
   "source": [
    "**Exercise.** Write a Python function that converts an integer to its binary format.\n",
    "\n",
    "*Hint:* Consider the following example where we want to convert $13$ to its binary format:\n",
    "\n",
    "$$\n",
    "13:2 = 6 \\textrm{ with remainder } 1 \\\\\n",
    " 6:2 = 3 \\textrm{ with remainder } 0 \\\\\n",
    " 3:2 = 1 \\textrm{ with remainder } 1 \\\\\n",
    " 1:2 = 0 \\textrm{ with remainder } 1,\n",
    "$$\n",
    "\n",
    "now let us take the remainders in reverse order *i.e.* $1101$, this is the binary format of $13$.\n",
    "\n",
    "The remainder of an integer division is obtained using the operator <code>%</code> and the integer part of the result of a division can be obtained using <code>int</code>. See the following examples:\n"
   ]
  },
  {
   "cell_type": "markdown",
   "metadata": {
    "id": "osOZO-bzEg78"
   },
   "source": [
    "## Project 7: Fibonacci numbers"
   ]
  },
  {
   "cell_type": "markdown",
   "metadata": {
    "id": "UO3fWg1EPdB9"
   },
   "source": [
    "**Skills.**\n",
    "\n",
    "*   recursion\n",
    "*   <code>range</code> function\n",
    "* list comprehension\n",
    "* slicing"
   ]
  },
  {
   "cell_type": "markdown",
   "metadata": {
    "id": "4sHpvDiPEnfe"
   },
   "source": [
    "**Problem.** The well known Fibonacci sequence is defined by the following recursive relation:\n",
    "\n",
    "$$\n",
    "F(0)=0, \\\\\n",
    "F(1)=1, \\\\\n",
    "F(n)=F(n-1)+F(n-2).\n",
    "$$\n",
    "\n",
    "Let us write a function that computes the n*th* term of the sequence using recursion."
   ]
  },
  {
   "cell_type": "code",
   "execution_count": 46,
   "metadata": {
    "colab": {
     "base_uri": "https://localhost:8080/"
    },
    "executionInfo": {
     "elapsed": 4,
     "status": "ok",
     "timestamp": 1669110338978,
     "user": {
      "displayName": "Edie Miglio",
      "userId": "11723019705501296075"
     },
     "user_tz": -60
    },
    "id": "6hN5F_PQtrOW",
    "outputId": "9d1d3c6c-8b57-4283-a9ba-b820d8052dbd"
   },
   "outputs": [
    {
     "data": {
      "text/plain": [
       "-25"
      ]
     },
     "execution_count": 46,
     "metadata": {},
     "output_type": "execute_result"
    }
   ],
   "source": [
    "25\n",
    "int(-25)"
   ]
  },
  {
   "cell_type": "code",
   "execution_count": 47,
   "metadata": {
    "id": "_aKhjNWrEpGE"
   },
   "outputs": [],
   "source": [
    "def recfib(n):\n",
    "    # add check for input!\n",
    "    if n <= 1:\n",
    "        return n\n",
    "    else:\n",
    "        return recfib(n - 1) + recfib(n - 2)"
   ]
  },
  {
   "cell_type": "code",
   "execution_count": 48,
   "metadata": {
    "colab": {
     "base_uri": "https://localhost:8080/"
    },
    "executionInfo": {
     "elapsed": 5,
     "status": "ok",
     "timestamp": 1669110383088,
     "user": {
      "displayName": "Edie Miglio",
      "userId": "11723019705501296075"
     },
     "user_tz": -60
    },
    "id": "OiqIqAL7uv1-",
    "outputId": "4ae94cc3-f9e5-45c1-d945-a6ecef078ac0"
   },
   "outputs": [
    {
     "data": {
      "text/plain": [
       "5"
      ]
     },
     "execution_count": 48,
     "metadata": {},
     "output_type": "execute_result"
    }
   ],
   "source": [
    "recfib(5)"
   ]
  },
  {
   "cell_type": "markdown",
   "metadata": {
    "id": "xGLj4F-cHoXu"
   },
   "source": [
    "Let us introduce the function <code>range</code>: this function returns a sequence of numbers, starting from 0 by default, and increments by 1 (by default), and stops before a specified number.\n",
    "\n",
    "The general syntax is <code>range(start, stop, step)</code> where *start* and *step* are optional whereas *stop* is required. Let us consider some examples."
   ]
  },
  {
   "cell_type": "code",
   "execution_count": 49,
   "metadata": {
    "colab": {
     "base_uri": "https://localhost:8080/"
    },
    "executionInfo": {
     "elapsed": 818,
     "status": "ok",
     "timestamp": 1669110475019,
     "user": {
      "displayName": "Edie Miglio",
      "userId": "11723019705501296075"
     },
     "user_tz": -60
    },
    "id": "txxZJ3jGJgoy",
    "outputId": "76da91b6-ae96-42a5-c719-d76ec0e5d217"
   },
   "outputs": [
    {
     "name": "stdout",
     "output_type": "stream",
     "text": [
      "range(0, 6)\n"
     ]
    }
   ],
   "source": [
    "R1 = range(6)\n",
    "print(R1)"
   ]
  },
  {
   "cell_type": "code",
   "execution_count": 50,
   "metadata": {
    "colab": {
     "base_uri": "https://localhost:8080/"
    },
    "executionInfo": {
     "elapsed": 309,
     "status": "ok",
     "timestamp": 1669110486657,
     "user": {
      "displayName": "Edie Miglio",
      "userId": "11723019705501296075"
     },
     "user_tz": -60
    },
    "id": "ZEmiBiOPJmOT",
    "outputId": "7b07cc35-d554-4984-8e63-7854c71a45cf"
   },
   "outputs": [
    {
     "name": "stdout",
     "output_type": "stream",
     "text": [
      "[0, 1, 2, 3, 4, 5]\n"
     ]
    }
   ],
   "source": [
    "print(list(R1))"
   ]
  },
  {
   "cell_type": "code",
   "execution_count": 51,
   "metadata": {
    "colab": {
     "base_uri": "https://localhost:8080/"
    },
    "executionInfo": {
     "elapsed": 335,
     "status": "ok",
     "timestamp": 1669110505317,
     "user": {
      "displayName": "Edie Miglio",
      "userId": "11723019705501296075"
     },
     "user_tz": -60
    },
    "id": "aHQ83aA2Jrgt",
    "outputId": "6aa5eb7b-0a3f-479d-f551-6d57e6586271"
   },
   "outputs": [
    {
     "name": "stdout",
     "output_type": "stream",
     "text": [
      "[10, 12, 14, 16, 18]\n"
     ]
    }
   ],
   "source": [
    "R2 = range(10, 20, 2)\n",
    "print(list(R2))"
   ]
  },
  {
   "cell_type": "code",
   "execution_count": 52,
   "metadata": {
    "colab": {
     "base_uri": "https://localhost:8080/"
    },
    "executionInfo": {
     "elapsed": 419,
     "status": "ok",
     "timestamp": 1669110517744,
     "user": {
      "displayName": "Edie Miglio",
      "userId": "11723019705501296075"
     },
     "user_tz": -60
    },
    "id": "MOeg6qK6J0F2",
    "outputId": "36ffaded-36a2-49cf-ecc4-b89e0956aa6b"
   },
   "outputs": [
    {
     "name": "stdout",
     "output_type": "stream",
     "text": [
      "[20, 19, 18, 17, 16, 15, 14, 13, 12, 11]\n"
     ]
    }
   ],
   "source": [
    "R3 = range(20, 10, -1)\n",
    "print(list(R3))"
   ]
  },
  {
   "cell_type": "markdown",
   "metadata": {
    "id": "_WDkSoknKLg4"
   },
   "source": [
    "Now let us use the *list comprehension* technique to obtain the sequence up to the n*th* term.\n",
    "\n",
    "*List compehension* in Python is a concise way of creating lists from the ones that already exist."
   ]
  },
  {
   "cell_type": "code",
   "execution_count": 53,
   "metadata": {
    "colab": {
     "base_uri": "https://localhost:8080/"
    },
    "executionInfo": {
     "elapsed": 364,
     "status": "ok",
     "timestamp": 1669110745043,
     "user": {
      "displayName": "Edie Miglio",
      "userId": "11723019705501296075"
     },
     "user_tz": -60
    },
    "id": "Z8gBBi3YEujH",
    "outputId": "c6c02608-4f75-4d43-ce9a-70fe9fce780f"
   },
   "outputs": [
    {
     "name": "stdout",
     "output_type": "stream",
     "text": [
      "[0, 1, 1, 2, 3, 5, 8, 13, 21, 34, 55, 89, 144, 233, 377]\n"
     ]
    }
   ],
   "source": [
    "F = [recfib(n) for n in range(15)]\n",
    "print(F)"
   ]
  },
  {
   "cell_type": "code",
   "execution_count": 54,
   "metadata": {
    "colab": {
     "base_uri": "https://localhost:8080/"
    },
    "executionInfo": {
     "elapsed": 343,
     "status": "ok",
     "timestamp": 1669110824926,
     "user": {
      "displayName": "Edie Miglio",
      "userId": "11723019705501296075"
     },
     "user_tz": -60
    },
    "id": "0WIezKvWH6Q2",
    "outputId": "63b73329-02a9-4fd5-9228-d7939b8e86bc"
   },
   "outputs": [
    {
     "data": {
      "text/plain": [
       "list"
      ]
     },
     "execution_count": 54,
     "metadata": {},
     "output_type": "execute_result"
    }
   ],
   "source": [
    "type(F)"
   ]
  },
  {
   "cell_type": "markdown",
   "metadata": {
    "id": "66gEd8R8KlHi"
   },
   "source": [
    "Let us see how we can extract elements from the list using the *slicing* technique: in general given a Pytho list $L$ you can use the syntax\n",
    "<code>L(start:stop:step)</code>, where all parameters are optional."
   ]
  },
  {
   "cell_type": "code",
   "execution_count": 55,
   "metadata": {
    "colab": {
     "base_uri": "https://localhost:8080/"
    },
    "executionInfo": {
     "elapsed": 317,
     "status": "ok",
     "timestamp": 1669110846434,
     "user": {
      "displayName": "Edie Miglio",
      "userId": "11723019705501296075"
     },
     "user_tz": -60
    },
    "id": "JApyb2GBKs9l",
    "outputId": "8cc891d6-d2fc-4e7c-d392-dbbc314421ef"
   },
   "outputs": [
    {
     "data": {
      "text/plain": [
       "[1, 1, 2]"
      ]
     },
     "execution_count": 55,
     "metadata": {},
     "output_type": "execute_result"
    }
   ],
   "source": [
    "F[1:4]  # NOTE: the 4th element is not included!"
   ]
  },
  {
   "cell_type": "markdown",
   "metadata": {},
   "source": [
    "It is also possible to start from an element until the end of the list"
   ]
  },
  {
   "cell_type": "code",
   "execution_count": 56,
   "metadata": {
    "colab": {
     "base_uri": "https://localhost:8080/"
    },
    "executionInfo": {
     "elapsed": 295,
     "status": "ok",
     "timestamp": 1669110865268,
     "user": {
      "displayName": "Edie Miglio",
      "userId": "11723019705501296075"
     },
     "user_tz": -60
    },
    "id": "IJxGezKfLTx7",
    "outputId": "a1a5d997-fd77-4d60-ba16-dd9e94b85276"
   },
   "outputs": [
    {
     "data": {
      "text/plain": [
       "[5, 8, 13, 21, 34, 55, 89, 144, 233, 377]"
      ]
     },
     "execution_count": 56,
     "metadata": {},
     "output_type": "execute_result"
    }
   ],
   "source": [
    "F[5:]  # From the 5th element to the end (included)!"
   ]
  },
  {
   "cell_type": "markdown",
   "metadata": {},
   "source": [
    "The thid argument in the slicing is the chosen step, if not specified it is assumed to be 1. Otherwise can be set in the following way"
   ]
  },
  {
   "cell_type": "code",
   "execution_count": 57,
   "metadata": {
    "colab": {
     "base_uri": "https://localhost:8080/"
    },
    "executionInfo": {
     "elapsed": 366,
     "status": "ok",
     "timestamp": 1669110883440,
     "user": {
      "displayName": "Edie Miglio",
      "userId": "11723019705501296075"
     },
     "user_tz": -60
    },
    "id": "B_n4CZxvLxUJ",
    "outputId": "8822d0bb-89f6-4c41-b8b9-579d5aeb1e23"
   },
   "outputs": [
    {
     "data": {
      "text/plain": [
       "[2, 8, 34]"
      ]
     },
     "execution_count": 57,
     "metadata": {},
     "output_type": "execute_result"
    }
   ],
   "source": [
    "F[3:11:3]"
   ]
  },
  {
   "cell_type": "markdown",
   "metadata": {},
   "source": [
    "The step can be also negative, meaning that it goes from `start` to `end` with a negative `step`."
   ]
  },
  {
   "cell_type": "code",
   "execution_count": 58,
   "metadata": {
    "colab": {
     "base_uri": "https://localhost:8080/"
    },
    "executionInfo": {
     "elapsed": 296,
     "status": "ok",
     "timestamp": 1669110917133,
     "user": {
      "displayName": "Edie Miglio",
      "userId": "11723019705501296075"
     },
     "user_tz": -60
    },
    "id": "K3moZm6KL_lw",
    "outputId": "99b3dd61-5bd1-46a4-8a9a-d742adc7bf56"
   },
   "outputs": [
    {
     "data": {
      "text/plain": [
       "[]"
      ]
     },
     "execution_count": 58,
     "metadata": {},
     "output_type": "execute_result"
    }
   ],
   "source": [
    "F[5:10:-1]"
   ]
  },
  {
   "cell_type": "markdown",
   "metadata": {},
   "source": [
    "If we want to go backward in a list, the `start` and `end` should be set accordingly"
   ]
  },
  {
   "cell_type": "code",
   "execution_count": 59,
   "metadata": {
    "colab": {
     "base_uri": "https://localhost:8080/"
    },
    "executionInfo": {
     "elapsed": 383,
     "status": "ok",
     "timestamp": 1669110931148,
     "user": {
      "displayName": "Edie Miglio",
      "userId": "11723019705501296075"
     },
     "user_tz": -60
    },
    "id": "7nJBcD1GMDrV",
    "outputId": "90d8b3a3-3677-4128-da22-211084ae390e"
   },
   "outputs": [
    {
     "data": {
      "text/plain": [
       "[55, 34, 21, 13, 8]"
      ]
     },
     "execution_count": 59,
     "metadata": {},
     "output_type": "execute_result"
    }
   ],
   "source": [
    "F[10:5:-1]"
   ]
  },
  {
   "cell_type": "markdown",
   "metadata": {},
   "source": [
    "By using the default value of `start`, equal to 0, and `end`, equal to the length of the list, we can revert the list by using a negative step."
   ]
  },
  {
   "cell_type": "code",
   "execution_count": 60,
   "metadata": {
    "colab": {
     "base_uri": "https://localhost:8080/"
    },
    "executionInfo": {
     "elapsed": 310,
     "status": "ok",
     "timestamp": 1669110950309,
     "user": {
      "displayName": "Edie Miglio",
      "userId": "11723019705501296075"
     },
     "user_tz": -60
    },
    "id": "fA5AI8-RLfIn",
    "outputId": "1abb7e7b-f8ae-4166-dcc6-97740a242913"
   },
   "outputs": [
    {
     "data": {
      "text/plain": [
       "[377, 233, 144, 89, 55, 34, 21, 13, 8, 5, 3, 2, 1, 1, 0]"
      ]
     },
     "execution_count": 60,
     "metadata": {},
     "output_type": "execute_result"
    }
   ],
   "source": [
    "F[::-1]  # NOTE!!!!"
   ]
  },
  {
   "cell_type": "markdown",
   "metadata": {
    "id": "8-FBaMYQND0f"
   },
   "source": [
    "**Exercise.** Write a function for computing the Recaman sequence defined as follows ($n>0$):\n",
    "\n",
    "$$\n",
    "R(0)=0,\n",
    "$$\n",
    "$$\n",
    "R(n)=\n",
    "\\begin{cases}\n",
    " R(n-1) -n \\quad \\textrm{ if non negative and not already present,} \\\\\n",
    " R(n-1) +n \\quad \\textrm{ otherwise.}\n",
    "\\end{cases}\n",
    "$$"
   ]
  },
  {
   "cell_type": "markdown",
   "metadata": {
    "id": "h19u1iq3LSps"
   },
   "source": [
    "## Project 8: Computation of $\\pi$ using Monte Carlo method"
   ]
  },
  {
   "cell_type": "markdown",
   "metadata": {
    "id": "JiUiCMvdP7Np"
   },
   "source": [
    "**Skills.**\n",
    "\n",
    "* <code>+=</code> (and similar) operator\n",
    "* introduction of *Numpy* arrays\n",
    "* append element to a list and list concatenation\n",
    "* introduction of *Matplotlib*"
   ]
  },
  {
   "cell_type": "markdown",
   "metadata": {
    "id": "SyhjeXV-I3J_"
   },
   "source": [
    "**Problem.** Let us pick $N$ random points in a $2D$ plane within a square of side 2 centered in (0,0).\n",
    "\n",
    "Imagine a circle inscribed into the square; the idea is to use the ratio of number points that lie inside the circle ($N_{\\textrm{inside}}$) to the total number of generated points to compute $\\pi$. Why does it work ?\n",
    "\n",
    "The probability that a point falls inside the circle is directly proportional to the area of the circle *i.e.*\n",
    "\n",
    "$$\n",
    "\\frac{N_{\\textrm{inside}}}{N}=\\frac{\\textrm{Area of the circle}}{\\textrm{Area of the square}}.\n",
    "$$\n",
    "\n",
    "Moreover we know that area of the square is $4$ while that of circle is $\\pi$. The ratio of these two areas is:\n",
    "\n",
    "$$\n",
    "\\frac{\\textrm{Area of the circle}}{\\textrm{Area of the square}}=\\frac{\\pi}{4},\n",
    "$$\n",
    "\n",
    "we can compute $\\pi$ as\n",
    "\n",
    "$$\n",
    "\\pi= 4\\frac{N_{\\textrm{inside}}}{N}.\n",
    "$$"
   ]
  },
  {
   "cell_type": "code",
   "execution_count": 61,
   "metadata": {
    "id": "97BJldm7IgYp"
   },
   "outputs": [],
   "source": [
    "import math as mt\n",
    "import random\n",
    "\n",
    "\n",
    "def compute_pi_mc(N):\n",
    "    circle_points, square_points = [0] * 2\n",
    "\n",
    "    for i in range(N):\n",
    "        # Generate a random point\n",
    "        rand_x = random.uniform(-1, 1)\n",
    "        rand_y = random.uniform(-1, 1)\n",
    "\n",
    "        # Compute the distance of the point from the origin\n",
    "        dist = mt.sqrt(rand_x**2 + rand_y**2)\n",
    "\n",
    "        # Check if the point lies inside the circle\n",
    "        circle_points += 1 if dist <= 1 else 0\n",
    "        square_points += 1\n",
    "\n",
    "    # Estimate the value of pi\n",
    "    return 4.0 * circle_points / square_points"
   ]
  },
  {
   "cell_type": "code",
   "execution_count": 62,
   "metadata": {
    "colab": {
     "base_uri": "https://localhost:8080/"
    },
    "executionInfo": {
     "elapsed": 2,
     "status": "ok",
     "timestamp": 1669111716655,
     "user": {
      "displayName": "Edie Miglio",
      "userId": "11723019705501296075"
     },
     "user_tz": -60
    },
    "id": "5vK2ILveOd1n",
    "outputId": "5fc945e9-a035-4acf-cbf7-70de1c9842e7"
   },
   "outputs": [
    {
     "data": {
      "text/plain": [
       "3.1564"
      ]
     },
     "execution_count": 62,
     "metadata": {},
     "output_type": "execute_result"
    }
   ],
   "source": [
    "N = 10000\n",
    "compute_pi_mc(N)"
   ]
  },
  {
   "cell_type": "markdown",
   "metadata": {
    "id": "ZfPSAajiOY91"
   },
   "source": [
    "Let us now try to visualize the procedure. In order to obatin this result we modify the function so that the output is given by:\n",
    "\n",
    "\n",
    "*   the estimated value of $\\pi$;\n",
    "*   the $x$ and $y$ coordinates of the points inside the circle;\n",
    "*   the $x$ and $y$ coordinates of the points outside the circle;\n",
    "*   the vector containing all the iterates of the estimated value of $\\pi$.\n",
    "\n",
    "We introduce also **Numpy** which is the module of Python that provides the implementation of *arrays*. Most of the functions present in the module `math` are also in `numpy`, for this if the latter is used it is possible to avoid the import of `math`.\n"
   ]
  },
  {
   "cell_type": "code",
   "execution_count": 63,
   "metadata": {
    "id": "eDXR7kfvO07y"
   },
   "outputs": [],
   "source": [
    "import numpy as np\n",
    "\n",
    "\n",
    "def compute_pi_mc_g(N):\n",
    "    circle_points, square_points = 0, 0\n",
    "    x_in, y_in, x_out, y_out = [np.empty(0)] * 4\n",
    "    vec_pi_est = np.empty(N)\n",
    "\n",
    "    for i in np.arange(N):\n",
    "        # Generate a random point\n",
    "        rand_x = np.random.uniform(-1, 1)\n",
    "        rand_y = np.random.uniform(-1, 1)\n",
    "\n",
    "        # Compute the distance of the point from the origin\n",
    "        dist = np.linalg.norm([rand_x, rand_y])\n",
    "\n",
    "        # Check if the point lies inside the circle\n",
    "        if dist <= 1:\n",
    "            circle_points += 1\n",
    "            x_in = np.append(x_in, rand_x)\n",
    "            y_in = np.append(y_in, rand_y)\n",
    "        else:\n",
    "            x_out = np.append(x_out, rand_x)\n",
    "            y_out = np.append(y_out, rand_y)\n",
    "\n",
    "        square_points += 1\n",
    "        # Estimate the value of pi\n",
    "        pi_est = 4.0 * circle_points / square_points\n",
    "        vec_pi_est[i] = pi_est\n",
    "\n",
    "    return pi_est, x_in, y_in, x_out, y_out, vec_pi_est"
   ]
  },
  {
   "cell_type": "code",
   "execution_count": 64,
   "metadata": {
    "id": "bId_jgbVVAEf"
   },
   "outputs": [
    {
     "name": "stdout",
     "output_type": "stream",
     "text": [
      "3.212\n"
     ]
    }
   ],
   "source": [
    "N = 1000\n",
    "pi_est, x_in, y_in, x_out, y_out, vec_pi_est = compute_pi_mc_g(N)\n",
    "print(pi_est)"
   ]
  },
  {
   "cell_type": "markdown",
   "metadata": {
    "id": "_urSjU2ABqB2"
   },
   "source": [
    "Now we have to plot the obtained data. The module of Python for plotting is **Matplotlib**."
   ]
  },
  {
   "cell_type": "code",
   "execution_count": 65,
   "metadata": {
    "colab": {
     "base_uri": "https://localhost:8080/"
    },
    "executionInfo": {
     "elapsed": 341,
     "status": "ok",
     "timestamp": 1669113091558,
     "user": {
      "displayName": "Edie Miglio",
      "userId": "11723019705501296075"
     },
     "user_tz": -60
    },
    "id": "_bmZELvW4S5p",
    "outputId": "86697ac5-d98b-4e8a-c70c-ddef3a4c5317"
   },
   "outputs": [
    {
     "data": {
      "text/plain": [
       "array([ 1.        ,  0.8646637 ,  0.49528663, -0.00815095, -0.5093823 ,\n",
       "       -0.87273782, -0.99986712, -0.8563598 , -0.48105935,  0.02445069,\n",
       "        0.52334259,  0.88058   ,  0.99946853,  0.84782832,  0.46670422,\n",
       "       -0.04074393, -0.53716381, -0.88818817, -0.99880433, -0.83907153])"
      ]
     },
     "execution_count": 65,
     "metadata": {},
     "output_type": "execute_result"
    }
   ],
   "source": [
    "g = np.linspace(0, 10, 20)\n",
    "type(g)\n",
    "np.cos(g)"
   ]
  },
  {
   "cell_type": "code",
   "execution_count": 66,
   "metadata": {
    "colab": {
     "base_uri": "https://localhost:8080/"
    },
    "executionInfo": {
     "elapsed": 4,
     "status": "ok",
     "timestamp": 1669113302302,
     "user": {
      "displayName": "Edie Miglio",
      "userId": "11723019705501296075"
     },
     "user_tz": -60
    },
    "id": "PKu7usyx4MNh",
    "outputId": "c3830c6d-8d5b-490c-a07f-011e70901ffb"
   },
   "outputs": [
    {
     "data": {
      "text/plain": [
       "list"
      ]
     },
     "execution_count": 66,
     "metadata": {},
     "output_type": "execute_result"
    }
   ],
   "source": [
    "l = [1, 2, 3, 4, 5]\n",
    "type(l)"
   ]
  },
  {
   "cell_type": "code",
   "execution_count": 67,
   "metadata": {
    "colab": {
     "base_uri": "https://localhost:8080/"
    },
    "executionInfo": {
     "elapsed": 5,
     "status": "ok",
     "timestamp": 1669113400748,
     "user": {
      "displayName": "Edie Miglio",
      "userId": "11723019705501296075"
     },
     "user_tz": -60
    },
    "id": "EXKrmF9l5-CE",
    "outputId": "b7dc2502-ecd0-4052-8e8e-9e952c3ff7f2"
   },
   "outputs": [
    {
     "data": {
      "text/plain": [
       "array([[1, 2],\n",
       "       [3, 4]])"
      ]
     },
     "execution_count": 67,
     "metadata": {},
     "output_type": "execute_result"
    }
   ],
   "source": [
    "la = np.array([[1, 2], [3, 4]])\n",
    "la"
   ]
  },
  {
   "cell_type": "code",
   "execution_count": 68,
   "metadata": {
    "colab": {
     "base_uri": "https://localhost:8080/",
     "height": 316
    },
    "executionInfo": {
     "elapsed": 1426,
     "status": "ok",
     "timestamp": 1669113533092,
     "user": {
      "displayName": "Edie Miglio",
      "userId": "11723019705501296075"
     },
     "user_tz": -60
    },
    "id": "T4ma9PyuSpDV",
    "outputId": "d7d5fbb2-dbf1-43c1-80f0-a79f8c200403"
   },
   "outputs": [
    {
     "data": {
      "image/png": "[encoded data removed]",
      "text/plain": [
       "<Figure size 1500x1500 with 2 Axes>"
      ]
     },
     "metadata": {},
     "output_type": "display_data"
    }
   ],
   "source": [
    "import matplotlib.pyplot as plt\n",
    "\n",
    "plt.rcParams[\"figure.figsize\"] = [15, 15]\n",
    "fig, (ax1, ax2) = plt.subplots(1, 2)\n",
    "\n",
    "# Draw a unit circle centered at the origin\n",
    "angles = np.linspace(0 * np.pi, 2 * np.pi, 100)\n",
    "xs = np.cos(angles)\n",
    "ys = np.sin(angles)\n",
    "ax1.set_aspect(1)\n",
    "ax1.plot(xs, ys, color=\"blue\")\n",
    "\n",
    "# Draw the points\n",
    "ax1.scatter(x_in, y_in, color=\"r\")\n",
    "ax1.scatter(x_out, y_out, color=\"g\")\n",
    "ax1.grid()\n",
    "\n",
    "ax2.grid()\n",
    "ax2.plot(vec_pi_est)\n",
    "ax2.set_aspect(250)\n"
   ]
  }
 ],
 "metadata": {
  "colab": {
   "authorship_tag": "ABX9TyMaQ+FmnlTVqxuTKHamfHew",
   "provenance": [
    {
     "file_id": "1G75PnfeviVwNpIJ3_FoEGda6oMLwaGRv",
     "timestamp": 1688380409510
    }
   ]
  },
  "kernelspec": {
   "display_name": "py3.13",
   "language": "python",
   "name": "python3"
  },
  "language_info": {
   "codemirror_mode": {
    "name": "ipython",
    "version": 3
   },
   "file_extension": ".py",
   "mimetype": "text/x-python",
   "name": "python",
   "nbconvert_exporter": "python",
   "pygments_lexer": "ipython3",
   "version": "3.13.0"
  }
 },
 "nbformat": 4,
 "nbformat_minor": 1
}
