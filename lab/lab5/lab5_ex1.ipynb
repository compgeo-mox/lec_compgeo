{
 "cells": [
  {
   "cell_type": "markdown",
   "metadata": {},
   "source": [
    "# Transport problem"
   ]
  },
  {
   "cell_type": "markdown",
   "metadata": {},
   "source": [
    "In this tutorial we investigate the transport problem.\n",
    "\n",
    "## Exercise 1\n",
    "\n",
    "We consider the convervative formulation of a linear transport problem: the only unknown is the concentration $c$.\n",
    "\n",
    "Let $\\Omega = [0, 1]^2$ be the domain of interest with boundary $\\partial \\Omega$ and outward unit normal ${\\nu}$. \n",
    "We define also $(0, T)$ the time interval, being $T$ the final time.\n",
    "\n",
    "Given a flux $q$ , we want to solve the following problem: find $c$ such that\n",
    "$$\n",
    "\\partial_t c + \\nabla \\cdot (qc) = 0\n",
    "\\quad \\text{in } \\Omega \\times (0, T)\n",
    "$$\n",
    "with boundary conditions set on the inflow of the domain:\n",
    "$$ c = c_I \\quad \\text{ on } \\partial \\Omega \\times (0, T)$$\n",
    "and initial condition for the contration\n",
    "$$ c(x, 0) = c_0(x) \\quad \\text{ in } \\Omega $$\n",
    "\n",
    "We present *step-by-step* how to create the grid, declare the problem data, and finally solve the problem."
   ]
  },
  {
   "cell_type": "markdown",
   "metadata": {},
   "source": [
    "Before creating the grid we import NumPy, the SciPy sparse library and PorePy."
   ]
  },
  {
   "cell_type": "code",
   "execution_count": 1,
   "metadata": {},
   "outputs": [],
   "source": [
    "import numpy as np\n",
    "import scipy.sparse as sps\n",
    "import porepy as pp"
   ]
  },
  {
   "cell_type": "markdown",
   "metadata": {},
   "source": [
    "We specify number of cells in each dimension and the physical size of the domain. Then we create a Cartesian grid and compute geometric properties such as face centers, cell volumes etc."
   ]
  },
  {
   "cell_type": "code",
   "execution_count": 2,
   "metadata": {
    "scrolled": true
   },
   "outputs": [],
   "source": [
    "dim = 2\n",
    "N = [40] * dim\n",
    "phys_dims = [1] * dim\n",
    "\n",
    "sd = pp.CartGrid(N, phys_dims)\n",
    "sd.compute_geometry()"
   ]
  },
  {
   "cell_type": "markdown",
   "metadata": {},
   "source": [
    "We define now the data related to the temporal discretization and the flux $q$, since the solver we consider later will need the flux exchange over each face and due to the position of the face normals in the `CartGrid` the flux can be easily defined."
   ]
  },
  {
   "cell_type": "code",
   "execution_count": 3,
   "metadata": {},
   "outputs": [],
   "source": [
    "delta_t = 0.1\n",
    "num_steps = 10\n",
    "\n",
    "q = sd.face_normals.T @ [1, 0, 0]"
   ]
  },
  {
   "cell_type": "markdown",
   "metadata": {},
   "source": [
    "We declare the darcy velocity and the boundary conditions"
   ]
  },
  {
   "cell_type": "code",
   "execution_count": 4,
   "metadata": {},
   "outputs": [],
   "source": [
    "# define outflow and inflow type boundary conditions, left and right boundary\n",
    "b_faces = sd.tags[\"domain_boundary_faces\"].nonzero()[0]\n",
    "b_face_centers = sd.face_centers[:, b_faces]\n",
    "\n",
    "outflow = np.isclose(b_face_centers[0, :], 1)\n",
    "inflow = np.isclose(b_face_centers[0, :], 0)\n",
    "\n",
    "# define the labels and values for the boundary faces\n",
    "labels = np.array([\"neu\"] * b_faces.size)\n",
    "bc_val = np.zeros(sd.num_faces)\n",
    "\n",
    "labels[np.logical_or(inflow, outflow)] = \"dir\"\n",
    "bc_val[b_faces[inflow]] = 1\n",
    "\n",
    "bc = pp.BoundaryCondition(sd, b_faces, labels)\n",
    "\n",
    "parameters = {\"darcy_flux\": q, \"bc\": bc, \"bc_values\": bc_val}"
   ]
  },
  {
   "cell_type": "markdown",
   "metadata": {},
   "source": [
    "Once all the data are created we group them in a dictionary, where the keyword `\"transport\"` represent the physical process considered and ensures that the discretization objects use the correct parameters. Note that the call to `initialize_default_data assignes` default values to the transport parameters which are not specified."
   ]
  },
  {
   "cell_type": "code",
   "execution_count": 5,
   "metadata": {},
   "outputs": [],
   "source": [
    "transport_key = \"transport\"\n",
    "transport_data = pp.initialize_default_data(sd, {}, transport_key, parameters)"
   ]
  },
  {
   "cell_type": "markdown",
   "metadata": {},
   "source": [
    "In this section we present all the approaches to solve the problem."
   ]
  },
  {
   "cell_type": "code",
   "execution_count": 6,
   "metadata": {},
   "outputs": [],
   "source": [
    "# create the upwind and mass matrices\n",
    "upwind = pp.Upwind(transport_key)\n",
    "\n",
    "# discretize and get the matrices\n",
    "upwind.discretize(sd, transport_data)\n",
    "\n",
    "U, b_upwind = upwind.assemble_matrix_rhs(sd, transport_data)\n",
    "M = sps.diags(sd.cell_volumes)"
   ]
  },
  {
   "cell_type": "markdown",
   "metadata": {},
   "source": [
    "Let us do now the temporal loop and consider an approximation with the implicit Euler scheme."
   ]
  },
  {
   "cell_type": "code",
   "execution_count": 7,
   "metadata": {},
   "outputs": [
    {
     "name": "stdout",
     "output_type": "stream",
     "text": [
      "0.8 0.00013292279957849142\n",
      "0.9600000000000001 0.0011963051962064226\n",
      "0.9920000000000001 0.00555617302238094\n",
      "0.9984000000000001 0.017763802935669593\n",
      "0.9996800000000001 0.04401020724924018\n",
      "0.9999360000000002 0.09020387884112442\n",
      "0.9999872000000001 0.1594943862289508\n",
      "0.9999974400000001 0.25056191022437974\n",
      "0.9999994880000002 0.35756625091900873\n",
      "0.9999998976000002 0.471704214326613\n"
     ]
    }
   ],
   "source": [
    "# Initial condition and exporter\n",
    "c = np.zeros(sd.num_cells)\n",
    "save = pp.Exporter(sd, \"ie_transport\", folder_name=\"ex1\")\n",
    "save.write_vtu([(\"conc\", c)], time_step=0)\n",
    "\n",
    "# IE\n",
    "S = M + delta_t * U\n",
    "for i in np.arange(num_steps):\n",
    "    c = sps.linalg.spsolve(S, M @ c - delta_t * b_upwind)\n",
    "    save.write_vtu([(\"conc\", c)], time_step=(i + 1) * delta_t)\n",
    "    print(np.amax(c), np.amin(c))\n",
    "\n",
    "# export the main pvd file\n",
    "time = np.arange((num_steps + 1)) * delta_t\n",
    "save.write_pvd(time)"
   ]
  },
  {
   "cell_type": "markdown",
   "metadata": {},
   "source": [
    "The solution is now exported for each time step and can be visualzied with ParaView."
   ]
  },
  {
   "cell_type": "markdown",
   "metadata": {},
   "source": [
    "Let us consider now a temporal discretization done with the explicit Euler scheme, with a finer time step to avoid unphysical oscillations."
   ]
  },
  {
   "cell_type": "code",
   "execution_count": 8,
   "metadata": {},
   "outputs": [
    {
     "name": "stdout",
     "output_type": "stream",
     "text": [
      "0.8 0.0\n",
      "0.9600000000000001 0.0\n",
      "0.992 0.0\n",
      "0.9984 0.0\n",
      "0.99968 0.0\n",
      "0.999936 0.0\n",
      "0.9999872 0.0\n",
      "0.99999744 0.0\n",
      "0.9999994879999999 0.0\n",
      "0.9999998976000001 0.0\n",
      "0.99999997952 0.0\n",
      "0.9999999959040001 0.0\n",
      "0.9999999991808001 0.0\n",
      "0.9999999998361601 0.0\n",
      "0.9999999999672321 0.0\n",
      "0.9999999999934464 0.0\n",
      "0.9999999999986893 0.0\n",
      "0.9999999999997379 0.0\n",
      "0.9999999999999476 0.0\n",
      "0.9999999999999896 0.0\n",
      "0.9999999999999979 0.0\n",
      "0.9999999999999997 0.0\n",
      "1.0 0.0\n",
      "1.0 0.0\n",
      "1.0 0.0\n",
      "1.0 0.0\n",
      "1.0 0.0\n",
      "1.0 0.0\n",
      "1.0 0.0\n",
      "1.0 0.0\n",
      "1.0 0.0\n",
      "1.0 0.0\n",
      "1.0 0.0\n",
      "1.0 0.0\n",
      "1.0 0.0\n",
      "1.0 0.0\n",
      "1.0 0.0\n",
      "1.0 0.0\n",
      "1.0 0.0\n",
      "1.0 0.00013292279957849128\n",
      "1.0 0.0011963051962064221\n",
      "1.0 0.00555617302238094\n",
      "1.0 0.017763802935669586\n",
      "1.0 0.04401020724924018\n",
      "1.0 0.09020387884112448\n",
      "1.0 0.1594943862289509\n",
      "1.0 0.25056191022437996\n",
      "1.0 0.3575662509190091\n",
      "1.0 0.47170421432661347\n",
      "1.0 0.5835594184660658\n"
     ]
    }
   ],
   "source": [
    "delta_t = 0.02  # 0.04 0.02\n",
    "num_steps = 50  # 25 50\n",
    "\n",
    "save = pp.Exporter(sd, \"ee_transport\", folder_name=\"ex1\")\n",
    "# Initial condition and exporter\n",
    "c = np.zeros(sd.num_cells)\n",
    "save.write_vtu([(\"conc\", c)], time_step=0)\n",
    "\n",
    "# change the format of the matrix\n",
    "M = M.tocsr()\n",
    "\n",
    "# EE\n",
    "S = M - delta_t * U\n",
    "for i in np.arange(num_steps):\n",
    "    c = sps.linalg.spsolve(M, S @ c - delta_t * b_upwind)\n",
    "    save.write_vtu([(\"conc\", c)], time_step=(i + 1) * delta_t)\n",
    "    print(np.amax(c), np.amin(c))\n",
    "\n",
    "# export the main pvd file\n",
    "save.write_pvd(time)"
   ]
  },
  {
   "cell_type": "code",
   "execution_count": null,
   "metadata": {},
   "outputs": [],
   "source": []
  }
 ],
 "metadata": {
  "kernelspec": {
   "display_name": "Python 3 (ipykernel)",
   "language": "python",
   "name": "python3"
  },
  "language_info": {
   "codemirror_mode": {
    "name": "ipython",
    "version": 3
   },
   "file_extension": ".py",
   "mimetype": "text/x-python",
   "name": "python",
   "nbconvert_exporter": "python",
   "pygments_lexer": "ipython3",
   "version": "3.12.4"
  }
 },
 "nbformat": 4,
 "nbformat_minor": 4
}
