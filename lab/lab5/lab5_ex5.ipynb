{
 "cells": [
  {
   "cell_type": "markdown",
   "metadata": {},
   "source": [
    "# Flow and transport problem - SPE10"
   ]
  },
  {
   "cell_type": "markdown",
   "metadata": {},
   "source": [
    "In this tutorial we investigate the transport problem where the advective field is computed with a Darcy model."
   ]
  },
  {
   "cell_type": "markdown",
   "metadata": {},
   "source": [
    "Before creating the grid we import NumPy, the SciPy sparse library and PorePy."
   ]
  },
  {
   "cell_type": "code",
   "execution_count": 1,
   "metadata": {},
   "outputs": [],
   "source": [
    "import numpy as np\n",
    "import porepy as pp\n",
    "import scipy.sparse as sps\n",
    "\n",
    "import os\n",
    "\n",
    "cwd_folder = os.getcwd()\n",
    "spe10_folder = cwd_folder + \"/spe10/\"\n",
    "\n",
    "import sys\n",
    "\n",
    "sys.path.insert(1, spe10_folder)\n",
    "\n",
    "from spe10 import Spe10"
   ]
  },
  {
   "cell_type": "markdown",
   "metadata": {},
   "source": [
    "We specify number of cells in each dimension and the physical size of the domain. Then we create a Cartesian grid and compute geometric properties such as face centers, cell volumes etc."
   ]
  },
  {
   "cell_type": "code",
   "execution_count": 2,
   "metadata": {
    "scrolled": true
   },
   "outputs": [],
   "source": [
    "selected_layers = 35  # 3, 35\n",
    "\n",
    "# Define the class with the corresponding layer(s)\n",
    "spe10 = Spe10(selected_layers)\n",
    "# For simplicity we extract the grid form the class spe10\n",
    "sd = spe10.sd\n",
    "\n",
    "# Read the permeability associated to the given layer(s)\n",
    "perm_folder = spe10_folder + \"/perm/\"\n",
    "spe10.read_perm(perm_folder)\n",
    "perm_dict = spe10.perm_as_dict()"
   ]
  },
  {
   "cell_type": "markdown",
   "metadata": {},
   "source": [
    "We declare the data for the Darcy problem."
   ]
  },
  {
   "cell_type": "code",
   "execution_count": 4,
   "metadata": {},
   "outputs": [],
   "source": [
    "# Permeability\n",
    "perm = pp.SecondOrderTensor(\n",
    "    kxx=perm_dict[\"kxx\"], kyy=perm_dict[\"kyy\"], kzz=perm_dict[\"kzz\"]\n",
    ")\n",
    "\n",
    "# Boundary conditions\n",
    "b_faces = sd.tags[\"domain_boundary_faces\"].nonzero()[0]\n",
    "b_face_centers = sd.face_centers[:, b_faces]\n",
    "\n",
    "# define outflow and inflow type boundary conditions, left and right boundary\n",
    "outflow = np.isclose(b_face_centers[1, :], spe10.full_physdims[1])\n",
    "inflow = np.isclose(b_face_centers[1, :], 0)\n",
    "\n",
    "# define the labels and values for the boundary faces\n",
    "labels = np.array([\"neu\"] * b_faces.size)\n",
    "labels[np.logical_or(inflow, outflow)] = \"dir\"\n",
    "\n",
    "bc_val = np.zeros(sd.num_faces)\n",
    "bc_val[b_faces[inflow]] = 1e8\n",
    "\n",
    "bc = pp.BoundaryCondition(sd, b_faces, labels)\n",
    "\n",
    "# Collect all parameters in a dictionary\n",
    "parameters = {\"second_order_tensor\": perm, \"bc\": bc, \"bc_values\": bc_val}"
   ]
  },
  {
   "cell_type": "markdown",
   "metadata": {},
   "source": [
    "We now set the data for the Darcy problem"
   ]
  },
  {
   "cell_type": "code",
   "execution_count": 5,
   "metadata": {},
   "outputs": [],
   "source": [
    "flow_key = \"flow\"\n",
    "flow_data = pp.initialize_default_data(sd, {}, flow_key, parameters)"
   ]
  },
  {
   "cell_type": "markdown",
   "metadata": {},
   "source": [
    "We now solve the Darcy problem by using the MPFA scheme."
   ]
  },
  {
   "cell_type": "code",
   "execution_count": 6,
   "metadata": {},
   "outputs": [],
   "source": [
    "# construct the lhr and rhs from the discretization of the diffusion operator\n",
    "mpfa = pp.Mpfa(flow_key)\n",
    "mpfa.discretize(sd, flow_data)\n",
    "A, b = mpfa.assemble_matrix_rhs(sd, flow_data)\n",
    "\n",
    "# solve the problem\n",
    "cell_p = sps.linalg.spsolve(A, b)\n",
    "\n",
    "# now data contains the discretization matrices build from MPFA\n",
    "mat_discr = flow_data[pp.DISCRETIZATION_MATRICES][flow_key]\n",
    "\n",
    "q = mat_discr[\"flux\"] @ cell_p + mat_discr[\"bound_flux\"] @ bc_val"
   ]
  },
  {
   "cell_type": "markdown",
   "metadata": {},
   "source": [
    "And we export the corresponding solutions."
   ]
  },
  {
   "cell_type": "code",
   "execution_count": 7,
   "metadata": {},
   "outputs": [],
   "source": [
    "# to export the flux\n",
    "mvem = pp.MVEM(flow_key)\n",
    "mvem.discretize(sd, flow_data)\n",
    "\n",
    "# construct the P0 flux reconstruction\n",
    "cell_q = mvem.project_flux(sd, q, flow_data)\n",
    "\n",
    "save = pp.Exporter(sd, \"sol_p\", folder_name=\"ex5\")\n",
    "\n",
    "data_to_export = [\n",
    "    (\"kxx\", np.log10(perm_dict[\"kxx\"])),\n",
    "    (\"kyy\", np.log10(perm_dict[\"kyy\"])),\n",
    "    (\"kzz\", np.log10(perm_dict[\"kzz\"])),\n",
    "    (\"cell_p\", cell_p),\n",
    "    (\"cell_q\", cell_q),\n",
    "]\n",
    "save.write_vtu(data_to_export)"
   ]
  },
  {
   "cell_type": "markdown",
   "metadata": {},
   "source": [
    "We now consider the transport problem where now the advective field is the one computed from the Darcy problem. First we set the data."
   ]
  },
  {
   "cell_type": "code",
   "execution_count": 8,
   "metadata": {},
   "outputs": [],
   "source": [
    "# Transport problem\n",
    "transport_key = \"transport\"\n",
    "delta_t = 0.001\n",
    "num_steps = 40\n",
    "\n",
    "# Set in the data file the flux\n",
    "bc_val = np.zeros(sd.num_faces)\n",
    "bc_val[b_faces[inflow]] = 1\n",
    "\n",
    "parameters = {\"darcy_flux\": q, \"bc\": bc, \"bc_values\": bc_val}\n",
    "transport_data = pp.initialize_default_data(sd, {}, transport_key, parameters)"
   ]
  },
  {
   "cell_type": "markdown",
   "metadata": {},
   "source": [
    "As done in the other cases, we now construct the upwind matrix and the mass matrix."
   ]
  },
  {
   "cell_type": "code",
   "execution_count": 9,
   "metadata": {},
   "outputs": [],
   "source": [
    "# create the upwind and mass matrices\n",
    "upwind = pp.Upwind(transport_key)\n",
    "\n",
    "# discretize and get the matrices\n",
    "upwind.discretize(sd, transport_data)\n",
    "\n",
    "U, b_upwind = upwind.assemble_matrix_rhs(sd, transport_data)\n",
    "M = sps.diags(sd.cell_volumes)"
   ]
  },
  {
   "cell_type": "markdown",
   "metadata": {},
   "source": [
    "Finally, by using the implicit Euler we compute the concentration that is transported in the porous medium"
   ]
  },
  {
   "cell_type": "code",
   "execution_count": 10,
   "metadata": {},
   "outputs": [
    {
     "name": "stdout",
     "output_type": "stream",
     "text": [
      "5.402641987338601e-25 0.9822760258465867\n",
      "8.351687998804009e-24 0.9996858607401692\n",
      "6.78703607781227e-23 0.9999944322038373\n",
      "3.8605403162813333e-22 0.999999901316484\n",
      "1.7266814814145773e-21 0.9999999982508951\n",
      "6.468244747487023e-21 0.9999999999689582\n",
      "2.1110273600735774e-20 0.9999999999994089\n",
      "6.165620870455716e-20 1.0000000000000695\n",
      "1.6429132628598028e-19 1.0000000000001117\n",
      "4.0521914622306286e-19 1.000000000000124\n",
      "9.355372396448986e-19 1.000000000000434\n",
      "2.0397495418814356e-18 1.000000000000519\n",
      "4.230059003711767e-18 1.0000000000006897\n",
      "8.393096803360259e-18 1.0000000000007068\n",
      "1.6011358542914927e-17 1.0000000000007079\n",
      "2.948846892046292e-17 1.000000000000708\n",
      "5.261561631274973e-17 1.000000000000708\n",
      "9.122621471633541e-17 1.000000000000708\n",
      "1.540971833725105e-16 1.000000000000708\n",
      "2.5416829714512713e-16 1.000000000000708\n",
      "4.101659573409352e-16 1.000000000000708\n",
      "6.487345571668601e-16 1.000000000001669\n",
      "1.0071974515918731e-15 1.0000000000019065\n",
      "1.537090459743027e-15 1.0000000004181966\n",
      "2.3086338889076086e-15 1.0000000005409146\n",
      "3.41633432029975e-15 1.0000000005731335\n",
      "4.985934873170744e-15 1.0000000006388465\n",
      "7.182962388412858e-15 1.0000000006785523\n",
      "1.0223151956093845e-14 1.0000000006904193\n",
      "1.4385063451926534e-14 1.0000000006939473\n",
      "2.0025241232429535e-14 1.0000000006949916\n",
      "2.7596306843151653e-14 1.0000000006952996\n",
      "3.7668415483780367e-14 1.00000000069539\n",
      "5.0954550003056055e-14 1.0000000006954166\n",
      "6.834017131046771e-14 1.0000000006954244\n",
      "9.091779122714655e-14 1.0000000006954266\n",
      "1.200270828834539e-13 1.0000000006954273\n",
      "1.5730119472625299e-13 1.0000000006954275\n",
      "2.0471998693876381e-13 1.0000000006954275\n",
      "2.6467096350816916e-13 1.0000000006954275\n"
     ]
    }
   ],
   "source": [
    "# Initial condition and exporter\n",
    "c = np.zeros(sd.num_cells)\n",
    "save = pp.Exporter(sd, \"sol_c\", folder_name=\"ex5\")\n",
    "save.write_vtu([(\"conc\", c)], time_step=0)\n",
    "\n",
    "# IE with LU factorization\n",
    "S = M + delta_t * U\n",
    "lu = sps.linalg.splu(S.tocsc())\n",
    "for i in np.arange(num_steps):\n",
    "    c = lu.solve(M @ c - delta_t * b_upwind)\n",
    "    print(np.amin(c), np.amax(c))\n",
    "    save.write_vtu([(\"conc\", c)], time_step=(i + 1) * delta_t)\n",
    "\n",
    "# export the main pvd file\n",
    "time = np.arange((num_steps + 1)) * delta_t\n",
    "save.write_pvd(time)"
   ]
  },
  {
   "cell_type": "code",
   "execution_count": null,
   "metadata": {},
   "outputs": [],
   "source": []
  }
 ],
 "metadata": {
  "kernelspec": {
   "display_name": "Python 3 (ipykernel)",
   "language": "python",
   "name": "python3"
  },
  "language_info": {
   "codemirror_mode": {
    "name": "ipython",
    "version": 3
   },
   "file_extension": ".py",
   "mimetype": "text/x-python",
   "name": "python",
   "nbconvert_exporter": "python",
   "pygments_lexer": "ipython3",
   "version": "3.12.4"
  }
 },
 "nbformat": 4,
 "nbformat_minor": 4
}
