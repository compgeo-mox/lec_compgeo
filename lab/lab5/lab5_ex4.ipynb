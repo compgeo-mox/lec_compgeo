{
 "cells": [
  {
   "cell_type": "markdown",
   "metadata": {},
   "source": [
    "# Flow and transport with reaction problem"
   ]
  },
  {
   "cell_type": "markdown",
   "metadata": {},
   "source": [
    "In this tutorial we investigate the transport problem where the advective field is computed with a Darcy model.\n",
    "\n",
    "## Exercise 4\n",
    "\n",
    "Let $\\Omega=(0,1)^2$ with boundary $\\partial \\Omega$ and outward unit normal ${\\nu}$.\n",
    "We define also $(0, T)$ the time interval, being $T$ the final time.\n",
    "\n",
    "Given \n",
    "$k =I$ the matrix permeability and $f = 0$ the source term, we want to solve the following problem: find $p$ such that\n",
    "find $p$ such that\n",
    "$$\n",
    "\\nabla \\cdot (- k\\nabla p) = f\n",
    "\\quad \\text{in } \\Omega\n",
    "$$\n",
    "with boundary conditions:\n",
    "$$ p = 0 \\text{ on } \\partial_{top} \\Omega \\qquad p = 1 \\text{ on } \\partial_{bottom} \\Omega \\qquad \\nu \\cdot k \\nabla p = 0 \\text{ on } \\partial_{left} \\Omega \\cup \\partial_{right} \\Omega$$\n",
    "\n",
    "Given the flux $q$ computed by the previous model, we want to solve the following problem: find $c$ such that\n",
    "$$\n",
    "\\partial_t c + \\nabla \\cdot (qc) + rc = 0\n",
    "\\quad \\text{in } \\Omega \\times (0, T)\n",
    "$$\n",
    "with boundary conditions set on the inflow of the domain:\n",
    "$$ c = c_I \\quad \\text{ on } \\partial \\Omega \\times (0, T)$$\n",
    "and initial condition for the contration\n",
    "$$ c(x, 0) = c_0(x) \\quad \\text{ in } \\Omega $$\n",
    "Compute the solution for $r=0.1, 1, 10$.\n",
    "\n",
    "We present *step-by-step* how to create the grid, declare the problem data, and finally solve the problem."
   ]
  },
  {
   "cell_type": "markdown",
   "metadata": {},
   "source": [
    "Before creating the grid we import NumPy, the SciPy sparse library and PorePy."
   ]
  },
  {
   "cell_type": "code",
   "execution_count": 1,
   "metadata": {},
   "outputs": [],
   "source": [
    "import numpy as np\n",
    "import scipy.sparse as sps\n",
    "import porepy as pp"
   ]
  },
  {
   "cell_type": "markdown",
   "metadata": {},
   "source": [
    "We specify number of cells in each dimension and the physical size of the domain. Then we create a Cartesian grid and compute geometric properties such as face centers, cell volumes etc."
   ]
  },
  {
   "cell_type": "code",
   "execution_count": 2,
   "metadata": {
    "scrolled": true
   },
   "outputs": [],
   "source": [
    "dim = 2\n",
    "N = [40] * dim\n",
    "phys_dims = [1] * dim\n",
    "\n",
    "sd = pp.CartGrid(N, phys_dims)\n",
    "sd.compute_geometry()"
   ]
  },
  {
   "cell_type": "markdown",
   "metadata": {},
   "source": [
    "We declare the data for the Darcy problem."
   ]
  },
  {
   "cell_type": "code",
   "execution_count": 3,
   "metadata": {},
   "outputs": [],
   "source": [
    "# Permeability\n",
    "perm = pp.SecondOrderTensor(np.ones(sd.num_cells))\n",
    "\n",
    "# define outflow and inflow type boundary conditions, left and right boundary\n",
    "b_faces = sd.tags[\"domain_boundary_faces\"].nonzero()[0]\n",
    "b_face_centers = sd.face_centers[:, b_faces]\n",
    "\n",
    "outflow = np.isclose(b_face_centers[0, :], 1)\n",
    "inflow = np.isclose(b_face_centers[0, :], 0)\n",
    "\n",
    "# define the labels and values for the boundary faces\n",
    "labels = np.array([\"neu\"] * b_faces.size)\n",
    "bc_val = np.zeros(sd.num_faces)\n",
    "\n",
    "labels[np.logical_or(inflow, outflow)] = \"dir\"\n",
    "bc_val[b_faces[inflow]] = 1\n",
    "\n",
    "bc = pp.BoundaryCondition(sd, b_faces, labels)\n",
    "\n",
    "# Collect all parameters in a dictionary\n",
    "parameters = {\"second_order_tensor\": perm, \"bc\": bc, \"bc_values\": bc_val}"
   ]
  },
  {
   "cell_type": "markdown",
   "metadata": {},
   "source": [
    "We now set the data for the Darcy problem"
   ]
  },
  {
   "cell_type": "code",
   "execution_count": 4,
   "metadata": {},
   "outputs": [],
   "source": [
    "flow_key = \"flow\"\n",
    "flow_data = pp.initialize_default_data(sd, {}, flow_key, parameters)"
   ]
  },
  {
   "cell_type": "markdown",
   "metadata": {},
   "source": [
    "We now solve the Darcy problem by using the MPFA scheme."
   ]
  },
  {
   "cell_type": "code",
   "execution_count": 5,
   "metadata": {},
   "outputs": [],
   "source": [
    "# construct the lhr and rhs from the discretization of the diffusion operator\n",
    "mpfa = pp.Mpfa(flow_key)\n",
    "mpfa.discretize(sd, flow_data)\n",
    "A, b = mpfa.assemble_matrix_rhs(sd, flow_data)\n",
    "\n",
    "# solve the problem\n",
    "cell_p = sps.linalg.spsolve(A, b)\n",
    "\n",
    "# now data contains the discretization matrices build from MPFA\n",
    "mat_discr = flow_data[pp.DISCRETIZATION_MATRICES][flow_key]\n",
    "\n",
    "q = mat_discr[\"flux\"] @ cell_p + mat_discr[\"bound_flux\"] @ bc_val"
   ]
  },
  {
   "cell_type": "markdown",
   "metadata": {},
   "source": [
    "And we export the corresponding solutions."
   ]
  },
  {
   "cell_type": "code",
   "execution_count": 6,
   "metadata": {},
   "outputs": [],
   "source": [
    "save = pp.Exporter(sd, \"sol_p\", folder_name=\"ex4\")\n",
    "exp_p = save.write_vtu([(\"cell_p\", cell_p)])"
   ]
  },
  {
   "cell_type": "markdown",
   "metadata": {},
   "source": [
    "We now consider the transport problem where now the advective field is the one computed from the Darcy problem. First we set the data."
   ]
  },
  {
   "cell_type": "code",
   "execution_count": 7,
   "metadata": {},
   "outputs": [],
   "source": [
    "# Transport problem\n",
    "transport_key = \"transport\"\n",
    "delta_t = 0.01\n",
    "num_steps = 100\n",
    "reaction_coeff = 1\n",
    "\n",
    "# Set in the data file the flux\n",
    "bc_val = np.zeros(sd.num_faces)\n",
    "bc_val[b_faces[inflow]] = 1\n",
    "\n",
    "parameters = {\"darcy_flux\": q, \"bc\": bc, \"bc_values\": bc_val}\n",
    "transport_data = pp.initialize_default_data(sd, {}, transport_key, parameters)"
   ]
  },
  {
   "cell_type": "markdown",
   "metadata": {},
   "source": [
    "As done in the 1d case, we now construct the upwind matrix and the mass matrix."
   ]
  },
  {
   "cell_type": "code",
   "execution_count": 8,
   "metadata": {},
   "outputs": [],
   "source": [
    "# create the upwind and mass matrices\n",
    "upwind = pp.Upwind(transport_key)\n",
    "\n",
    "# discretize and get the matrices\n",
    "upwind.discretize(sd, transport_data)\n",
    "\n",
    "U, b_upwind = upwind.assemble_matrix_rhs(sd, transport_data)\n",
    "M = sps.diags(sd.cell_volumes)"
   ]
  },
  {
   "cell_type": "markdown",
   "metadata": {},
   "source": [
    "Finally, by using the implicit Euler we compute the concentration that is transported in the porous medium"
   ]
  },
  {
   "cell_type": "code",
   "execution_count": 9,
   "metadata": {},
   "outputs": [],
   "source": [
    "# Initial condition and exporter\n",
    "c = np.zeros(sd.num_cells)\n",
    "save = pp.Exporter(sd, \"sol_c\", folder_name=\"ex4\")\n",
    "save.write_vtu([(\"conc\", c)], time_step=0)\n",
    "\n",
    "# IE\n",
    "S = M + delta_t * (U + reaction_coeff * M)\n",
    "for i in np.arange(num_steps):\n",
    "    c = sps.linalg.spsolve(S, M @ c - delta_t * b_upwind)\n",
    "    save.write_vtu([(\"conc\", c)], time_step=(i + 1) * delta_t)\n",
    "\n",
    "# export the main pvd file\n",
    "time = np.arange((num_steps + 1)) * delta_t\n",
    "save.write_pvd(time)"
   ]
  }
 ],
 "metadata": {
  "kernelspec": {
   "display_name": "Python 3 (ipykernel)",
   "language": "python",
   "name": "python3"
  },
  "language_info": {
   "codemirror_mode": {
    "name": "ipython",
    "version": 3
   },
   "file_extension": ".py",
   "mimetype": "text/x-python",
   "name": "python",
   "nbconvert_exporter": "python",
   "pygments_lexer": "ipython3",
   "version": "3.12.4"
  }
 },
 "nbformat": 4,
 "nbformat_minor": 4
}
