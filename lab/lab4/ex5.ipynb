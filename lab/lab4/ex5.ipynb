{
 "cells": [
  {
   "cell_type": "markdown",
   "metadata": {},
   "source": [
    "# Flow and transport problem - SPE10"
   ]
  },
  {
   "cell_type": "markdown",
   "metadata": {},
   "source": [
    "In this tutorial we investigate the transport problem where the advective field is computed with a Darcy model."
   ]
  },
  {
   "cell_type": "markdown",
   "metadata": {},
   "source": [
    "Before creating the grid we import NumPy, the SciPy sparse library and PorePy."
   ]
  },
  {
   "cell_type": "code",
   "execution_count": 1,
   "metadata": {},
   "outputs": [],
   "source": [
    "import numpy as np\n",
    "import scipy.sparse as sps\n",
    "\n",
    "import porepy as pp\n",
    "import pygeon as pg\n",
    "\n",
    "import os\n",
    "\n",
    "cwd_folder = os.getcwd()\n",
    "spe10_folder = cwd_folder + \"/spe10/\"\n",
    "\n",
    "import sys\n",
    "\n",
    "sys.path.insert(1, spe10_folder)\n",
    "\n",
    "from spe10 import Spe10"
   ]
  },
  {
   "cell_type": "markdown",
   "metadata": {},
   "source": [
    "We specify number of cells in each dimension and the physical size of the domain. Then we create a Cartesian grid and compute geometric properties such as face centers, cell volumes etc."
   ]
  },
  {
   "cell_type": "code",
   "execution_count": 2,
   "metadata": {
    "scrolled": true
   },
   "outputs": [],
   "source": [
    "selected_layers = 35  # 3, 35\n",
    "\n",
    "# Define the class with the corresponding layer(s)\n",
    "spe10 = Spe10(selected_layers)\n",
    "# For simplicity we extract the grid form the class spe10\n",
    "sd = spe10.sd\n",
    "\n",
    "# Read the permeability associated to the given layer(s)\n",
    "perm_folder = spe10_folder + \"/perm/\"\n",
    "spe10.read_perm(perm_folder)\n",
    "perm_dict = spe10.perm_as_dict()"
   ]
  },
  {
   "cell_type": "markdown",
   "metadata": {},
   "source": [
    "We declare the data for the Darcy problem."
   ]
  },
  {
   "cell_type": "code",
   "execution_count": 3,
   "metadata": {},
   "outputs": [],
   "source": [
    "# Permeability\n",
    "perm = pp.SecondOrderTensor(\n",
    "    kxx=perm_dict[\"kxx\"], kyy=perm_dict[\"kyy\"], kzz=perm_dict[\"kzz\"]\n",
    ")\n",
    "\n",
    "# Boundary conditions\n",
    "b_faces = sd.tags[\"domain_boundary_faces\"].nonzero()[0]\n",
    "b_face_centers = sd.face_centers[:, b_faces]\n",
    "\n",
    "# define outflow and inflow type boundary conditions, left and right boundary\n",
    "outflow = np.isclose(b_face_centers[1, :], spe10.full_physdims[1])\n",
    "inflow = np.isclose(b_face_centers[1, :], 0)\n",
    "\n",
    "# define the labels and values for the boundary faces\n",
    "labels = np.array([\"neu\"] * b_faces.size)\n",
    "labels[np.logical_or(inflow, outflow)] = \"dir\"\n",
    "\n",
    "bc_val = np.zeros(sd.num_faces)\n",
    "bc_val[b_faces[inflow]] = 1e8\n",
    "\n",
    "bc = pp.BoundaryCondition(sd, b_faces, labels)\n",
    "\n",
    "# Collect all parameters in a dictionary\n",
    "parameters = {\"second_order_tensor\": perm, \"bc\": bc, \"bc_values\": bc_val}"
   ]
  },
  {
   "cell_type": "markdown",
   "metadata": {},
   "source": [
    "We now set the data for the Darcy problem"
   ]
  },
  {
   "cell_type": "code",
   "execution_count": 4,
   "metadata": {},
   "outputs": [],
   "source": [
    "flow_key = \"flow\"\n",
    "flow_data = pp.initialize_default_data(sd, {}, flow_key, parameters)"
   ]
  },
  {
   "cell_type": "markdown",
   "metadata": {},
   "source": [
    "We now solve the Darcy problem by using the MPFA scheme."
   ]
  },
  {
   "cell_type": "code",
   "execution_count": 5,
   "metadata": {},
   "outputs": [],
   "source": [
    "# construct the lhr and rhs from the discretization of the diffusion operator\n",
    "mpfa = pp.Mpfa(flow_key)\n",
    "mpfa.discretize(sd, flow_data)\n",
    "A, b = mpfa.assemble_matrix_rhs(sd, flow_data)\n",
    "\n",
    "# solve the problem\n",
    "cell_p = sps.linalg.spsolve(A, b)\n",
    "\n",
    "# now data contains the discretization matrices build from MPFA\n",
    "mat_discr = flow_data[pp.DISCRETIZATION_MATRICES][flow_key]\n",
    "\n",
    "q = mat_discr[\"flux\"] @ cell_p + mat_discr[\"bound_flux\"] @ bc_val"
   ]
  },
  {
   "cell_type": "markdown",
   "metadata": {},
   "source": [
    "And we export the corresponding solutions."
   ]
  },
  {
   "cell_type": "code",
   "execution_count": 6,
   "metadata": {},
   "outputs": [],
   "source": [
    "# to export the flux we consider the virtual version of the rt0 to work on any cell type\n",
    "vrt0 = pg.VRT0(flow_key)\n",
    "\n",
    "# compute an operator for evaluating the flux in the cell centers\n",
    "proj = vrt0.eval_at_cell_centers(sd)\n",
    "\n",
    "# construct the P0 flux reconstruction, no reshape is needed\n",
    "cell_q = proj @ q\n",
    "\n",
    "save = pp.Exporter(sd, \"sol_p\", folder_name=\"ex5\")\n",
    "\n",
    "data_to_export = [\n",
    "    (\"kxx\", np.log10(perm_dict[\"kxx\"])),\n",
    "    (\"kyy\", np.log10(perm_dict[\"kyy\"])),\n",
    "    (\"kzz\", np.log10(perm_dict[\"kzz\"])),\n",
    "    (\"cell_p\", cell_p),\n",
    "    (\"cell_q\", cell_q),\n",
    "]\n",
    "save.write_vtu(data_to_export)"
   ]
  },
  {
   "cell_type": "markdown",
   "metadata": {},
   "source": [
    "We now consider the transport problem where now the advective field is the one computed from the Darcy problem. First we set the data."
   ]
  },
  {
   "cell_type": "code",
   "execution_count": 7,
   "metadata": {},
   "outputs": [],
   "source": [
    "# Transport problem\n",
    "transport_key = \"transport\"\n",
    "delta_t = 0.001\n",
    "num_steps = 40\n",
    "\n",
    "# Set in the data file the flux\n",
    "bc_val = np.zeros(sd.num_faces)\n",
    "bc_val[b_faces[inflow]] = 1\n",
    "\n",
    "parameters = {\"darcy_flux\": q, \"bc\": bc, \"bc_values\": bc_val}\n",
    "transport_data = pp.initialize_default_data(sd, {}, transport_key, parameters)"
   ]
  },
  {
   "cell_type": "markdown",
   "metadata": {},
   "source": [
    "As done in the other cases, we now construct the upwind matrix and the mass matrix."
   ]
  },
  {
   "cell_type": "code",
   "execution_count": 8,
   "metadata": {},
   "outputs": [],
   "source": [
    "# create the upwind and mass matrices\n",
    "upwind = pp.Upwind(transport_key)\n",
    "\n",
    "# discretize and get the matrices\n",
    "upwind.discretize(sd, transport_data)\n",
    "\n",
    "U, b_upwind = upwind.assemble_matrix_rhs(sd, transport_data)\n",
    "M = sps.diags(sd.cell_volumes)"
   ]
  },
  {
   "cell_type": "markdown",
   "metadata": {},
   "source": [
    "Finally, by using the implicit Euler we compute the concentration that is transported in the porous medium"
   ]
  },
  {
   "cell_type": "code",
   "execution_count": 9,
   "metadata": {},
   "outputs": [
    {
     "name": "stdout",
     "output_type": "stream",
     "text": [
      "5.402641987714661e-25 0.982276025846727\n",
      "8.351687999390184e-24 0.9996858607401834\n",
      "6.787036078292085e-23 0.9999944322038473\n",
      "3.860540316555987e-22 0.9999999013164935\n",
      "1.7266814815381e-21 0.9999999982509048\n",
      "6.4682447479519945e-21 0.9999999999689678\n",
      "2.1110273602259756e-20 0.9999999999994187\n",
      "6.165620870902484e-20 1.000000000000041\n",
      "1.6429132629792427e-19 1.0000000000000557\n",
      "4.0521914625260773e-19 1.0000000000001819\n",
      "9.35537239713284e-19 1.000000000000525\n",
      "2.039749542030872e-18 1.0000000000006797\n",
      "4.230059004022286e-18 1.0000000000007023\n",
      "8.393096803977452e-18 1.0000000000007039\n",
      "1.6011358544094142e-17 1.0000000000007039\n",
      "2.948846892263764e-17 1.0000000000007039\n",
      "5.26156163166346e-17 1.0000000000007039\n",
      "9.122621472307797e-17 1.0000000000007039\n",
      "1.540971833839099e-16 1.0000000000007039\n",
      "2.5416829716394363e-16 1.0000000000007039\n",
      "4.101659573713199e-16 1.000000000000903\n",
      "6.487345572149432e-16 1.0000000000019997\n",
      "1.0071974516665572e-15 1.0000000000022367\n",
      "1.537090459857042e-15 1.0000000003063845\n",
      "2.3086338890788987e-15 1.0000000004291025\n",
      "3.416334320553273e-15 1.0000000004786587\n",
      "4.9859348735407896e-15 1.0000000006107126\n",
      "7.182962388945988e-15 1.0000000006504184\n",
      "1.0223151956852606e-14 1.0000000006622853\n",
      "1.4385063452994112e-14 1.0000000006658134\n",
      "2.0025241233915506e-14 1.0000000006668577\n",
      "2.7596306845199066e-14 1.0000000006671657\n",
      "3.766841548657441e-14 1.000000000667256\n",
      "5.0954550006834585e-14 1.0000000006672825\n",
      "6.834017131553391e-14 1.0000000006672902\n",
      "9.091779123388412e-14 1.0000000006672924\n",
      "1.200270828923452e-13 1.000000000667293\n",
      "1.5730119473790056e-13 1.0000000006672933\n",
      "2.047199869539157e-13 1.0000000006672933\n",
      "2.646709635277487e-13 1.0000000006672933\n"
     ]
    }
   ],
   "source": [
    "# Initial condition and exporter\n",
    "c = np.zeros(sd.num_cells)\n",
    "save = pp.Exporter(sd, \"sol_c\", folder_name=\"ex5\")\n",
    "save.write_vtu([(\"conc\", c)], time_step=0)\n",
    "\n",
    "# IE with LU factorization\n",
    "S = M + delta_t * U\n",
    "lu = sps.linalg.splu(S.tocsc())\n",
    "for i in np.arange(num_steps):\n",
    "    c = lu.solve(M @ c - delta_t * b_upwind)\n",
    "    print(np.amin(c), np.amax(c))\n",
    "    save.write_vtu([(\"conc\", c)], time_step=(i + 1) * delta_t)\n",
    "\n",
    "# export the main pvd file\n",
    "time = np.arange((num_steps + 1)) * delta_t\n",
    "save.write_pvd(time)"
   ]
  },
  {
   "cell_type": "code",
   "execution_count": 12,
   "metadata": {},
   "outputs": [],
   "source": [
    "# Consistency check\n",
    "assert np.isclose(np.linalg.norm(c), 103.27075674401456)"
   ]
  }
 ],
 "metadata": {
  "kernelspec": {
   "display_name": "py3.13",
   "language": "python",
   "name": "python3"
  },
  "language_info": {
   "codemirror_mode": {
    "name": "ipython",
    "version": 3
   },
   "file_extension": ".py",
   "mimetype": "text/x-python",
   "name": "python",
   "nbconvert_exporter": "python",
   "pygments_lexer": "ipython3",
   "version": "3.13.0"
  }
 },
 "nbformat": 4,
 "nbformat_minor": 4
}
