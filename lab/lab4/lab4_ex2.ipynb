{
 "cells": [
  {
   "cell_type": "markdown",
   "id": "increasing-advantage",
   "metadata": {},
   "source": [
    "# Darcy equation in a fractured domain: exercise 2\n",
    "\n",
    "In this tutorial we present how to solve a Darcy equation with [PyGeoN](https://github.com/compgeo-mox/pygeon).  The unknowns are the velocity $q$ and the pressure $p$.\n",
    "\n",
    "We consider now the solution of a single-phase flow problem in a fractured porous media. The fractures are represented by grids of one dimension lower than the porous media, fracture intersections are represented as well as 2 co-dimensional objects and (in 3d) intersections of fracture intersections are represented by point. This approach is usually called mixed-dimensional approach.\n",
    "\n",
    "Let $\\Omega=(0,1)^2$ with boundary $\\partial \\Omega$ and outward unit normal ${\\nu}$. The fractures $\\gamma_1$ and $\\gamma_2$ are given by their two ending points as\n",
    "$$\n",
    "    \\gamma_1: \\quad x_0 = (0.2, 0.2) \\quad \\text{and} \\quad x_1 = (0.9, 1)\n",
    "$$\n",
    "$$\n",
    "    \\gamma_2: \\quad x_0 = (0.9, 0.2) \\quad \\text{and} \\quad x_1 = (0.2, 0.6)\n",
    "$$\n",
    "\n",
    "Given \n",
    "$k_\\Omega=I$ and $k_\\gamma$ the matrix and fractures permeabilities, and $\\psi_\\Omega = \\psi_\\gamma = 0$ the source terms for both the rock matrix and fractures. The fractures aperture $\\epsilon_\\gamma = 1e-3$.\n",
    "For simplicity we set $\\gamma = \\gamma_1 \\cup \\gamma_2$, \n",
    "we want to solve the following problem:\n",
    "find $({q}_\\Omega, p_\\Omega)$ in\n",
    "$\\Omega$ and $({q}_\\gamma, p_\\gamma)$ in $\\gamma$ such that\n",
    "$$\n",
    "    \\left\\{\n",
    "    \\begin{array}{ll}\n",
    "    \\begin{array}{l} \n",
    "        \\mu {q}_{\\Omega} + {K}_{\\Omega} \\nabla\n",
    "        p_{\\Omega} = {0}\\\\\n",
    "        \\nabla \\cdot {q}_{\\Omega} = \\psi_{\\Omega}\n",
    "    \\end{array}\n",
    "    &\\text{in } \\Omega\n",
    "    \\end{array}\n",
    "    \\right.\n",
    "$$\n",
    "$$\n",
    "    \\left\\{\n",
    "    \\begin{array}{ll}\n",
    "    \\begin{array}{l} \n",
    "        \\mu {q}_\\gamma + \\epsilon_\\gamma {k}_\\gamma \\nabla p_\\gamma = {0}\\\\\n",
    "        \\nabla_\\gamma \\cdot {q} = \\psi_\\gamma\n",
    "    \\end{array}\n",
    "    &\\text{in }\\gamma\n",
    "    \\end{array}\n",
    "    \\right.\n",
    "$$\n",
    "with coupling conditions between the fracture and the surrounding matrix as\n",
    "$$\n",
    "    \\left\\{\n",
    "    \\begin{array}{ll}\n",
    "    \\begin{array}{l} \n",
    "        \\mu \\epsilon_\\gamma {q}_{\\Omega_+} \\cdot {n} |_{\\gamma_+}+\n",
    "        {2}\n",
    "        \\kappa_\\gamma ( p_{\\Omega_+}|_{\\gamma_+} - p_\\gamma) = 0\\\\\n",
    "        \\mu \\epsilon_\\gamma {q}_{\\Omega_-} \\cdot {n} |_{\\gamma_-}+\n",
    "        {2}\n",
    "        \\kappa_\\gamma (p_\\gamma - p_{\\Omega_-}|_{\\gamma_-}) = 0\n",
    "    \\end{array}\n",
    "    &\\text{in }\\gamma\n",
    "    \\end{array}\n",
    "    \\right.\n",
    "$$\n",
    "with boundary conditions for both the rock matrix and fracture as\n",
    "$$ p = 0 \\text{ on } \\partial_{right} \\Omega \\qquad p = 1 \\text{ on } \\partial_{left} \\Omega \\qquad \\nu \\cdot q = 0 \\text{ on } \\partial_{top} \\Omega \\cup \\partial_{bottom} \\Omega$$\n",
    "\n",
    "We present *step-by-step* how to create the grid, declare the problem data, and finally solve the problem.\n",
    "\n",
    "\n",
    "Let us start by importing the modules for the computation."
   ]
  },
  {
   "cell_type": "code",
   "execution_count": 1,
   "id": "engaged-forum",
   "metadata": {},
   "outputs": [],
   "source": [
    "import numpy as np\n",
    "import scipy.sparse as sps\n",
    "\n",
    "import porepy as pp\n",
    "import pygeon as pg"
   ]
  },
  {
   "cell_type": "markdown",
   "id": "cloudy-technician",
   "metadata": {},
   "source": [
    "For simplicity in the presentation, we consider only bi-dimensional problems. The extension to three-dimensions is quite immediate. Fractures are represented as a fracture network and can imported from a file or created on-the-fly by setting their ending points."
   ]
  },
  {
   "cell_type": "code",
   "execution_count": 2,
   "id": "municipal-latitude",
   "metadata": {},
   "outputs": [
    {
     "data": {
      "image/png": "[encoded data removed]",
      "text/plain": [
       "<Figure size 640x480 with 1 Axes>"
      ]
     },
     "metadata": {},
     "output_type": "display_data"
    }
   ],
   "source": [
    "# Define a rectangular domain in terms of range in the two dimensions\n",
    "bounding_box = {\"xmin\": 0, \"xmax\": 1, \"ymin\": 0, \"ymax\": 1}\n",
    "domain = pp.Domain(bounding_box=bounding_box)\n",
    "\n",
    "# Define each individual fracture, collect into a list.\n",
    "frac1 = pp.LineFracture(np.array([[0.2, 0.9], [0.2, 1]]))\n",
    "frac2 = pp.LineFracture(np.array([[0.9, 0.2], [0.2, 0.6]]))\n",
    "fractures = [frac1, frac2]\n",
    "\n",
    "# Define a fracture network in 2d\n",
    "network = pp.create_fracture_network(fractures, domain)\n",
    "\n",
    "# Show graphically the domain and the fracture\n",
    "network.plot()"
   ]
  },
  {
   "cell_type": "code",
   "execution_count": 3,
   "id": "3d5f4907",
   "metadata": {},
   "outputs": [
    {
     "name": "stdout",
     "output_type": "stream",
     "text": [
      "\n",
      "Mixed-dimensional grid. \n",
      "Maximum dimension present: 2 \n",
      "Minimum dimension present: 0 \n",
      "Size of highest dimensional grid: Cells: 116. Nodes: 84\n",
      "In lower dimensions: \n",
      "2 grids of dimension 1, with in total 13 cells and 17 nodes. \n",
      "1 grids of dimension 0, with in total 1 cells and 0 nodes. \n",
      "Total number of interfaces: 4\n",
      "2 interfaces between grids of dimension 2 and 1 with in total 26 cells.\n",
      "2 interfaces between grids of dimension 1 and 0 with in total 4 cells.\n",
      "\n"
     ]
    }
   ],
   "source": [
    "# Set overall target cell size and target cell size close to the fracture.\n",
    "mesh_args = {\"cell_size\": 1.0, \"cell_size_fracture\": 0.3}\n",
    "\n",
    "# Generate a mixed-dimensional grid\n",
    "mdg = pp.create_mdg(\"simplex\", mesh_args, network)\n",
    "pg.convert_from_pp(mdg)\n",
    "mdg.compute_geometry()\n",
    "\n",
    "print(mdg)"
   ]
  },
  {
   "cell_type": "markdown",
   "id": "contained-death",
   "metadata": {},
   "source": [
    "We introduce now the data to solve a single-phase flow problem, in particular we assume that the fracture is highly-permeable compared to the surrounding porous media. For doing this, we loop on all the grid and the associated data of the grid bucket, in this case the matrix grid and the fracture grid. Here we proceed as before, by adding the specific properties of the problem."
   ]
  },
  {
   "cell_type": "code",
   "execution_count": 4,
   "id": "empty-verification",
   "metadata": {},
   "outputs": [],
   "source": [
    "key = \"flow\"\n",
    "bc_val = []\n",
    "bc_ess = []\n",
    "\n",
    "# Fracture data\n",
    "aperture = 1e-3\n",
    "fracture_perm = 1e-5\n",
    "matrix_perm = 1\n",
    "\n",
    "# declare the discretization objects, useful to setup the data\n",
    "rt0 = pg.RT0(key)\n",
    "p0 = pg.PwConstants(key)\n",
    "\n",
    "scalar_source = []\n",
    "for sd, data in mdg.subdomains(return_data=True):\n",
    "    if sd.dim == 1:\n",
    "        # effective permeability for the fracture\n",
    "        perm = pp.SecondOrderTensor(aperture * fracture_perm * np.ones(sd.num_cells))\n",
    "    else:\n",
    "        # unitary permeability tensor for the rock matrix\n",
    "        perm = pp.SecondOrderTensor(matrix_perm * np.ones(sd.num_cells))\n",
    "\n",
    "    parameters = {\n",
    "        \"second_order_tensor\": perm,\n",
    "    }\n",
    "    pp.initialize_data(sd, data, key, parameters)\n",
    "\n",
    "    # with the following steps we identify the portions of the boundary\n",
    "    # to impose the boundary conditions\n",
    "    left = np.isclose(sd.face_centers[0, :], 0)\n",
    "    right = np.isclose(sd.face_centers[0, :], 1)\n",
    "    left_right = np.logical_or(left, right)\n",
    "\n",
    "    top = np.isclose(sd.face_centers[1, :], 0)\n",
    "    bottom = np.isclose(sd.face_centers[1, :], 1)\n",
    "    top_bottom = np.logical_or(top, bottom)\n",
    "\n",
    "    # compute the pressure boundary condition, which is a natural condition for the RT0 space\n",
    "    def p_bc(x):\n",
    "        return 1 - x[0]\n",
    "\n",
    "    bc_val.append(-rt0.assemble_nat_bc(sd, p_bc, left_right))\n",
    "    bc_ess.append(top_bottom)\n",
    "\n",
    "ess_p_dofs = np.zeros(mdg.num_subdomain_cells(), dtype=bool)\n",
    "bc_ess.append(ess_p_dofs)"
   ]
  },
  {
   "cell_type": "markdown",
   "id": "complete-privacy",
   "metadata": {},
   "source": [
    "We consider now the interface between the fracture and the porous media, we can set additional data that govern the flow exchange between them, which is the normal permeability."
   ]
  },
  {
   "cell_type": "code",
   "execution_count": 5,
   "id": "editorial-thriller",
   "metadata": {},
   "outputs": [],
   "source": [
    "for mg, d in mdg.interfaces(return_data=True):\n",
    "    if mg.dim == 1:\n",
    "        kn = fracture_perm / (aperture / 2)\n",
    "    else:\n",
    "        kn = fracture_perm / (aperture**2 / 2)\n",
    "    pp.initialize_data(mg, d, key, {\"normal_diffusivity\": kn})"
   ]
  },
  {
   "cell_type": "markdown",
   "id": "5af00113",
   "metadata": {},
   "source": [
    "Once the data are assigned to the mixed-dimensional grid, we construct the matrices. In particular, the linear system associated with the equation is given as\n",
    "$$\n",
    "\\left(\n",
    "\\begin{array}{cc} \n",
    "M & -B^\\top\\\\\n",
    "B & 0\n",
    "\\end{array}\n",
    "\\right)\n",
    "\\left(\n",
    "\\begin{array}{c} \n",
    "q\\\\ \n",
    "p\n",
    "\\end{array}\n",
    "\\right)\n",
    "=\\left(\n",
    "\\begin{array}{c} \n",
    "0\\\\ \n",
    "f\n",
    "\\end{array}\n",
    "\\right)\n",
    "$$<br>\n",
    "$q$ now collects all the flux degrees of freedom for the rock matrix and fracture, similarly $p$ collects all the pressure degrees of freedom for the rock matrix and fracture.\n",
    "\n",
    "To construct the saddle-point problem, we rely on the `scipy.sparse` function `bmat`. Once the matrix is created, we also construct the right-hand side containing the source term."
   ]
  },
  {
   "cell_type": "code",
   "execution_count": 6,
   "id": "fcb165eb",
   "metadata": {},
   "outputs": [],
   "source": [
    "# construct the local matrices\n",
    "mass = pg.face_mass(mdg, keyword=key)\n",
    "div = pg.cell_mass(mdg) @ pg.div(mdg)\n",
    "\n",
    "# assemble the saddle point problem\n",
    "spp = sps.block_array([[mass, -div.T], [div, None]], format=\"csc\")\n",
    "\n",
    "# get the degrees of freedom for each variable\n",
    "dof_p, dof_q = div.shape\n",
    "\n",
    "# assemble the right-hand side\n",
    "rhs = np.zeros(dof_p + dof_q)\n",
    "rhs[:dof_q] += np.hstack(bc_val)"
   ]
  },
  {
   "cell_type": "markdown",
   "id": "bf9a6c20",
   "metadata": {},
   "source": [
    "We need to solve the linear system, PyGeoN provides a framework for that. Once the problem is solved, we extract the two solutions $q$ and $p$."
   ]
  },
  {
   "cell_type": "code",
   "execution_count": 7,
   "id": "1a94e332",
   "metadata": {},
   "outputs": [],
   "source": [
    "# solve the problem\n",
    "ls = pg.LinearSystem(spp, rhs)\n",
    "ls.flag_ess_bc(np.hstack(bc_ess), np.zeros(dof_q + dof_p))\n",
    "x = ls.solve()\n",
    "\n",
    "# extract the variables\n",
    "q = x[:dof_q]\n",
    "p = x[-dof_p:]"
   ]
  },
  {
   "cell_type": "markdown",
   "id": "985db1ad",
   "metadata": {},
   "source": [
    "Since the computed $q$ is one value per facet of the grid, for visualization purposes we project the flux in each cell center as vector. First, we need to access the corresponding degrees of freedoms for each domain.\n",
    "We finally export the solution to be visualized by [ParaView](https://www.paraview.org/)."
   ]
  },
  {
   "cell_type": "code",
   "execution_count": 8,
   "id": "6b455c84",
   "metadata": {},
   "outputs": [],
   "source": [
    "# post process variables\n",
    "dof_q_loc = np.zeros(2, dtype=int)\n",
    "dof_p_loc = np.zeros(2, dtype=int)\n",
    "\n",
    "for sd, data in mdg.subdomains(return_data=True):\n",
    "    # select the current dofs\n",
    "    dof_q_loc = dof_q_loc[1] + [0, sd.num_faces]\n",
    "    dof_p_loc = dof_p_loc[1] + [0, sd.num_cells]\n",
    "\n",
    "    # extract the local solutions\n",
    "    q_loc = q[dof_q_loc[0] : dof_q_loc[1]]\n",
    "    p_loc = p[dof_p_loc[0] : dof_p_loc[1]]\n",
    "\n",
    "    # compute the solution over each cell\n",
    "    proj_q = rt0.eval_at_cell_centers(sd)\n",
    "    cell_q = (proj_q @ q_loc).reshape((3, -1))\n",
    "    cell_p = p0.eval_at_cell_centers(sd) @ p_loc\n",
    "\n",
    "    # save the variables to be exported\n",
    "    pp.set_solution_values(\"cell_q\", cell_q, data, 0)\n",
    "    pp.set_solution_values(\"cell_p\", cell_p, data, 0)\n",
    "\n",
    "save = pp.Exporter(mdg, \"sol\", folder_name=\"ex2\")\n",
    "save.write_vtu([\"cell_q\", \"cell_p\"])"
   ]
  },
  {
   "cell_type": "code",
   "execution_count": null,
   "id": "60cb3c9c",
   "metadata": {},
   "outputs": [],
   "source": []
  }
 ],
 "metadata": {
  "kernelspec": {
   "display_name": "py3.13",
   "language": "python",
   "name": "python3"
  },
  "language_info": {
   "codemirror_mode": {
    "name": "ipython",
    "version": 3
   },
   "file_extension": ".py",
   "mimetype": "text/x-python",
   "name": "python",
   "nbconvert_exporter": "python",
   "pygments_lexer": "ipython3",
   "version": "3.13.0"
  }
 },
 "nbformat": 4,
 "nbformat_minor": 5
}
