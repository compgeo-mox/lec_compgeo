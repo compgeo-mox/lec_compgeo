{
 "cells": [
  {
   "cell_type": "markdown",
   "metadata": {},
   "source": [
    "# Reactive transport\n",
    "\n",
    "In this tutorial we investigate the reactive transport problem.\n",
    "\n",
    "## Exercise 3: transport and precipitation of chemical species\n",
    "\n",
    "Let $\\Upsilon=(0,1)^2$ with boundary $\\partial \\Upsilon$ and outward unit normal ${\\nu}$.\n",
    "We define also $(0, T)$ the time interval, being $T$ the final time.\n",
    "\n",
    "Given \n",
    "$k = I$ the matrix permeability, we want to solve the following problem: find $p$ such that\n",
    "$$\n",
    "\\nabla \\cdot (- k\\nabla p) = 0\n",
    "\\quad \\text{in } \\Upsilon\n",
    "$$\n",
    "with boundary conditions:\n",
    "$$ p = 0 \\text{ on } \\partial_{right} \\Upsilon \\qquad p = 1 \\text{ on } \\partial_{left} \\Upsilon \\qquad \\nu \\cdot k \\nabla p = 0 \\text{ on } \\partial_{top} \\Upsilon \\cup \\partial_{bottom} \\Upsilon$$\n",
    "\n",
    "Given the flux $q = - k \\nabla p$ computed by the previous model, we want to solve the following problem: find $c$ and $w$, called mobile and immobile species respectively, such that\n",
    "$$\n",
    "\\begin{cases}\n",
    "\\partial_t c + \\nabla \\cdot (qc) - r(c, w)= 0\\\\\n",
    "\\partial_t w + r(c, w) = 0\n",
    "\\end{cases}\n",
    "\\quad \\text{in } \\Upsilon \\times (0, T)\n",
    "$$\n",
    "where the reaction function $r$ is defined as\n",
    "\\begin{gather*}\n",
    "r(c, w) = \n",
    "\\begin{cases}\n",
    "k_d (1 - \\Omega) & \\text{if } \\Omega < 1 \\text{ and } w > 0\\\\\n",
    "k_p (1-\\Omega) & \\text{if } \\Omega > 1\n",
    "\\end{cases}\n",
    "\\end{gather*}\n",
    "here $\\Omega$ is the product of solubility given by $\\Omega = c / c_{eq}$, and the latter being set to $0.5$. And $k_d$ and $k_p$ are the reaction coefficients that are associated to the dissolution and precipitation chemical processes.\n",
    "\n",
    "\n",
    "\n",
    "The boundary conditions for the previous model are set on the inflow of the domain:\n",
    "$$ c = c_I \\quad \\text{ on } \\partial \\Upsilon \\times (0, T)$$\n",
    "and initial condition for the concentration\n",
    "$$ c(x, 0) = c_0(x) \\quad \\text{ in } \\Upsilon $$\n",
    "\n",
    "We present *step-by-step* how to create the grid, declare the problem data, and finally solve the problem."
   ]
  },
  {
   "cell_type": "markdown",
   "metadata": {},
   "source": [
    "Before creating the grid we import NumPy, the SciPy sparse library and PorePy."
   ]
  },
  {
   "cell_type": "code",
   "execution_count": 38,
   "metadata": {},
   "outputs": [],
   "source": [
    "import numpy as np\n",
    "import scipy.sparse as sps\n",
    "import porepy as pp"
   ]
  },
  {
   "cell_type": "markdown",
   "metadata": {},
   "source": [
    "We specify number of cells in each dimension and the physical size of the domain. Then we create a Cartesian grid and compute geometric properties such as face centers, cell volumes etc."
   ]
  },
  {
   "cell_type": "code",
   "execution_count": 39,
   "metadata": {
    "scrolled": true
   },
   "outputs": [],
   "source": [
    "dim = 2\n",
    "N = [20] * dim\n",
    "phys_dims = [1] * dim\n",
    "\n",
    "sd = pp.CartGrid(N, phys_dims)\n",
    "sd.compute_geometry()"
   ]
  },
  {
   "cell_type": "markdown",
   "metadata": {},
   "source": [
    "We first need to solve the Darcy problem, so declare its data."
   ]
  },
  {
   "cell_type": "code",
   "execution_count": 40,
   "metadata": {},
   "outputs": [],
   "source": [
    "# Permeability\n",
    "perm = pp.SecondOrderTensor(np.ones(sd.num_cells))\n",
    "\n",
    "# define outflow and inflow type boundary conditions, left and right boundary\n",
    "b_faces = sd.tags[\"domain_boundary_faces\"].nonzero()[0]\n",
    "b_face_centers = sd.face_centers[:, b_faces]\n",
    "\n",
    "outflow = np.isclose(b_face_centers[0, :], 1)\n",
    "inflow = np.isclose(b_face_centers[0, :], 0)\n",
    "\n",
    "# define the labels and values for the boundary faces\n",
    "labels = np.array([\"neu\"] * b_faces.size)\n",
    "bc_val = np.zeros(sd.num_faces)\n",
    "\n",
    "labels[np.logical_or(inflow, outflow)] = \"dir\"\n",
    "bc_val[b_faces[inflow]] = 1\n",
    "\n",
    "bc = pp.BoundaryCondition(sd, b_faces, labels)\n",
    "\n",
    "# Collect all parameters in a dictionary\n",
    "parameters = {\"second_order_tensor\": perm, \"bc\": bc, \"bc_values\": bc_val}"
   ]
  },
  {
   "cell_type": "markdown",
   "metadata": {},
   "source": [
    "We now set the data for the Darcy problem"
   ]
  },
  {
   "cell_type": "code",
   "execution_count": 41,
   "metadata": {},
   "outputs": [],
   "source": [
    "flow_key = \"flow\"\n",
    "flow_data = pp.initialize_default_data(sd, {}, flow_key, parameters)"
   ]
  },
  {
   "cell_type": "markdown",
   "metadata": {},
   "source": [
    "We now solve the Darcy problem by using the MPFA scheme."
   ]
  },
  {
   "cell_type": "code",
   "execution_count": 42,
   "metadata": {},
   "outputs": [],
   "source": [
    "# construct the lhr and rhs from the discretization of the diffusion operator\n",
    "mpfa = pp.Mpfa(flow_key)\n",
    "mpfa.discretize(sd, flow_data)\n",
    "A, b = mpfa.assemble_matrix_rhs(sd, flow_data)\n",
    "\n",
    "# solve the problem\n",
    "cell_p = sps.linalg.spsolve(A, b)\n",
    "\n",
    "# now data contains the discretization matrices build from MPFA\n",
    "mat_discr = flow_data[pp.DISCRETIZATION_MATRICES][flow_key]\n",
    "\n",
    "q = mat_discr[\"flux\"] @ cell_p + mat_discr[\"bound_flux\"] @ bc_val"
   ]
  },
  {
   "cell_type": "markdown",
   "metadata": {},
   "source": [
    "And we export the corresponding solutions."
   ]
  },
  {
   "cell_type": "code",
   "execution_count": 43,
   "metadata": {},
   "outputs": [],
   "source": [
    "save = pp.Exporter(sd, \"sol_p\", folder_name=\"ex3\")\n",
    "exp_p = save.write_vtu([(\"cell_p\", cell_p)])"
   ]
  },
  {
   "cell_type": "markdown",
   "metadata": {},
   "source": [
    "We now consider the transport problem where now the advective field is the one computed from the Darcy problem. First we set the data."
   ]
  },
  {
   "cell_type": "code",
   "execution_count": 44,
   "metadata": {},
   "outputs": [],
   "source": [
    "# Transport problem\n",
    "transport_key = \"transport\"\n",
    "delta_t = 0.01\n",
    "num_steps = 100\n",
    "\n",
    "# Set in the data file the flux\n",
    "bc_val = np.zeros(sd.num_faces)\n",
    "bc_val[b_faces[inflow]] = 1\n",
    "\n",
    "parameters = {\"darcy_flux\": q, \"bc\": bc, \"bc_values\": bc_val}\n",
    "transport_data = pp.initialize_default_data(sd, {}, transport_key, parameters)"
   ]
  },
  {
   "cell_type": "markdown",
   "metadata": {},
   "source": [
    "We now construct the upwind matrix and the mass matrix."
   ]
  },
  {
   "cell_type": "code",
   "execution_count": 45,
   "metadata": {},
   "outputs": [],
   "source": [
    "# create the upwind and mass matrices\n",
    "upwind = pp.Upwind(transport_key)\n",
    "\n",
    "# discretize and get the matrices\n",
    "upwind.discretize(sd, transport_data)\n",
    "\n",
    "U, b_upwind = upwind.assemble_matrix_rhs(sd, transport_data)\n",
    "M = sps.diags(sd.cell_volumes)"
   ]
  },
  {
   "cell_type": "markdown",
   "metadata": {},
   "source": [
    "Finally, by using the implicit Euler we compute the concentration that is transported in the porous medium. Since the reaction term is nonlinear we employ a splitting strategy. My calling $M$ and $U$ the associated mass and upwind matrices and $R$ the reaction term we consider the following strategy for each time step $n$. Instead of\n",
    "solving the following nonlinear problem\n",
    "\\begin{gather*}\n",
    "    \\begin{cases}\n",
    "    &(M + \\Delta t U) c^{n+1} - \\Delta t M R(c^{n+1}, w^{n+1}) = M c^n\\\\\n",
    "    &M w^{n+1}  + \\Delta t M R(c^{n+1}, w^{n+1}) = M w^n\n",
    "    \\end{cases}\n",
    "\\end{gather*}\n",
    "we solve sequentially the following semi-implicit scheme\n",
    "\\begin{align*}\n",
    "    &\\text{first step}\n",
    "    &&(M + \\Delta t U) c^{*} = M c^n\n",
    "    \\\\\n",
    "    &\\text{second step} &&\n",
    "    \\begin{cases}\n",
    "    &c^{n+1} = c^{*} + \\Delta t R(c^{*}, w^{n})\\\\\n",
    "    &w^{n+1} = w^n - \\Delta t R(c^{*}, w^{n})\n",
    "    \\end{cases}\n",
    "\\end{align*}"
   ]
  },
  {
   "cell_type": "code",
   "execution_count": 46,
   "metadata": {},
   "outputs": [],
   "source": [
    "# Initial condition and exporter\n",
    "c = np.zeros(sd.num_cells)\n",
    "w = (\n",
    "    0.5\n",
    "    * (sd.cell_centers[0] > 0.4)\n",
    "    * (sd.cell_centers[0] < 0.6)\n",
    "    * (sd.cell_centers[1] > 0.4)\n",
    "    * (sd.cell_centers[1] < 0.6)\n",
    ")\n",
    "save = pp.Exporter(sd, \"sol_c\", folder_name=\"ex3\")\n",
    "save.write_vtu([(\"conc\", c), (\"prec\", w)], time_step=0)\n",
    "\n",
    "kd = 1\n",
    "kp = 1\n",
    "c_eq = 0.5\n",
    "\n",
    "# IE\n",
    "S = M + delta_t * U\n",
    "for i in np.arange(num_steps):\n",
    "    c_star = sps.linalg.spsolve(S, M @ c - delta_t * b_upwind)\n",
    "\n",
    "    # with a splitting perform the chemical part cell by cell\n",
    "    omega = c_star / c_eq\n",
    "    rd = kd * (1 - omega) * (w > 0) * (omega < 1)\n",
    "    rp = kp * (1 - omega) * (omega > 1)\n",
    "    c = c_star + delta_t * (rd + rp)\n",
    "    w = w + delta_t * (-rd - rp)\n",
    "\n",
    "    save.write_vtu([(\"conc\", c), (\"prec\", w)], time_step=(i + 1))\n",
    "\n",
    "# export the main pvd file\n",
    "time = np.arange((num_steps + 1)) * delta_t\n",
    "save.write_pvd(time)"
   ]
  }
 ],
 "metadata": {
  "kernelspec": {
   "display_name": "py3.12",
   "language": "python",
   "name": "python3"
  },
  "language_info": {
   "codemirror_mode": {
    "name": "ipython",
    "version": 3
   },
   "file_extension": ".py",
   "mimetype": "text/x-python",
   "name": "python",
   "nbconvert_exporter": "python",
   "pygments_lexer": "ipython3",
   "version": "3.12.5"
  }
 },
 "nbformat": 4,
 "nbformat_minor": 4
}
