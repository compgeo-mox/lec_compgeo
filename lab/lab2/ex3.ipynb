{
 "cells": [
  {
   "cell_type": "markdown",
   "id": "essential-american",
   "metadata": {},
   "source": [
    "# Darcy equation: exercise 3\n",
    "\n",
    "Let $\\Omega=(0,1)^2$ with boundary $\\partial \\Omega$ and outward unit normal ${\\nu}$. Given \n",
    "$k$ the matrix permeability, we want to solve the following problem: find $({q}, p)$ such that\n",
    "$$\n",
    "\\left\\{\n",
    "\\begin{array}{ll}\n",
    "\\begin{array}{l} \n",
    "k^{-1} {q} + \\nabla p = 0\\\\\n",
    "\\nabla \\cdot {q} = 0\n",
    "\\end{array}\n",
    "&\\text{in } \\Omega\n",
    "\\end{array}\n",
    "\\right.\n",
    "$$\n",
    "with boundary conditions:\n",
    "$$ p = 1 \\text{ on } \\partial_{top} \\Omega \\qquad p = 0 \\text{ on } \\partial_{bottom} \\Omega \\qquad \\nu \\cdot q = 0 \\text{ on } \\partial_{left} \\Omega \\cup \\partial_{right} \\Omega$$\n",
    "The matrix permeability is defined in the following way\n",
    "$$\n",
    "k(x, y) = \n",
    "\\left\\{\n",
    "\\begin{array}{ll}\n",
    "k_1 & 0.2 < y < 0.4\\\\\n",
    "k_2 & 0.6 < y < 0.8\\\\\n",
    "1 & \\text{otherwise}\n",
    "\\end{array}\n",
    "\\right.\n",
    "$$\n",
    "with, for example, $k_1 = k_2 = 10^{-2}$. Compare the effective permeability computed analytically or numerically.\n",
    "\n",
    "We present *step-by-step* how to create the grid, declare the problem data, and finally solve the problem."
   ]
  },
  {
   "cell_type": "markdown",
   "id": "planned-danger",
   "metadata": {},
   "source": [
    "First we import some of the standard modules."
   ]
  },
  {
   "cell_type": "code",
   "execution_count": 1,
   "id": "dietary-perth",
   "metadata": {},
   "outputs": [],
   "source": [
    "import numpy as np\n",
    "import scipy.sparse as sps\n",
    "\n",
    "import porepy as pp\n",
    "import pygeon as pg"
   ]
  },
  {
   "cell_type": "markdown",
   "id": "roman-glossary",
   "metadata": {},
   "source": [
    "We create now the grid, to facilitate the imposizione of $k$ we consider a structured grid from PorePy and then convert it into a PyGeoN grid."
   ]
  },
  {
   "cell_type": "code",
   "execution_count": 2,
   "id": "spectacular-saturn",
   "metadata": {},
   "outputs": [],
   "source": [
    "N, dim = 10, 2\n",
    "# creation of the grid\n",
    "sd = pg.unit_grid(dim, 1 / N, as_mdg=False, structured=True)\n",
    "# compute the geometrical properties of the grid\n",
    "sd.compute_geometry()"
   ]
  },
  {
   "cell_type": "markdown",
   "id": "precious-belle",
   "metadata": {},
   "source": [
    "With the following code we set the data, in particular the permeability tensor and the boundary conditions. Since we need to identify each side of $\\partial \\Omega$ we need few steps."
   ]
  },
  {
   "cell_type": "code",
   "execution_count": 3,
   "id": "spare-person",
   "metadata": {},
   "outputs": [],
   "source": [
    "key = \"flow\"\n",
    "k1, k2 = 1e-2, 1e-2\n",
    "bc_val = []\n",
    "bc_ess = []\n",
    "\n",
    "# declare the discretization objects, useful to setup the data\n",
    "rt0 = pg.RT0(key)\n",
    "p0 = pg.PwConstants(key)\n",
    "\n",
    "# set up the data for the flow problem\n",
    "data = {}\n",
    "\n",
    "# heterogeneous permeability tensor\n",
    "y = sd.cell_centers[1, :]\n",
    "\n",
    "inv_perm_vals = np.ones(sd.num_cells)\n",
    "inv_perm_vals[np.logical_and(y > 0.2, y < 0.4)] = 1 / k1\n",
    "inv_perm_vals[np.logical_and(y > 0.6, y < 0.8)] = 1 / k2\n",
    "\n",
    "inv_perm = pp.SecondOrderTensor(inv_perm_vals)\n",
    "parameters = {\n",
    "    \"second_order_tensor\": inv_perm,\n",
    "}\n",
    "pp.initialize_data(sd, data, key, parameters)\n",
    "\n",
    "# with the following steps we identify the portions of the boundary\n",
    "# to impose the boundary conditions\n",
    "left = np.isclose(sd.face_centers[0, :], 0)\n",
    "right = np.isclose(sd.face_centers[0, :], 1)\n",
    "left_right = np.logical_or(left, right)\n",
    "\n",
    "bottom = np.isclose(sd.face_centers[1, :], 0)\n",
    "top = np.isclose(sd.face_centers[1, :], 1)\n",
    "bottom_top = np.logical_or(bottom, top)\n",
    "\n",
    "ess_p_dofs = np.zeros(p0.ndof(sd), dtype=bool)\n",
    "\n",
    "\n",
    "# compute the pressure boundary condition, which is a natural condition for the RT0 space\n",
    "def p_bc(x):\n",
    "    return x[1]\n",
    "\n",
    "\n",
    "bc_val = -rt0.assemble_nat_bc(sd, p_bc, bottom_top)\n",
    "bc_ess = np.hstack((left_right, ess_p_dofs))"
   ]
  },
  {
   "cell_type": "markdown",
   "id": "secure-flesh",
   "metadata": {},
   "source": [
    "Once the data are assigned to the grid, we construct the matrices. In particular, the linear system associated with the equation is given as\n",
    "$$\n",
    "\\left(\n",
    "\\begin{array}{cc} \n",
    "M & -B^\\top\\\\\n",
    "B & 0\n",
    "\\end{array}\n",
    "\\right)\n",
    "\\left(\n",
    "\\begin{array}{c} \n",
    "q\\\\ \n",
    "p\n",
    "\\end{array}\n",
    "\\right)\n",
    "=\\left(\n",
    "\\begin{array}{c} \n",
    "p_{\\partial}\\\\ \n",
    "0\n",
    "\\end{array}\n",
    "\\right)\n",
    "$$"
   ]
  },
  {
   "cell_type": "code",
   "execution_count": 4,
   "id": "romance-findings",
   "metadata": {},
   "outputs": [],
   "source": [
    "# construct the local matrices\n",
    "mass_rt0 = rt0.assemble_mass_matrix(sd, data)\n",
    "mass_p0 = p0.assemble_mass_matrix(sd, data)\n",
    "div = mass_p0 @ rt0.assemble_diff_matrix(sd)\n",
    "\n",
    "# assemble the saddle point problem\n",
    "spp = sps.block_array(\n",
    "    [\n",
    "        [mass_rt0, -div.T],\n",
    "        [div, None],\n",
    "    ],\n",
    "    format=\"csc\",\n",
    ")\n",
    "\n",
    "# get the degrees of freedom for each variable\n",
    "dof_p, dof_q = div.shape\n",
    "\n",
    "# assemble the right-hand side\n",
    "rhs = np.zeros(dof_p + dof_q)\n",
    "rhs[:dof_q] += bc_val"
   ]
  },
  {
   "cell_type": "markdown",
   "id": "mobile-nirvana",
   "metadata": {},
   "source": [
    "We solve the linear system and extract the two solutions $q$ and $p$."
   ]
  },
  {
   "cell_type": "code",
   "execution_count": 5,
   "id": "subtle-wonder",
   "metadata": {},
   "outputs": [],
   "source": [
    "# solve the problem\n",
    "ls = pg.LinearSystem(spp, rhs)\n",
    "ls.flag_ess_bc(bc_ess, np.zeros(dof_q + dof_p))\n",
    "x = ls.solve()\n",
    "\n",
    "# extract the variables\n",
    "q = x[:dof_q]\n",
    "p = x[-dof_p:]"
   ]
  },
  {
   "cell_type": "markdown",
   "id": "pacific-alpha",
   "metadata": {},
   "source": [
    "Since the computed $q$ is one value per facet of the grid, for visualization purposes we project the flux in each cell center as vector. We finally export the solution to be visualized by [ParaView](https://www.paraview.org/)."
   ]
  },
  {
   "cell_type": "code",
   "execution_count": 6,
   "id": "satisfactory-jerusalem",
   "metadata": {},
   "outputs": [],
   "source": [
    "# post process variables\n",
    "proj_q = rt0.eval_at_cell_centers(sd)\n",
    "cell_q = (proj_q @ q).reshape((3, -1))\n",
    "cell_p = p0.eval_at_cell_centers(sd) @ p\n",
    "\n",
    "save = pp.Exporter(sd, \"sol\", folder_name=\"ex3\")\n",
    "save.write_vtu(\n",
    "    [(\"cell_p\", cell_p), (\"cell_q\", cell_q), (\"permeability\", inv_perm_vals)]\n",
    ")"
   ]
  },
  {
   "cell_type": "markdown",
   "id": "6703db0b",
   "metadata": {},
   "source": [
    "Let us compute now the effective permeability, analytically we can use the following expression\n",
    "$$\n",
    "k_{\\perp}^{eff} = \\frac{5}{\\frac{3}{k_0} + \\frac{1}{k_1} + \\frac{1}{k_2}}\n",
    "$$\n",
    "while, by considering the Darcy law we can approximate numerically the permeability as\n",
    "$$\n",
    " q = - k \\nabla p \\quad \\Rightarrow \\quad q \\cdot \\nu|_{bottom} = - \\tilde{k}_{\\perp}^{eff} \\frac{p_{top} - p_{bottom}}{\\Delta y} \n",
    " \\quad \\Rightarrow \\quad \\tilde{k}_{\\perp}^{eff} = \\frac{q \\cdot \\nu|_{bottom} \\Delta y}{p_{top} -p_{bottom}}\n",
    "$$\n",
    "by considering the geometry and boundary conditions of the current problem then we obtain\n",
    "$$\n",
    "\\tilde{k}_{\\perp}^{eff} = q \\cdot \\nu|_{bottom}.\n",
    "$$"
   ]
  },
  {
   "cell_type": "code",
   "execution_count": 9,
   "id": "edf1e862",
   "metadata": {},
   "outputs": [
    {
     "name": "stdout",
     "output_type": "stream",
     "text": [
      "Numerical effective permeability 0.02463054187192118\n",
      "Analytical effective permeability 0.024630541871921183\n",
      "Relative error 1.4085954624931674e-16\n"
     ]
    }
   ],
   "source": [
    "# compute the numerical effective permeability\n",
    "normal = sd.face_normals[:, bottom] / sd.face_areas[bottom]\n",
    "normal_sign = sd.cell_faces.data\n",
    "\n",
    "signs = sd.cell_faces.T @ bottom\n",
    "perm_eff_num = np.sum(q[bottom])\n",
    "\n",
    "# compute the analytical effective permeability\n",
    "perm_eff_ana = 5 / (3 + 1 / k1 + 1 / k2)\n",
    "\n",
    "relative_err = np.abs(perm_eff_ana - perm_eff_num) / perm_eff_ana\n",
    "print(\"Numerical effective permeability\", perm_eff_num)\n",
    "print(\"Analytical effective permeability\", perm_eff_ana)\n",
    "print(\"Relative error\", relative_err)"
   ]
  },
  {
   "cell_type": "code",
   "execution_count": 10,
   "id": "23aa17c3",
   "metadata": {},
   "outputs": [],
   "source": [
    "# Consistency check\n",
    "assert np.isclose(np.linalg.norm(relative_err), 0)"
   ]
  }
 ],
 "metadata": {
  "kernelspec": {
   "display_name": "py3.13",
   "language": "python",
   "name": "python3"
  },
  "language_info": {
   "codemirror_mode": {
    "name": "ipython",
    "version": 3
   },
   "file_extension": ".py",
   "mimetype": "text/x-python",
   "name": "python",
   "nbconvert_exporter": "python",
   "pygments_lexer": "ipython3",
   "version": "3.13.0"
  }
 },
 "nbformat": 4,
 "nbformat_minor": 5
}
