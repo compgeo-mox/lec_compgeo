{
 "cells": [
  {
   "cell_type": "markdown",
   "id": "essential-american",
   "metadata": {},
   "source": [
    "# Darcy equation: exercise 4\n",
    "\n",
    "Let $\\Omega=(0,1)^2$ with boundary $\\partial \\Omega$ and outward unit normal ${\\nu}$. Given \n",
    "$k=I$ the matrix permeability and $f$ a scalar source term, we want to solve the following problem: find $({q}, p)$ such that\n",
    "$$\n",
    "\\left\\{\n",
    "\\begin{array}{ll}\n",
    "\\begin{array}{l} \n",
    "k^{-1} {q} + \\nabla p = 0\\\\\n",
    "\\nabla \\cdot {q} = f\n",
    "\\end{array}\n",
    "&\\text{in } \\Omega\n",
    "\\end{array}\n",
    "\\right.\n",
    "$$\n",
    "with boundary conditions:\n",
    "$$ \\nu \\cdot q = 0 \\text{ on } \\partial \\Omega$$\n",
    "Where $f = \\pm 1$ represents two wells, one with $+1$ and one with $-1$, set on the two corners of the domain.\n",
    "The problem clearly does not have a unique solution and we need to design a strategy to make it solvable.\n",
    "\n",
    "We present *step-by-step* how to create the grid, declare the problem data, and finally solve the problem."
   ]
  },
  {
   "cell_type": "markdown",
   "id": "planned-danger",
   "metadata": {},
   "source": [
    "First we import some of the standard modules."
   ]
  },
  {
   "cell_type": "code",
   "execution_count": 1,
   "id": "dietary-perth",
   "metadata": {},
   "outputs": [],
   "source": [
    "import numpy as np\n",
    "import scipy.sparse as sps\n",
    "\n",
    "import porepy as pp\n",
    "import pygeon as pg"
   ]
  },
  {
   "cell_type": "markdown",
   "id": "roman-glossary",
   "metadata": {},
   "source": [
    "We create now the grid, since we will use a Raviart-Thomas approximation for ${q}$ we are restricted to simplices. In this example we consider a 2-dimensional grid."
   ]
  },
  {
   "cell_type": "code",
   "execution_count": null,
   "id": "spectacular-saturn",
   "metadata": {},
   "outputs": [
    {
     "name": "stdout",
     "output_type": "stream",
     "text": [
      "\n"
     ]
    }
   ],
   "source": [
    "mesh_size = 0.05\n",
    "# creation of the grid\n",
    "sd = pg.unit_grid(2, mesh_size, as_mdg=False)\n",
    "# compute the geometrical properties of the grid\n",
    "sd.compute_geometry()\n",
    "\n",
    "# pp.plot_grid(sd, info=\"c\", alpha=0, fig_size=(20, 20))"
   ]
  },
  {
   "cell_type": "markdown",
   "id": "precious-belle",
   "metadata": {},
   "source": [
    "With the following code we set the data, in particular the permeability tensor and the boundary conditions. Since we need to identify each side of $\\partial \\Omega$ we need few steps."
   ]
  },
  {
   "cell_type": "code",
   "execution_count": 18,
   "id": "spare-person",
   "metadata": {},
   "outputs": [],
   "source": [
    "key = \"flow\"\n",
    "\n",
    "# the cells of the two wells, specific for the current grid\n",
    "well_in = 878\n",
    "well_out = 865\n",
    "\n",
    "# declare the discretization objects, useful to setup the data\n",
    "rt0 = pg.RT0(key)\n",
    "p0 = pg.PwConstants(key)\n",
    "\n",
    "# set up the data for the flow problem\n",
    "data = {}\n",
    "\n",
    "# set the permeability\n",
    "perm = pp.SecondOrderTensor(np.ones(sd.num_cells))\n",
    "parameters = {\n",
    "    \"second_order_tensor\": perm,\n",
    "}\n",
    "pp.initialize_data(sd, data, key, parameters)\n",
    "\n",
    "# set up the wells\n",
    "scalar_source = np.zeros(sd.num_cells)\n",
    "scalar_source[well_in] = 1\n",
    "scalar_source[well_out] = -1\n",
    "\n",
    "# set for all the boundary essential condition\n",
    "ess_q_dofs = np.zeros(rt0.ndof(sd), dtype=bool)\n",
    "ess_p_dofs = np.zeros(p0.ndof(sd), dtype=bool)\n",
    "bc_ess = np.hstack((ess_q_dofs, ess_p_dofs))"
   ]
  },
  {
   "cell_type": "markdown",
   "id": "secure-flesh",
   "metadata": {},
   "source": [
    "Once the data are assigned to the grid, we construct the matrices. In particular, the linear system associated with the equation is given as\n",
    "$$\n",
    "\\left(\n",
    "\\begin{array}{cc} \n",
    "M & -B^\\top\\\\\n",
    "B & 0\n",
    "\\end{array}\n",
    "\\right)\n",
    "\\left(\n",
    "\\begin{array}{c} \n",
    "q\\\\ \n",
    "p\n",
    "\\end{array}\n",
    "\\right)\n",
    "=\\left(\n",
    "\\begin{array}{c} \n",
    "0\\\\ \n",
    "f\n",
    "\\end{array}\n",
    "\\right)\n",
    "$$<br>\n",
    "where $p_{\\partial}$ is the vector associated to the pressure boundary contions. To construct the saddle-point problem, we rely on the `scipy.sparse` function `bmat`. Once the matrix is created, we also construct the right-hand side containing the boundary conditions."
   ]
  },
  {
   "cell_type": "code",
   "execution_count": 19,
   "id": "romance-findings",
   "metadata": {},
   "outputs": [],
   "source": [
    "# construct the local matrices\n",
    "mass_rt0 = rt0.assemble_mass_matrix(sd, data)\n",
    "mass_p0 = p0.assemble_mass_matrix(sd, data)\n",
    "div = mass_p0 @ rt0.assemble_diff_matrix(sd)\n",
    "\n",
    "# assemble the saddle point problem\n",
    "spp = sps.block_array(\n",
    "    [\n",
    "        [mass_rt0, -div.T],\n",
    "        [div, None],\n",
    "    ],\n",
    "    format=\"csc\",\n",
    ")\n",
    "\n",
    "# get the degrees of freedom for each variable\n",
    "dof_p, dof_q = div.shape"
   ]
  },
  {
   "cell_type": "markdown",
   "id": "4c0f5709",
   "metadata": {},
   "source": [
    "However, the matrix `spp` is singular but we can impose that the pressure has zero average\n",
    "$$\n",
    "    \\int_\\Omega p = 0 \\quad \\Rightarrow \\quad \\sum_i p_i = 0\n",
    "$$\n",
    "since our pressure degrees of freedom already includes the measure of the cells. We can use a Lagrange multiplier to impose this constraint, we add a new line to the system and its corresponding (anti)transpose."
   ]
  },
  {
   "cell_type": "code",
   "execution_count": 20,
   "id": "71077604",
   "metadata": {},
   "outputs": [],
   "source": [
    "# construct the contraint\n",
    "cons = np.ones((1, dof_q + dof_p))\n",
    "cons[0, dof_q:] = np.ones(dof_p)\n",
    "\n",
    "# add the constraint\n",
    "spp = sps.block_array(\n",
    "    [\n",
    "        [spp, -cons.T],\n",
    "        [cons, None],\n",
    "    ],\n",
    "    format=\"csc\",\n",
    ")\n",
    "\n",
    "# assemble the right-hand side\n",
    "rhs = np.zeros(dof_q + dof_p + 1)\n",
    "rhs[dof_q:-1] += scalar_source"
   ]
  },
  {
   "cell_type": "markdown",
   "id": "mobile-nirvana",
   "metadata": {},
   "source": [
    "We need to solve the linear system and extract the two solutions $q$ and $p$, by remembering to discard the last row used for the Lagrange multiplier."
   ]
  },
  {
   "cell_type": "code",
   "execution_count": 21,
   "id": "subtle-wonder",
   "metadata": {},
   "outputs": [],
   "source": [
    "# fix the bc\n",
    "bc = np.zeros_like(rhs, dtype=bool)\n",
    "bc[:-1] = bc_ess\n",
    "\n",
    "# solve the problem\n",
    "ls = pg.LinearSystem(spp, rhs)\n",
    "ls.flag_ess_bc(bc, np.zeros_like(rhs))\n",
    "x = ls.solve()[:-1]\n",
    "\n",
    "# extract the variables\n",
    "q = x[:dof_q]\n",
    "p = x[-dof_p:]"
   ]
  },
  {
   "cell_type": "markdown",
   "id": "pacific-alpha",
   "metadata": {},
   "source": [
    "Since the computed $q$ is one value per facet of the grid, for visualization purposes we project the flux in each cell center as vector. We finally export the solution to be visualized by [ParaView](https://www.paraview.org/)."
   ]
  },
  {
   "cell_type": "code",
   "execution_count": 22,
   "id": "satisfactory-jerusalem",
   "metadata": {},
   "outputs": [],
   "source": [
    "# post process variables\n",
    "proj_q = rt0.eval_at_cell_centers(sd)\n",
    "cell_q = (proj_q @ q).reshape((3, -1))\n",
    "cell_p = p0.eval_at_cell_centers(sd) @ p\n",
    "\n",
    "save = pp.Exporter(sd, \"sol\", folder_name=\"ex4\")\n",
    "save.write_vtu([(\"cell_p\", cell_p), (\"cell_q\", cell_q)])"
   ]
  }
 ],
 "metadata": {
  "kernelspec": {
   "display_name": "py3.13",
   "language": "python",
   "name": "python3"
  },
  "language_info": {
   "codemirror_mode": {
    "name": "ipython",
    "version": 3
   },
   "file_extension": ".py",
   "mimetype": "text/x-python",
   "name": "python",
   "nbconvert_exporter": "python",
   "pygments_lexer": "ipython3",
   "version": "3.13.0"
  }
 },
 "nbformat": 4,
 "nbformat_minor": 5
}
