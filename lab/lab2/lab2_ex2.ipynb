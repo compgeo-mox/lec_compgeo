{
 "cells": [
  {
   "cell_type": "markdown",
   "id": "essential-american",
   "metadata": {},
   "source": [
    "# Darcy equation: exercise 2\n",
    "\n",
    "Let $\\Omega=(0,1)^2$ with boundary $\\partial \\Omega$ and outward unit normal ${\\nu}$. Given \n",
    "$k=I$ the matrix permeability and $g$ a vector source term, we want to solve the following problem: find $({q}, p)$ such that\n",
    "$$\n",
    "\\left\\{\n",
    "\\begin{array}{ll}\n",
    "\\begin{array}{l} \n",
    "k^{-1} {q} + \\nabla p = {g}\\\\\n",
    "\\nabla \\cdot {q} = 0\n",
    "\\end{array}\n",
    "&\\text{in } \\Omega\n",
    "\\end{array}\n",
    "\\right.\n",
    "$$\n",
    "with boundary conditions:\n",
    "$$ p = 0 \\text{ on } \\partial_{top} \\Omega \\qquad p = 1 \\text{ on } \\partial_{bottom} \\Omega \\qquad \\nu \\cdot q = 0 \\text{ on } \\partial_{left} \\Omega \\cup \\partial_{right} \\Omega$$\n",
    "\n",
    "We present *step-by-step* how to create the grid, declare the problem data, and finally solve the problem."
   ]
  },
  {
   "cell_type": "markdown",
   "id": "planned-danger",
   "metadata": {},
   "source": [
    "First we import some of the standard modules."
   ]
  },
  {
   "cell_type": "code",
   "execution_count": 1,
   "id": "dietary-perth",
   "metadata": {},
   "outputs": [],
   "source": [
    "import numpy as np\n",
    "import scipy.sparse as sps\n",
    "\n",
    "import porepy as pp\n",
    "import pygeon as pg"
   ]
  },
  {
   "cell_type": "markdown",
   "id": "roman-glossary",
   "metadata": {},
   "source": [
    "We create now the grid, in this example we consider a 2-dimensional grid."
   ]
  },
  {
   "cell_type": "code",
   "execution_count": 2,
   "id": "spectacular-saturn",
   "metadata": {},
   "outputs": [
    {
     "name": "stdout",
     "output_type": "stream",
     "text": [
      "\n"
     ]
    }
   ],
   "source": [
    "mesh_size = 0.05 * 2\n",
    "# creation of the grid\n",
    "sd = pg.unit_grid(2, mesh_size, as_mdg=False)\n",
    "# compute the geometrical properties of the grid\n",
    "sd.compute_geometry()"
   ]
  },
  {
   "cell_type": "markdown",
   "id": "precious-belle",
   "metadata": {},
   "source": [
    "With the following code we set the data, in particular the permeability tensor and the boundary conditions. Since we need to identify each side of $\\partial \\Omega$ we need few steps."
   ]
  },
  {
   "cell_type": "code",
   "execution_count": 3,
   "id": "spare-person",
   "metadata": {},
   "outputs": [
    {
     "name": "stdout",
     "output_type": "stream",
     "text": [
      "[-1. -0. -0.  1. -0. -0. -0. -0. -0.  0. -0. -0. -1. -0. -0. -1. -0. -0.\n",
      " -1. -0. -0. -1. -0. -0. -1. -0. -0. -1. -0. -0. -1. -0. -0. -1. -0. -0.\n",
      " -0. -0. -0. -0. -0. -0. -0. -0. -0. -0. -0. -0. -0. -0. -0. -0. -0. -0.\n",
      " -0. -0. -0. -0. -0. -0. -0. -0. -0. -0. -0. -0. -0. -0. -0. -0. -0. -0.\n",
      " -0. -0. -0. -0. -0. -0. -0. -0. -0. -0. -0. -0. -0. -0. -0. -0. -0. -0.\n",
      " -0. -0. -0. -0. -0. -0. -0. -0. -0. -0. -0. -0. -0. -0. -0. -0. -0. -0.\n",
      " -0. -0. -0. -0. -0. -0. -0. -0. -0. -0. -0. -0. -0. -0. -0. -0. -0. -0.\n",
      " -0. -0. -0. -0. -0. -0. -0. -0. -0. -0. -0. -0. -0. -0. -0. -0. -0. -0.\n",
      " -0. -0. -0. -0. -0. -0. -0. -0. -0. -0. -0. -0. -0. -0. -0. -0. -0. -0.\n",
      " -0. -0. -0. -0. -0. -0. -0. -0. -0. -0. -0. -0. -0. -0. -0. -0. -0. -0.\n",
      " -0. -0. -0. -0. -0. -0. -0. -0. -0. -0. -0. -0. -0. -0. -0. -0. -0. -0.\n",
      " -0. -0. -0. -0. -0. -0. -0. -0. -0. -0. -0. -0. -0. -0. -0. -0. -0. -0.\n",
      " -0. -0. -0. -0. -0. -0. -0. -0. -0. -0. -0. -0. -0. -0. -0. -0. -0. -0.\n",
      " -0. -0. -0. -0. -0. -0. -0. -0. -0. -0. -0. -0. -0. -0. -0. -0. -0. -0.\n",
      " -0. -0. -0. -0. -0. -0. -0. -0. -0. -0. -0. -0. -0. -0. -0. -0. -0. -0.\n",
      " -0. -0. -0. -0. -0. -0. -0. -0. -0. -0. -0. -0. -0. -0. -0. -0. -0. -0.\n",
      " -0. -0. -0. -0. -0. -0. -0. -0. -0. -0. -0. -0. -0. -0. -0. -0. -0. -0.\n",
      " -0. -0. -0. -0. -0. -0. -0. -0. -0. -0. -0. -0. -0. -0. -0. -0. -0. -0.\n",
      " -0. -0. -0. -0. -0. -0. -0. -0. -0. -0. -0. -0. -0. -0. -0. -0. -0. -0.\n",
      " -0. -0. -0. -0. -0. -0. -0. -0. -0. -0. -0. -0. -0. -0. -0. -0. -0. -0.\n",
      " -0. -0. -0. -0. -0. -0. -0. -0. -0. -0. -0. -0. -0. -0. -0. -0. -0. -0.\n",
      " -0. -0. -0. -0. -0.]\n"
     ]
    }
   ],
   "source": [
    "key = \"flow\"\n",
    "\n",
    "# declare the discretization objects, useful to setup the data\n",
    "rt0 = pg.RT0(key)\n",
    "p0 = pg.PwConstants(key)\n",
    "\n",
    "# set up the data for the problem\n",
    "data = {}\n",
    "\n",
    "# unitary permeability tensor\n",
    "perm = pp.SecondOrderTensor(np.ones(sd.num_cells))\n",
    "parameters = {\n",
    "    \"second_order_tensor\": perm,\n",
    "}\n",
    "pp.initialize_data(sd, data, key, parameters)\n",
    "\n",
    "# with the following steps we identify the portions of the boundary\n",
    "# to impose the boundary conditions\n",
    "left = np.isclose(sd.face_centers[0, :], 0)\n",
    "right = np.isclose(sd.face_centers[0, :], 1)\n",
    "left_right = np.logical_or(left, right)\n",
    "\n",
    "top = np.isclose(sd.face_centers[1, :], 0)\n",
    "bottom = np.isclose(sd.face_centers[1, :], 1)\n",
    "top_bottom = np.logical_or(top, bottom)\n",
    "\n",
    "ess_p_dofs = np.zeros(p0.ndof(sd), dtype=bool)\n",
    "\n",
    "\n",
    "# compute the pressure boundary condition, which is a natural condition for the RT0 space\n",
    "def p_bc(x):\n",
    "    return 1 - x[1]\n",
    "\n",
    "\n",
    "bc_val = -rt0.assemble_nat_bc(sd, p_bc, top_bottom)\n",
    "bc_ess = np.hstack((left_right, ess_p_dofs))\n",
    "\n",
    "\n",
    "# compute the source term\n",
    "def vector_source_fct(x):\n",
    "    return np.array([0, -2, 0])\n",
    "\n",
    "\n",
    "mass = rt0.assemble_mass_matrix(sd)\n",
    "vector_source = mass @ rt0.interpolate(sd, vector_source_fct)\n",
    "\n",
    "print(bc_val)"
   ]
  },
  {
   "cell_type": "markdown",
   "id": "secure-flesh",
   "metadata": {},
   "source": [
    "Once the data are assigned to the grid, we construct the matrices. In particular, the linear system associated with the equation is given as\n",
    "$$\n",
    "\\left(\n",
    "\\begin{array}{cc} \n",
    "M & -B^\\top\\\\\n",
    "B & 0\n",
    "\\end{array}\n",
    "\\right)\n",
    "\\left(\n",
    "\\begin{array}{c} \n",
    "q\\\\ \n",
    "p\n",
    "\\end{array}\n",
    "\\right)\n",
    "=\\left(\n",
    "\\begin{array}{c} \n",
    "p_{\\partial} + g\\\\ \n",
    "0\n",
    "\\end{array}\n",
    "\\right)\n",
    "$$<br>\n",
    "where $p_{\\partial}$ is the vector associated to the pressure boundary contions. Once the matrix is created, we also construct the right-hand side containing the boundary conditions."
   ]
  },
  {
   "cell_type": "code",
   "execution_count": 4,
   "id": "romance-findings",
   "metadata": {},
   "outputs": [],
   "source": [
    "# construct the local matrices\n",
    "mass_rt0 = rt0.assemble_mass_matrix(sd, data)\n",
    "mass_p0 = p0.assemble_mass_matrix(sd, data)\n",
    "div = mass_p0 @ rt0.assemble_diff_matrix(sd)\n",
    "\n",
    "# assemble the saddle point problem\n",
    "spp = sps.bmat([[mass_rt0, -div.T], [div, None]], format=\"csc\")\n",
    "\n",
    "# get the degrees of freedom for each variable\n",
    "dof_p, dof_q = div.shape\n",
    "\n",
    "# assemble the right-hand side\n",
    "rhs = np.zeros(dof_p + dof_q)\n",
    "rhs[:dof_q] += bc_val + vector_source"
   ]
  },
  {
   "cell_type": "markdown",
   "id": "mobile-nirvana",
   "metadata": {},
   "source": [
    "We need to solve the linear system, PyGeoN provides a framework for that. The actual imposition of essential boundary conditions (flux boundary conditions) might change the symmetry of the global system, the class `pg.LinearSystem` preserves this structure by internally eliminating these degrees of freedom. Once the problem is solved, we extract the two solutions $q$ and $p$."
   ]
  },
  {
   "cell_type": "code",
   "execution_count": 5,
   "id": "subtle-wonder",
   "metadata": {},
   "outputs": [],
   "source": [
    "# solve the problem\n",
    "ls = pg.LinearSystem(spp, rhs)\n",
    "ls.flag_ess_bc(bc_ess, np.zeros(dof_q + dof_p))\n",
    "x = ls.solve()\n",
    "\n",
    "# extract the variables\n",
    "q = x[:dof_q]\n",
    "p = x[-dof_p:]"
   ]
  },
  {
   "cell_type": "markdown",
   "id": "pacific-alpha",
   "metadata": {},
   "source": [
    "Since the computed $q$ is one value per facet of the grid, for visualization purposes we project the flux in each cell center as vector. We finally export the solution to be visualized by [ParaView](https://www.paraview.org/)."
   ]
  },
  {
   "cell_type": "code",
   "execution_count": 6,
   "id": "satisfactory-jerusalem",
   "metadata": {},
   "outputs": [],
   "source": [
    "# post process variables\n",
    "proj_q = rt0.eval_at_cell_centers(sd)\n",
    "cell_q = (proj_q * q).reshape((3, -1), order=\"F\")\n",
    "cell_p = p0.eval_at_cell_centers(sd) * p\n",
    "\n",
    "save = pp.Exporter(sd, \"sol\", folder_name=\"ex2\")\n",
    "save.write_vtu([(\"cell_p\", cell_p), (\"cell_q\", cell_q)])"
   ]
  },
  {
   "cell_type": "code",
   "execution_count": null,
   "id": "5b0d8fb8",
   "metadata": {},
   "outputs": [],
   "source": []
  }
 ],
 "metadata": {
  "kernelspec": {
   "display_name": "Python 3 (ipykernel)",
   "language": "python",
   "name": "python3"
  },
  "language_info": {
   "codemirror_mode": {
    "name": "ipython",
    "version": 3
   },
   "file_extension": ".py",
   "mimetype": "text/x-python",
   "name": "python",
   "nbconvert_exporter": "python",
   "pygments_lexer": "ipython3",
   "version": "3.12.4"
  },
  "vscode": {
   "interpreter": {
    "hash": "e4cc1db98167c7fd7d55a1da8057731abc6cd6fe154328a2ae319df8aab4e24d"
   }
  }
 },
 "nbformat": 4,
 "nbformat_minor": 5
}
