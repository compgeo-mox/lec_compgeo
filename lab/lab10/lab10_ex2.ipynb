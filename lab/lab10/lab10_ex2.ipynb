{
 "cells": [
  {
   "cell_type": "markdown",
   "id": "essential-american",
   "metadata": {},
   "source": [
    "# (one-step) Biot equation\n",
    "\n",
    "In this tutorial we present how to solve the (static) Biot equation with [PyGeoN](https://github.com/compgeo-mox/pygeon).  The unknown is the displacement $u$, the flux $q$ and the pressure $p$.\n",
    "\n",
    "Let $\\Omega$ with boundary $\\partial \\Omega$ and outward unit normal ${\\nu}$. Given \n",
    "$\\lambda$ Lamé constant and $\\mu$ the Kirchhoff modulus, $K$ the permeability of the porous medium and $s_0$ its storativity, and $\\alpha$ the Biot-Willis coefficient fot the coupling between the two models.\n",
    "We want to solve the following problem: find $({u}, {q}, p)$ such that\n",
    "$$\n",
    "    \\begin{aligned}\n",
    "         & \\nabla \\cdot [2 \\mu {\\epsilon}({u}) + \\lambda \\nabla \\cdot u I\n",
    "         - \\alpha p {I}] = -{b}   \\\\\n",
    "         & \\mu{q} + {K}\\nabla p = {0}                        \\\\\n",
    "         & \\partial_t (s_0 p + \\alpha \\nabla \\cdot {u}) +\n",
    "        \\nabla \\cdot {q} = \\psi\n",
    "    \\end{aligned}\n",
    "    \\quad \\text{in } \\Omega.\n",
    "$$\n",
    "with $\\epsilon$ the symmetric gradient and $b$ a body force. The stress tensor, which can be post-processed from $u$, is given by\n",
    "$$\n",
    "    \\sigma = 2 \\mu \\epsilon(u) + \\lambda \\nabla \\cdot u I - \\alpha p I\n",
    "$$\n",
    "\n",
    "In particular, we consider only the spatial structure of the previous problem by doing only one time step. We call the latter $\\Delta t$ and write the discrete problem as\n",
    "$$\n",
    "    \\begin{bmatrix}\n",
    "        K & 0 & -\\alpha D^\\top \\\\\n",
    "        0 & \\Delta t M_q & - \\Delta t B^\\top \\\\\n",
    "        \\alpha D & \\Delta t B & s_0 M_p\n",
    "    \\end{bmatrix}\n",
    "    \\begin{bmatrix}\n",
    "        u \\\\ q \\\\ p\n",
    "    \\end{bmatrix}\n",
    "    =\n",
    "    \\begin{bmatrix}\n",
    "        b \\\\ 0 \\\\ \\psi\n",
    "    \\end{bmatrix}\n",
    "$$\n",
    "where $K$ is the stiffness matrix associated with the elatic problem, $D$ is the coupling between the two physics, $M_q$ is the mass matrix associated to the flux variable, $B$ is the divergence matrix for the flow problem, and $M_p$ is the mass matrix associated with the pressure. All the aforementioned matrices are properly scaled by their physical parameters if not explicitly written. The second row has been multiply by $\\Delta t$ to preserve the skew-symmetry of the problem."
   ]
  },
  {
   "cell_type": "markdown",
   "id": "459e439e",
   "metadata": {},
   "source": [
    "## Exercise 2: fixed-stress iterative solver\n",
    "\n",
    "To solve the discrete problem we employ the fixed-stress iterative solver which reads:\n",
    "given $\\beta > 0$ and $(u^i, p^i)$ compute $(u^{i+1}, q^{i+1}, p^{i+1})$ by solving until convergence\n",
    "$$\n",
    "    \\begin{bmatrix}\n",
    "        K & 0 & -\\alpha D^\\top \\\\\n",
    "        0 & \\Delta t M_q & - \\Delta t B^\\top \\\\\n",
    "        0 & \\Delta t B & (s_0+\\beta) M_p\n",
    "    \\end{bmatrix}\n",
    "    \\begin{bmatrix}\n",
    "        u^{i+1} \\\\ q^{i+1} \\\\ p^{i+1}\n",
    "    \\end{bmatrix}\n",
    "    =\n",
    "    \\begin{bmatrix}\n",
    "        b \\\\ 0 \\\\ \\psi - \\alpha D u^i + \\beta M_p p^i\n",
    "    \\end{bmatrix}\n",
    "$$\n",
    "Notice that this is equivalent to these two steps:\n",
    "\n",
    "$$\n",
    " \\begin{bmatrix}\n",
    "         \\Delta t M_q & - \\Delta t B^\\top \\\\\n",
    "         \\Delta t B & s_0 M_p (s0+\\beta)\n",
    "    \\end{bmatrix}\n",
    "    \\begin{bmatrix}\n",
    "         q^{i+1} \\\\ p^{i+1}\n",
    "    \\end{bmatrix}\n",
    "    =\n",
    "    \\begin{bmatrix}\n",
    "       0 \\\\ \\psi- D\\alpha u^{i} + + \\beta M_p p^i\n",
    "    \\end{bmatrix}\n",
    "$$\n",
    "\n",
    "followed by\n",
    "$$\n",
    "K u^{i+1} = b + \\alpha D^\\top p^{i+1}\n",
    "$$\n",
    "\n",
    "A footing problem is when a force is impose on the top compressing the body and the bottom is fixed. In this case we assume that the force is applied on the central portion of the top boundary.\n",
    "\n",
    "For this test case we set $\\Omega = [0, 3] \\times [0, 1]$, $b = 0$, and the following boundary conditions:\n",
    "$$ \n",
    "\\begin{aligned}\n",
    "    &u = 0 &&\\text{ and }&& \\nu \\cdot q = 0 &&\\text{ on } \\partial \\Omega  \\setminus \\partial_{top} \\Omega\n",
    "\\\\\n",
    "&\\nu \\cdot \\sigma = 0 &&\\text{ and }&& p = 0 &&\\text{ on } \\partial_{top} \\Omega \\setminus \\partial_s \\Omega\n",
    "\\\\\n",
    "&\\nu \\cdot \\sigma = [0, -1]^\\top &&\\text{ and }&& p = 0 &&\\text{ on }\\partial_s \\Omega \n",
    "\\end{aligned}\n",
    "$$\n",
    "where $\\partial_{s} \\Omega = [1, 2] \\times \\{1\\}$.\n",
    "\n",
    "\n",
    "\n",
    "We present *step-by-step* how to create the grid, declare the problem data, and finally solve the problem."
   ]
  },
  {
   "cell_type": "markdown",
   "id": "planned-danger",
   "metadata": {},
   "source": [
    "First we import some of the standard modules, like `numpy` and `scipy.sparse`. Since PyGeoN is based on [PorePy](https://github.com/pmgbergen/porepy) we import both modules."
   ]
  },
  {
   "cell_type": "code",
   "execution_count": 17,
   "id": "dietary-perth",
   "metadata": {},
   "outputs": [],
   "source": [
    "import numpy as np\n",
    "import scipy.sparse as sps\n",
    "\n",
    "import porepy as pp\n",
    "import pygeon as pg\n",
    "\n",
    "\n",
    "# useful for the stopping criteria in the iterative solvers\n",
    "def compute_err(x, x_i, mass):\n",
    "    diff = np.sqrt((x_i - x) @ mass @ (x_i - x))\n",
    "    norm = np.sqrt(x_i @ mass @ x_i)\n",
    "    return diff / norm if norm else diff"
   ]
  },
  {
   "cell_type": "markdown",
   "id": "roman-glossary",
   "metadata": {},
   "source": [
    "We create now the grid, since we use a vector Lagrangian of order 1 for ${u}$ and Raivar-Thomas for the flux $q$, we are restricted to simplices. In this example we consider a 2-dimensional structured grid, but the presented code will work also in 3d."
   ]
  },
  {
   "cell_type": "code",
   "execution_count": 18,
   "id": "spectacular-saturn",
   "metadata": {},
   "outputs": [
    {
     "name": "stdout",
     "output_type": "stream",
     "text": [
      "\n"
     ]
    }
   ],
   "source": [
    "mesh_size = 0.05\n",
    "delta_t = 0.01\n",
    "dim = 2\n",
    "\n",
    "pts = np.array([[0, 3, 3, 2, 1, 0], [0, 0, 1, 1, 1, 1]])\n",
    "sd = pg.grid_from_boundary_pts(pts, mesh_size, as_mdg=False)\n",
    "sd.compute_geometry()\n",
    "\n",
    "# data for the iterative solvers\n",
    "tol = 1e-4\n",
    "max_iter = 1e2"
   ]
  },
  {
   "cell_type": "markdown",
   "id": "precious-belle",
   "metadata": {},
   "source": [
    "With the following code we set the data and the boundary conditions. Since we need to identify each side of $\\partial \\Omega$ we need few steps."
   ]
  },
  {
   "cell_type": "code",
   "execution_count": 19,
   "id": "spare-person",
   "metadata": {},
   "outputs": [],
   "source": [
    "key = \"biot\"\n",
    "\n",
    "# the physical parameters of the problem, assumed constant\n",
    "lambda_ = 1\n",
    "mu = 0.5\n",
    "alpha = 1\n",
    "s0 = 0.01  # 1 0.1\n",
    "\n",
    "data = {}\n",
    "param = {\"second_order_tensor\": pp.SecondOrderTensor(np.ones(sd.num_cells)),\"lambda\": lambda_, \"mu\": mu}\n",
    "pp.initialize_data(sd, data, key, param)\n",
    "\n",
    "# selection of the boundary conditions\n",
    "bd_q = sd.tags[\"domain_boundary_faces\"]\n",
    "bd_q[np.isclose(sd.face_centers[1, :], 1)] = False\n",
    "\n",
    "bd_u = sd.tags[\"domain_boundary_nodes\"]\n",
    "bd_u[np.isclose(sd.nodes[1, :], 1)] = False\n",
    "bd_u = np.hstack([bd_u] * dim)\n",
    "\n",
    "top_s = np.logical_and.reduce(\n",
    "    (\n",
    "        np.isclose(sd.face_centers[1, :], 1),\n",
    "        sd.face_centers[0, :] > 1,\n",
    "        sd.face_centers[0, :] < 2,\n",
    "    )\n",
    ")\n",
    "\n",
    "fun = lambda _: np.array([0, -1])"
   ]
  },
  {
   "cell_type": "markdown",
   "id": "secure-flesh",
   "metadata": {},
   "source": [
    "Once the data are assigned to the grid, we construct the matrices. Once the latter is created, we also construct the right-hand side containing the boundary conditions."
   ]
  },
  {
   "cell_type": "code",
   "execution_count": 20,
   "id": "romance-findings",
   "metadata": {},
   "outputs": [],
   "source": [
    "# definition of the discretizations\n",
    "vec_p1 = pg.VecLagrange1(key)\n",
    "p0 = pg.PwConstants(key)\n",
    "rt0 = pg.RT0(key)\n",
    "\n",
    "# dofs for the different variables\n",
    "dof_u = sd.num_nodes * dim\n",
    "dof_q = sd.num_faces\n",
    "dof_p = sd.num_cells\n",
    "dofs = np.cumsum([dof_u, dof_q, dof_p])\n",
    "\n",
    "# construction of the block matrices\n",
    "mass_u = vec_p1.assemble_mass_matrix(sd)\n",
    "mass_q = rt0.assemble_mass_matrix(sd)\n",
    "mass_p = p0.assemble_mass_matrix(sd)\n",
    "div_q = mass_p @ rt0.assemble_diff_matrix(sd)\n",
    "\n",
    "sym_sym = vec_p1.assemble_symgrad_symgrad_matrix(sd)\n",
    "div_div = vec_p1.assemble_div_div_matrix(sd)\n",
    "div_u = mass_p @ vec_p1.assemble_div_matrix(sd)\n",
    "\n",
    "stiff_u = 2 * mu * sym_sym + lambda_ * div_div\n"
   ]
  },
  {
   "cell_type": "markdown",
   "id": "mobile-nirvana",
   "metadata": {},
   "source": [
    "We need to solve the linear system, PyGeoN provides a framework for that. The actual imposition of essential boundary conditions (displacement boundary conditions) might change the symmetry of the global system, the class `pg.LinearSystem` preserves this structure by internally eliminating these degrees of freedom."
   ]
  },
  {
   "cell_type": "code",
   "execution_count": 21,
   "id": "subtle-wonder",
   "metadata": {},
   "outputs": [
    {
     "name": "stdout",
     "output_type": "stream",
     "text": [
      "1 1.0 1.0 0.0 0.0\n",
      "2 3.375391705137015 1.3753917051370153 1.0 1.0\n",
      "3 0.5647104787808046 0.1434613648462784 0.2632275238940114 0.1580215900405149\n",
      "4 0.13449898955155434 0.04230406916769011 0.053797615042212914 0.038397305341651304\n",
      "5 0.03649673712291957 0.0103930175472438 0.013728464822069084 0.012375254753606688\n",
      "6 0.012965001055510173 0.003601726504627299 0.005138085789036981 0.004225188761845893\n",
      "7 0.004534096569198811 0.0012383922958052285 0.0017565798053475361 0.001539124468046047\n",
      "8 0.0016663106073239692 0.0004509341546393628 0.0006593877397760195 0.000555988712908587\n",
      "9 0.0006037419263773256 0.00016300819128586196 0.00023755852873875148 0.00020317520635271223\n",
      "10 0.00022082587869379108 5.950859609018593e-05 8.73387686912815e-05 7.397851391232367e-05\n",
      "11 8.044160746560138e-05 2.1670893887707737e-05 3.176762185743307e-05 2.700309172046057e-05\n"
     ]
    }
   ],
   "source": [
    "beta = alpha**2 / (2 * (2 * mu / dim + lambda_))\n",
    "\n",
    "sp_fluid = sps.bmat(\n",
    "    [[delta_t * mass_q, -delta_t * div_q.T], [delta_t * div_q, (s0 + beta) * mass_p]]\n",
    ")\n",
    "\n",
    "sp_mech = stiff_u\n",
    "\n",
    "bd_mech = vec_p1.assemble_nat_bc(sd, fun, top_s)\n",
    "bd_fluid = np.hstack((bd_q, np.zeros(dof_p, dtype=bool)))\n",
    "\n",
    "step = 0\n",
    "err = tol + 1\n",
    "\n",
    "# initialization of the solution\n",
    "u_i = np.zeros(dof_u)\n",
    "q_i = np.zeros(dof_q)\n",
    "p_i = np.zeros(dof_p)\n",
    "\n",
    "while err > tol and step < max_iter:\n",
    "    # for a given u solve the flow problem\n",
    "    rhs_fluid = np.zeros(dof_q + dof_p)\n",
    "    rhs_fluid[-dof_p:] = -alpha * div_u @ u_i + beta * mass_p @ p_i\n",
    "\n",
    "    ls1 = pg.LinearSystem(sp_fluid, rhs_fluid)\n",
    "    ls1.flag_ess_bc(bd_fluid, np.zeros_like(rhs_fluid))\n",
    "    x = ls1.solve()\n",
    "    # split of the solution from the vector x\n",
    "    q, p = np.split(x, [dof_q])\n",
    "\n",
    "    # for a given p solve the mech problem\n",
    "    rhs_mech = bd_mech + alpha * div_u.T @ p\n",
    "\n",
    "    ls2 = pg.LinearSystem(sp_mech, rhs_mech)\n",
    "    ls2.flag_ess_bc(bd_u, np.zeros_like(rhs_mech))\n",
    "    u = ls2.solve()\n",
    "\n",
    "    # compute the stopping criteria\n",
    "    step += 1\n",
    "    err_u = compute_err(u_i, u, mass_u)\n",
    "    err_q = compute_err(q_i, q, mass_q)\n",
    "    err_p = compute_err(p_i, p, mass_p)\n",
    "\n",
    "    u_i = u.copy()\n",
    "    q_i = q.copy()\n",
    "    p_i = p.copy()\n",
    "\n",
    "    err = err_u + err_q + err_p\n",
    "\n",
    "    print(step, err, err_u, err_q, err_p)"
   ]
  },
  {
   "cell_type": "markdown",
   "id": "d4051ba4",
   "metadata": {},
   "source": [
    "We post-process now the stress tensor, one `sd.dim` x `sd.dim` tensor per cell."
   ]
  },
  {
   "cell_type": "code",
   "execution_count": 22,
   "id": "8827e232",
   "metadata": {},
   "outputs": [],
   "source": [
    "cell_sigma = vec_p1.compute_stress(sd, u, data)\n",
    "\n",
    "# split the tensor in each component for the exporting\n",
    "cell_sigma_xx = cell_sigma[:, 0, 0]\n",
    "cell_sigma_xy = cell_sigma[:, 0, 1]\n",
    "cell_sigma_yy = cell_sigma[:, 1, 1]"
   ]
  },
  {
   "cell_type": "markdown",
   "id": "pacific-alpha",
   "metadata": {},
   "source": [
    "Since the computed $u$ is a vector per peak of the grid, for visualization purposes we project the displacement in each cell center as vector. Similarly for the flow field $q$. We finally export the solution to be visualized by [ParaView](https://www.paraview.org/)."
   ]
  },
  {
   "cell_type": "code",
   "execution_count": 23,
   "id": "satisfactory-jerusalem",
   "metadata": {},
   "outputs": [],
   "source": [
    "# compute the cell displacement, one vector per cell\n",
    "proj = vec_p1.eval_at_cell_centers(sd)\n",
    "cell_u = proj @ u\n",
    "# we need to add the z component for the exporting\n",
    "cell_u = np.hstack((cell_u, np.zeros(sd.num_cells)))\n",
    "cell_u = cell_u.reshape((3, -1))\n",
    "\n",
    "# compute the cell flow, one vector per cell\n",
    "proj_q = rt0.eval_at_cell_centers(sd)\n",
    "cell_q = (proj_q * q).reshape((3, -1), order=\"F\")\n",
    "cell_p = p0.eval_at_cell_centers(sd) * p\n",
    "\n",
    "# export the final solution\n",
    "save = pp.Exporter(sd, \"sol\", folder_name=\"ex1\")\n",
    "save.write_vtu(\n",
    "    [\n",
    "        (\"cell_u\", cell_u),\n",
    "        (\"cell_q\", cell_q),\n",
    "        (\"cell_p\", cell_p),\n",
    "        (\"cell_sigma_xx\", cell_sigma_xx),\n",
    "        (\"cell_sigma_xy\", cell_sigma_xy),\n",
    "        (\"cell_sigma_yy\", cell_sigma_yy),\n",
    "    ]\n",
    ")"
   ]
  },
  {
   "cell_type": "code",
   "execution_count": 24,
   "id": "59fa1cf0",
   "metadata": {},
   "outputs": [
    {
     "name": "stdout",
     "output_type": "stream",
     "text": [
      "(array([-0.30576195+0.j, -0.26644183+0.j, -0.21679454+0.j, -0.16836612+0.j,\n",
      "       -0.15113028+0.j, -0.14077415+0.j]), array([[-5.01569407e-01+0.j, -8.12937486e-02+0.j, -4.09242269e-02+0.j,\n",
      "        -1.56153727e-02+0.j,  3.18286212e-01+0.j, -2.87239669e-01+0.j],\n",
      "       [ 4.98127087e-02+0.j, -8.12821949e-02+0.j,  5.62091148e-02+0.j,\n",
      "        -1.52792016e-02+0.j, -3.35102645e-01+0.j, -2.87384734e-01+0.j],\n",
      "       [ 1.12408143e-01+0.j, -1.20874272e-01+0.j,  2.51891009e-02+0.j,\n",
      "         9.57194890e-03+0.j,  3.02267734e-01+0.j,  1.85568788e-01+0.j],\n",
      "       ...,\n",
      "       [ 7.88529472e-05+0.j,  1.65027026e-04+0.j,  2.49158221e-04+0.j,\n",
      "        -3.08067836e-04+0.j, -1.09897812e-04+0.j,  2.16608835e-04+0.j],\n",
      "       [ 9.10592943e-05+0.j, -1.90560571e-04+0.j,  2.87505701e-04+0.j,\n",
      "         3.55638159e-04+0.j, -1.27008824e-04+0.j, -2.51430122e-04+0.j],\n",
      "       [ 1.38544990e-04+0.j, -2.84687541e-04+0.j,  4.19844866e-04+0.j,\n",
      "         5.10612964e-04+0.j,  2.17727781e-05+0.j,  4.29007340e-05+0.j]]))\n"
     ]
    }
   ],
   "source": [
    "#compute the spectral radius of the iteration matrix\n",
    "#preconditioner P\n",
    "P = sps.bmat(\n",
    "    [\n",
    "        [stiff_u, None, -alpha * div_u.T],\n",
    "        [None, delta_t * mass_q, -delta_t * div_q.T],\n",
    "        [None, delta_t * div_q, (s0 + beta) * mass_p],\n",
    "    ]\n",
    ")\n",
    "# P-A\n",
    "M = sps.bmat(\n",
    "    [\n",
    "        [0 * stiff_u, None, None],\n",
    "        [None, 0 * mass_q, None],\n",
    "        [-alpha * div_u, None, beta * mass_p],\n",
    "    ]\n",
    ")\n",
    "# compute the 6 largest magnitude eigs for the generalized problem M x = lambda P x\n",
    "ll = sps.linalg.eigs(M, 6, P, None, \"LM\")\n",
    "print(ll)"
   ]
  }
 ],
 "metadata": {
  "kernelspec": {
   "display_name": "Python 3 (ipykernel)",
   "language": "python",
   "name": "python3"
  },
  "language_info": {
   "codemirror_mode": {
    "name": "ipython",
    "version": 3
   },
   "file_extension": ".py",
   "mimetype": "text/x-python",
   "name": "python",
   "nbconvert_exporter": "python",
   "pygments_lexer": "ipython3",
   "version": "3.12.3"
  },
  "vscode": {
   "interpreter": {
    "hash": "e4cc1db98167c7fd7d55a1da8057731abc6cd6fe154328a2ae319df8aab4e24d"
   }
  }
 },
 "nbformat": 4,
 "nbformat_minor": 5
}
