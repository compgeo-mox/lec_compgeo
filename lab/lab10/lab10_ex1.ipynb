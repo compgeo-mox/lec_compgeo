{
 "cells": [
  {
   "cell_type": "markdown",
   "id": "essential-american",
   "metadata": {},
   "source": [
    "# Uncertainty quantification and Polynomial Chaos Expansion\n",
    "\n",
    "## Exercise 1\n",
    "\n",
    "We consider the primal formulation of the Darcy problem: the only unknown is the pressure $p$ and the numerical scheme we are considering is the TPFA.\n",
    "\n",
    "Let $\\Omega = [0, 1]^2$ be the domain of interest with boundary $\\partial \\Omega$ and outward unit normal ${\\nu}$. Given \n",
    "$f = 0$ the source term, we want to solve the following problem: find $p$ such that\n",
    "$$\n",
    "\\nabla \\cdot \\left(- \\frac{k}{\\mu} \\nabla p\\right) = 0\n",
    "\\quad \\text{in } \\Omega\n",
    "$$\n",
    "with boundary conditions:\n",
    "$$ p(x,y) = 1 - y \\text{ on } \\partial \\Omega$$\n",
    "\n",
    "We consider the following relation, called Kozeny-Carman, between the permeability $k$ in $[m]^2$ and the porosity $\\phi$ in $[\\cdot]$ of the media\n",
    "$$\n",
    "k = k_{ref} \\frac{\\phi^3}{ (1-\\phi)^2} \\frac{(1-\\phi_{ref})^2}{\\phi_{ref}^3}\n",
    "$$\n",
    "where $k_{ref}$ in $[m]^2$ is a reference value for the media permeability and $\\phi_{ref}$ in $[\\cdot]$ a reference value for the porosity.\n",
    "Moreover, we assume that the value of the porosity is then modeled based on the coefficient of grain uniformity $\\eta$ in $[\\cdot]$, read from a file, which is given as\n",
    "$$\n",
    "\\phi = \\phi_{ref} 10^\\eta\n",
    "$$\n",
    "We consider affected by uncertainty the reference values with distributions $k_{ref} = 10^{-2}$, $\\phi_{ref} \\sim U(0.125, 0.675)$.\n",
    "The liquid viscosity $\\mu$ in $[kg \\, s^{-1} \\, m^{-1}]$ is also affected by uncertainty due to its dependency on the temperature, we assume\n",
    "$$\n",
    "\\mu = \\mu_{ref} e^{-T_{ratio}}\n",
    "$$\n",
    "with $T_{ratio} = T_{ref} / T \\sim U(1.5, 2)$ and $\\mu_{ref} = 1$ for simplicity.\n",
    "\n",
    "\n",
    "The reference articoles are the following [[1]](https://www.mdpi.com/2073-4441/14/4/546) and [[2]](https://doi.org/10.1016/j.matcom.2024.10.024)."
   ]
  },
  {
   "cell_type": "markdown",
   "id": "planned-danger",
   "metadata": {},
   "source": [
    "To run the code it is important to install the package [chaospy](https://chaospy.readthedocs.io/en/master/), for doing so open a terminal in the container and with the environment active type\n",
    "`pip install chaospy`"
   ]
  },
  {
   "cell_type": "code",
   "execution_count": null,
   "id": "dietary-perth",
   "metadata": {},
   "outputs": [],
   "source": [
    "import numpy as np\n",
    "import matplotlib.pyplot as plt\n",
    "import chaospy as cp\n",
    "\n",
    "import porepy as pp\n",
    "\n",
    "from solve_problem import *"
   ]
  },
  {
   "cell_type": "markdown",
   "id": "roman-glossary",
   "metadata": {},
   "source": [
    "We create now the grid, which could be: Cartesian, simplicial, Voronoi, or octagonal."
   ]
  },
  {
   "cell_type": "code",
   "execution_count": null,
   "id": "spectacular-saturn",
   "metadata": {},
   "outputs": [],
   "source": [
    "# load the porosity from file\n",
    "file_name = \"porosity\"\n",
    "phi_exp = np.loadtxt(file_name, skiprows=1)[:, 2]\n",
    "\n",
    "mu_ref = 1\n",
    "k_ref = 1e-2\n",
    "\n",
    "phi = lambda phi_ref: phi_ref * np.power(10, phi_exp)\n",
    "mu = lambda t_ratio: mu_ref * np.exp(-t_ratio)\n",
    "\n",
    "seed = 42"
   ]
  },
  {
   "cell_type": "code",
   "execution_count": null,
   "id": "a5c4f519",
   "metadata": {},
   "outputs": [],
   "source": [
    "dim = 2\n",
    "num = int(np.sqrt(phi_exp.size))\n",
    "\n",
    "# creation of a Cartesian grid\n",
    "sd = pp.CartGrid([num] * dim, [1] * dim)\n",
    "\n",
    "# compute the geometrical properties of the grid\n",
    "sd.compute_geometry()"
   ]
  },
  {
   "cell_type": "code",
   "execution_count": null,
   "id": "66d5ac96",
   "metadata": {},
   "outputs": [],
   "source": [
    "perm = (\n",
    "    lambda phi_ref: k_ref\n",
    "    * np.power(phi(phi_ref), 3)\n",
    "    * np.power(1 - phi_ref, 2)\n",
    "    / (np.power(phi_ref, 3) * np.power(1 - phi(phi_ref), 2))\n",
    ")\n",
    "fom = lambda x: solve_problem(sd, perm(x[0]) / mu(x[1]))[1]"
   ]
  },
  {
   "cell_type": "code",
   "execution_count": null,
   "id": "ce87a982",
   "metadata": {},
   "outputs": [],
   "source": [
    "# define the uncertain parameters\n",
    "phi_ref = cp.Uniform(lower=0.125, upper=0.675)\n",
    "t_ratio = cp.Uniform(lower=1.5, upper=2)\n",
    "joint_dist = cp.J(phi_ref, t_ratio)\n",
    "\n",
    "# generate the sparse grid nodes for the distributions\n",
    "level = 2\n",
    "sparse_nodes, sparse_weights = cp.generate_quadrature(level, joint_dist, sparse=True)\n",
    "print(\"Number of samples\", sparse_nodes.shape[1])\n",
    "\n",
    "# compute the FOM evaluations, it might take a while\n",
    "fom_eval = np.array([fom(s) for s in sparse_nodes.T])"
   ]
  },
  {
   "cell_type": "code",
   "execution_count": null,
   "id": "85046dae",
   "metadata": {},
   "outputs": [],
   "source": [
    "plt.scatter(*sparse_nodes, s=50)\n",
    "# plt.grid(color=\"gray\", linestyle=\"--\", linewidth=0.7, alpha=0.5)\n",
    "# plt.savefig(\"sparse_grid_level2.pdf\", bbox_inches=\"tight\")\n",
    "plt.show()"
   ]
  },
  {
   "cell_type": "code",
   "execution_count": null,
   "id": "9fc960f7",
   "metadata": {},
   "outputs": [],
   "source": [
    "# define ROM with orthogonal polynomials\n",
    "np.bool = np.bool_  # to fix chaospy with the current version of python\n",
    "order = 5\n",
    "expansion = cp.generate_expansion(order, dist=joint_dist)\n",
    "\n",
    "# generate the ROM based on the FOM evaluations\n",
    "rom = cp.fit_regression(expansion, sparse_nodes, fom_eval)\n",
    "\n",
    "# compare the FOM and ROM evaluations for a given set of parameters\n",
    "vals = np.array([0.35, 3])\n",
    "print(rom(*vals))\n",
    "print(fom(vals))\n",
    "\n",
    "# compute the mean, standard deviation and sensitivity indices\n",
    "mean = cp.E(rom, joint_dist)\n",
    "std = cp.Std(rom, joint_dist)\n",
    "sens = cp.Sens_m(rom, joint_dist)\n",
    "\n",
    "print(\"Mean, standard deviation and sensitivity indices:\", mean, std, sens)"
   ]
  },
  {
   "cell_type": "code",
   "execution_count": null,
   "id": "74b53cf6",
   "metadata": {},
   "outputs": [],
   "source": [
    "rom_num_samples = 1000\n",
    "rom_samples = joint_dist.sample(rom_num_samples, rule=\"latin_hypercube\", seed=seed)\n",
    "rom_eval = np.array([rom(*s) for s in rom_samples.T])"
   ]
  },
  {
   "cell_type": "markdown",
   "id": "pacific-alpha",
   "metadata": {},
   "source": [
    "We export the solutions to be visualized by [ParaView](https://www.paraview.org/)."
   ]
  },
  {
   "cell_type": "code",
   "execution_count": null,
   "id": "3021d470",
   "metadata": {},
   "outputs": [],
   "source": [
    "plt.hist(rom_eval, 30)\n",
    "plt.show()"
   ]
  },
  {
   "cell_type": "code",
   "execution_count": null,
   "id": "satisfactory-jerusalem",
   "metadata": {},
   "outputs": [],
   "source": [
    "phi_ref.lower\n",
    "\n",
    "fig = plt.figure()\n",
    "ax = fig.add_subplot(111, projection=\"3d\")\n",
    "\n",
    "N = 100\n",
    "x = np.linspace(phi_ref.lower, phi_ref.upper, N)\n",
    "y = np.linspace(t_ratio.lower, t_ratio.upper, N)\n",
    "\n",
    "X, Y = np.meshgrid(x, y)\n",
    "zs = np.array([rom(x, y) for x, y in zip(np.ravel(X), np.ravel(Y))])\n",
    "Z = zs.reshape(X.shape)\n",
    "\n",
    "ax.plot_surface(X, Y, Z)\n",
    "\n",
    "ax.set_xlabel(\"X Label\")\n",
    "ax.set_ylabel(\"Y Label\")\n",
    "ax.set_zlabel(\"Z Label\")\n",
    "\n",
    "plt.show()"
   ]
  }
 ],
 "metadata": {
  "kernelspec": {
   "display_name": "py3.12",
   "language": "python",
   "name": "python3"
  },
  "language_info": {
   "codemirror_mode": {
    "name": "ipython",
    "version": 3
   },
   "file_extension": ".py",
   "mimetype": "text/x-python",
   "name": "python",
   "nbconvert_exporter": "python",
   "pygments_lexer": "ipython3",
   "version": "3.12.4"
  }
 },
 "nbformat": 4,
 "nbformat_minor": 5
}
