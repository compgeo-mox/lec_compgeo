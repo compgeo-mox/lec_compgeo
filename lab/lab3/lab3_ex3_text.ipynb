{
 "cells": [
  {
   "cell_type": "markdown",
   "id": "verified-lincoln",
   "metadata": {},
   "source": [
    "# Finite volume methods for the Darcy equation\n",
    "\n",
    "In this tutorial we present how to solve a Darcy equation with [PorePy](https://github.com/pmgbergen/porepy) by using two finite volume methods: two-point flux approximation (TPFA) and multi-point flux approximation (MPFA).\n",
    "\n",
    "## Exercise 3\n",
    "\n",
    "We consider the primal formulation of the Darcy problem: the only unknown is the pressure $p$.\n",
    "\n",
    "Let $\\Omega$ be the domain of interest with boundary $\\partial \\Omega$ and outward unit normal ${\\nu}$. Given \n",
    "$k$ the matrix permeability, we want to solve the following problem: find $p$ such that\n",
    "$$\n",
    "\\nabla \\cdot (- k\\nabla p) = 0\n",
    "\\quad \\text{in } \\Omega\n",
    "$$\n",
    "with boundary conditions:\n",
    "$$\n",
    "\\left\\{\n",
    "\\begin{array}{ll}\n",
    "p = 10^6 & \\text{ on } \\partial_{top} \\Omega \\\\\n",
    "p = 0 & \\text{ on } \\partial_{bottom} \\Omega\\\\\n",
    "-\\nabla p \\cdot \\nu = 0  & \\text{ on } \\partial_{left} \\Omega \\cup \\partial_{right} \\Omega\n",
    "\\end{array}\n",
    "\\right.\n",
    "$$\n",
    "$\\Omega$ and the permeability $k$ are taken from the spe10 benchmark case, see [10.2118/66599-MS](http://dx.doi.org/10.2118/66599-MS), by selecting one or multiple layers. In the latter case on the two additional boundary we impose null flux.\n",
    "\n",
    "We present *step-by-step* how to create the grid, declare the problem data, and finally solve the problem."
   ]
  },
  {
   "cell_type": "code",
   "execution_count": null,
   "id": "interested-consistency",
   "metadata": {},
   "outputs": [],
   "source": [
    "import numpy as np\n",
    "import porepy as pp\n",
    "import scipy.sparse as sps\n",
    "\n",
    "import os\n",
    "\n",
    "cwd_folder = os.getcwd()\n",
    "spe10_folder = cwd_folder + \"/spe10/\"\n",
    "\n",
    "import sys\n",
    "\n",
    "sys.path.insert(1, spe10_folder)\n",
    "\n",
    "from spe10 import Spe10"
   ]
  },
  {
   "cell_type": "markdown",
   "id": "retained-picture",
   "metadata": {},
   "source": [
    "We first set some data that will be used in the sequel"
   ]
  },
  {
   "cell_type": "code",
   "execution_count": null,
   "id": "excess-marina",
   "metadata": {},
   "outputs": [],
   "source": [
    "key = \"flow\"\n",
    "tol = 1e-6\n",
    "selected_layers = 35"
   ]
  },
  {
   "cell_type": "markdown",
   "id": "desperate-waterproof",
   "metadata": {},
   "source": [
    "Let's start first to import the data related to the spe10, grid and permeability"
   ]
  },
  {
   "cell_type": "code",
   "execution_count": null,
   "id": "opening-bottom",
   "metadata": {},
   "outputs": [],
   "source": [
    "# Define the class with the corresponding layer(s)\n",
    "spe10 = Spe10(selected_layers)\n",
    "# For simplicity we extract the grid form the class spe10\n",
    "sd = spe10.sd\n",
    "\n",
    "# Read the permeability associated to the given layer(s)\n",
    "perm_folder = spe10_folder + \"/perm/\"\n",
    "spe10.read_perm(perm_folder)\n",
    "perm_dict = spe10.perm_as_dict()"
   ]
  },
  {
   "cell_type": "markdown",
   "id": "durable-contamination",
   "metadata": {},
   "source": [
    "We set now the data, in particular the permeability tensor by specifying all its diagonal components (the off-diagonal are assumed zero) and the boundary conditions."
   ]
  },
  {
   "cell_type": "code",
   "execution_count": null,
   "id": "military-sigma",
   "metadata": {},
   "outputs": [],
   "source": [
    "# Permeability\n",
    "perm = pp.SecondOrderTensor(\n",
    "    kxx=perm_dict[\"kxx\"], kyy=perm_dict[\"kyy\"], kzz=perm_dict[\"kzz\"]\n",
    ")\n",
    "\n",
    "# Boundary conditions\n",
    "b_faces = sd.tags[\"domain_boundary_faces\"].nonzero()[0]\n",
    "b_face_centers = sd.face_centers[:, b_faces]\n",
    "\n",
    "# TODO define outflow and inflow type boundary conditions, right and left boundary\n",
    "out_flow = \n",
    "in_flow = \n",
    "\n",
    "\n",
    "# TODO define the labels and values for the boundary faces\n",
    "labels = \n",
    "\n",
    "bc_val = \n",
    "bc = pp.BoundaryCondition(sd, b_faces, labels)\n",
    "\n",
    "# Collect all parameters in a dictionary\n",
    "parameters = {\"second_order_tensor\": perm, \"bc\": bc, \"bc_values\": bc_val}\n",
    "data = pp.initialize_default_data(sd, {}, key, parameters)"
   ]
  },
  {
   "cell_type": "markdown",
   "id": "knowing-receiver",
   "metadata": {},
   "source": [
    "For simplicity, we consider the TPFA scheme to solve the problem"
   ]
  },
  {
   "cell_type": "code",
   "execution_count": null,
   "id": "suspended-montgomery",
   "metadata": {},
   "outputs": [],
   "source": [
    "#TODO discretize and solve with TPFA\n",
    "\n",
    "cell_p = "
   ]
  },
  {
   "cell_type": "code",
   "execution_count": null,
   "id": "0642b27f",
   "metadata": {},
   "outputs": [],
   "source": [
    "mat_discr = data[pp.DISCRETIZATION_MATRICES][key]\n",
    "\n",
    "q = mat_discr[\"flux\"] @ cell_p + mat_discr[\"bound_flux\"] @ bc_val"
   ]
  },
  {
   "cell_type": "markdown",
   "id": "offshore-journalist",
   "metadata": {},
   "source": [
    "We post process the pressure to compute the flux for each face and the projected in each cell for visualization purposes."
   ]
  },
  {
   "cell_type": "code",
   "execution_count": null,
   "id": "meaning-subscription",
   "metadata": {},
   "outputs": [],
   "source": [
    "# to export the flux\n",
    "mvem = pp.MVEM(key)\n",
    "mvem.discretize(sd, data)\n",
    "\n",
    "# construct the P0 flux reconstruction\n",
    "cell_q = mvem.project_flux(sd, q, data)"
   ]
  },
  {
   "cell_type": "markdown",
   "id": "lesser-thong",
   "metadata": {},
   "source": [
    "Finally, we export the computed solutions and the permeability field."
   ]
  },
  {
   "cell_type": "code",
   "execution_count": null,
   "id": "derived-attribute",
   "metadata": {},
   "outputs": [],
   "source": [
    "save = pp.Exporter(sd, \"sol\", folder_name=\"ex3\")\n",
    "\n",
    "data_to_export = [\n",
    "    (\"kxx\", np.log10(perm_dict[\"kxx\"])),\n",
    "    (\"kyy\", np.log10(perm_dict[\"kyy\"])),\n",
    "    (\"kzz\", np.log10(perm_dict[\"kzz\"])),\n",
    "    (\"cell_p\", cell_p),\n",
    "    (\"cell_q\", cell_q),\n",
    "]\n",
    "save.write_vtu(data_to_export)"
   ]
  },
  {
   "cell_type": "code",
   "execution_count": null,
   "id": "bfeeb134",
   "metadata": {},
   "outputs": [],
   "source": []
  }
 ],
 "metadata": {
  "kernelspec": {
   "display_name": "Python 3 (ipykernel)",
   "language": "python",
   "name": "python3"
  },
  "language_info": {
   "codemirror_mode": {
    "name": "ipython",
    "version": 3
   },
   "file_extension": ".py",
   "mimetype": "text/x-python",
   "name": "python",
   "nbconvert_exporter": "python",
   "pygments_lexer": "ipython3",
   "version": "3.12.5"
  }
 },
 "nbformat": 4,
 "nbformat_minor": 5
}
