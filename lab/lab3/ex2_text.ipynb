{
 "cells": [
  {
   "cell_type": "markdown",
   "id": "essential-american",
   "metadata": {},
   "source": [
    "# Finite volume methods for the Darcy equation\n",
    "\n",
    "In this tutorial we present how to solve a Darcy equation with [PorePy](https://github.com/pmgbergen/porepy) by using two finite volume methods: two-point flux approximation (TPFA) and multi-point flux approximation (MPFA).\n",
    "\n",
    "## Exercise 2\n",
    "\n",
    "We consider the primal formulation of the Darcy problem: the only unknown is the pressure $p$.\n",
    "We want to solve the problem on different families of grids.\n",
    "\n",
    "Let $\\Omega$ be the domain of interest with boundary $\\partial \\Omega$ and outward unit normal ${\\nu}$. Given \n",
    "$k=I$ the matrix permeability and $f = 1$ the source term, we want to solve the following problem: find $p$ such that\n",
    "$$\n",
    "\\nabla \\cdot (- \\nabla p) = f\n",
    "\\quad \\text{in } \\Omega\n",
    "$$\n",
    "with boundary conditions:\n",
    "$$\n",
    "\\left\\{\n",
    "\\begin{array}{ll}\n",
    "p = 0 & \\text{ on } \\partial_{left} \\Omega \\cup \\partial_{right} \\Omega\\\\\n",
    "-\\nabla p \\cdot \\nu = 0  & \\text{ on } \\partial_{top} \\Omega \\cup \\partial_{bottom} \\Omega\n",
    "\\end{array}\n",
    "\\right.\n",
    "$$\n",
    "Let $\\Omega_0 = [0, 1]^2$ and define the shear matrix $S$ as\n",
    "$$\n",
    "S =\n",
    "\\begin{bmatrix}\n",
    "1 & \\tan\\theta\\\\\n",
    "0 & 1\n",
    "\\end{bmatrix}\n",
    "$$\n",
    "with $\\theta \\in [0, \\pi/2)$ the shear angle. We define $\\Omega = S \\circ \\Omega_0$.\n",
    "\n",
    "We present *step-by-step* how to create the grid, declare the problem data, and finally solve the problem."
   ]
  },
  {
   "cell_type": "markdown",
   "id": "planned-danger",
   "metadata": {},
   "source": [
    "First we import some of the standard modules."
   ]
  },
  {
   "cell_type": "code",
   "execution_count": 2,
   "id": "dietary-perth",
   "metadata": {},
   "outputs": [],
   "source": [
    "import numpy as np\n",
    "import scipy.sparse as sps\n",
    "import porepy as pp\n",
    "import pygeon as pg"
   ]
  },
  {
   "cell_type": "markdown",
   "id": "roman-glossary",
   "metadata": {},
   "source": [
    "We create now the grid and then apply the shear matrix $S$ before calling the `compute_geometry`. Since, on a Cartesian grid and for $\\theta = 0$, the pressure computed with TPFA is equal with the pressure computed with MPFA, we consider a Cartesian grid and study the discrepancy between the two solutions by increasing $\\theta$."
   ]
  },
  {
   "cell_type": "code",
   "execution_count": 3,
   "id": "spectacular-saturn",
   "metadata": {},
   "outputs": [
    {
     "ename": "SyntaxError",
     "evalue": "invalid syntax (1109760482.py, line 5)",
     "output_type": "error",
     "traceback": [
      "\u001b[0;36m  Cell \u001b[0;32mIn[3], line 5\u001b[0;36m\u001b[0m\n\u001b[0;31m    sd =\u001b[0m\n\u001b[0m         ^\u001b[0m\n\u001b[0;31mSyntaxError\u001b[0m\u001b[0;31m:\u001b[0m invalid syntax\n"
     ]
    }
   ],
   "source": [
    "dim = 2\n",
    "\n",
    "# TODO creation of a Cartesian grid\n",
    "N = 25\n",
    "sd = \n",
    "\n",
    "# define the shear matrix\n",
    "theta = np.pi / 4\n",
    "S = np.array([[1, np.tan(theta), 0], [0, 1, 0], [0, 0, 1]])\n",
    "\n",
    "# TODO distort the grid\n",
    "sd.nodes = \n",
    "\n",
    "sd.compute_geometry()\n",
    "\n",
    "# represent the grid\n",
    "pp.plot_grid(sd, plot_2d=True)"
   ]
  },
  {
   "cell_type": "markdown",
   "id": "precious-belle",
   "metadata": {},
   "source": [
    "With the following code we set the data, in particular the permeability tensor and the scalar source."
   ]
  },
  {
   "cell_type": "code",
   "execution_count": 4,
   "id": "spare-person",
   "metadata": {},
   "outputs": [],
   "source": [
    "key = \"flow\"\n",
    "\n",
    "# Permeability\n",
    "perm = pp.SecondOrderTensor(np.ones(sd.num_cells))\n",
    "\n",
    "# Boundary conditions: identify boundary faces\n",
    "b_faces = sd.tags[\"domain_boundary_faces\"].nonzero()[0]\n",
    "\n",
    "# With the following steps we identify the portions of the boundary\n",
    "# to impose the boundary conditions\n",
    "\n",
    "top_bottom = np.logical_or(\n",
    "    sd.face_centers[1, b_faces] == 0, sd.face_centers[1, b_faces] == 1\n",
    ")\n",
    "\n",
    "# Set the labels for the boundary conditions\n",
    "labels = np.array([\"dir\"] * b_faces.size)\n",
    "labels[top_bottom] = \"neu\"\n",
    "\n",
    "#TODO enforce BCs\n",
    "bc = \n",
    "bc_val = \n",
    "\n",
    "# Collect all parameters in a dictionary\n",
    "parameters = {\"second_order_tensor\": perm, \"bc\": bc, \"bc_values\": bc_val}\n",
    "\n",
    "data = pp.initialize_default_data(sd, {}, key, parameters)"
   ]
  },
  {
   "cell_type": "markdown",
   "id": "secure-flesh",
   "metadata": {},
   "source": [
    "Once the data are assigned to the grid, we need to construct the discrete problem. In particular, the linear system associated with the equation is given as\n",
    "$$\n",
    "A p = b\n",
    "$$<br>\n",
    "The right-hand side term $b$ includes the part associated with the scalar source term and with the boundary conditions, we construct first the former."
   ]
  },
  {
   "cell_type": "code",
   "execution_count": 5,
   "id": "1d031222",
   "metadata": {},
   "outputs": [],
   "source": [
    "#TODO construct the rhs from the discretization of the scalar source term\n",
    "\n",
    "scalar_source = "
   ]
  },
  {
   "cell_type": "markdown",
   "id": "51a72df7",
   "metadata": {},
   "source": [
    "Second, we construct the matrix $A$ from the TPFA approximation and the part of the right-hand side associated to the boundary conditions. We can compute the pressure $p$ by solving the linear system."
   ]
  },
  {
   "cell_type": "code",
   "execution_count": 6,
   "id": "romance-findings",
   "metadata": {},
   "outputs": [],
   "source": [
    "# TODO construct the lhr and rhs from the discretization of the diffusion operator\n",
    "\n",
    "\n",
    "# solve the problem\n",
    "cell_p_tpfa = "
   ]
  },
  {
   "cell_type": "markdown",
   "id": "e3cd44d6",
   "metadata": {},
   "source": [
    "As a post-process, we can construct the Darcy flux on each face of the grid by using the flux matrix applied to the computed pressure. "
   ]
  },
  {
   "cell_type": "code",
   "execution_count": 7,
   "id": "cd9becd5",
   "metadata": {},
   "outputs": [],
   "source": [
    "# extract the discretization matrices build from TPFA\n",
    "mat_discr = data[pp.DISCRETIZATION_MATRICES][key]\n",
    "\n",
    "# reconstruct the flux as post-process\n",
    "q_tpfa = mat_discr[\"flux\"] @ cell_p_tpfa + mat_discr[\"bound_flux\"] @ bc_val"
   ]
  },
  {
   "cell_type": "markdown",
   "id": "mobile-nirvana",
   "metadata": {},
   "source": [
    "We perform the same steps with the MPFA scheme: to construct the matrix $A$, and associated right-hand side, then compute the pressure $p$ and as a post-process the flux."
   ]
  },
  {
   "cell_type": "code",
   "execution_count": 8,
   "id": "subtle-wonder",
   "metadata": {},
   "outputs": [],
   "source": [
    "# construct the lhr and rhs from the discretization of the diffusion operator\n",
    "\n",
    "\n",
    "# solve the problem\n",
    "cell_p_mpfa = \n",
    "\n",
    "# now data contains the discretization matrices build from MPFA\n",
    "\n",
    "q_mpfa = "
   ]
  },
  {
   "cell_type": "markdown",
   "id": "pacific-alpha",
   "metadata": {},
   "source": [
    "We compute now the discrepancy between the pressure computed with the TPFA and MPFA."
   ]
  },
  {
   "cell_type": "code",
   "execution_count": 21,
   "id": "satisfactory-jerusalem",
   "metadata": {},
   "outputs": [
    {
     "name": "stdout",
     "output_type": "stream",
     "text": [
      "difference 0.04058891434005472 0.7834670888043777\n"
     ]
    }
   ],
   "source": [
    "# compute the difference between the two solutions\n"
   ]
  },
  {
   "cell_type": "markdown",
   "id": "8c915bab",
   "metadata": {},
   "source": [
    "Let us now reconstruct the $P_0$-vector representation of the flux for visualization purposes."
   ]
  },
  {
   "cell_type": "code",
   "execution_count": 9,
   "id": "f3b3965d",
   "metadata": {},
   "outputs": [],
   "source": [
    "# to export the flux\n",
    "mvem = pp.MVEM(key)\n",
    "mvem.discretize(sd, data)\n",
    "\n",
    "# construct the P0 flux reconstruction\n",
    "cell_q_tpfa = mvem.project_flux(sd, q_tpfa, data)\n",
    "cell_q_mpfa = mvem.project_flux(sd, q_mpfa, data)"
   ]
  },
  {
   "cell_type": "markdown",
   "id": "f1c2d859",
   "metadata": {},
   "source": [
    "We export the solutions to be visualized by [ParaView](https://www.paraview.org/)."
   ]
  },
  {
   "cell_type": "code",
   "execution_count": 10,
   "id": "b727f1f6",
   "metadata": {},
   "outputs": [],
   "source": []
  },
  {
   "cell_type": "code",
   "execution_count": null,
   "id": "5563529d",
   "metadata": {},
   "outputs": [],
   "source": []
  }
 ],
 "metadata": {
  "kernelspec": {
   "display_name": "Python 3 (ipykernel)",
   "language": "python",
   "name": "python3"
  },
  "language_info": {
   "codemirror_mode": {
    "name": "ipython",
    "version": 3
   },
   "file_extension": ".py",
   "mimetype": "text/x-python",
   "name": "python",
   "nbconvert_exporter": "python",
   "pygments_lexer": "ipython3",
   "version": "3.12.5"
  },
  "vscode": {
   "interpreter": {
    "hash": "e4cc1db98167c7fd7d55a1da8057731abc6cd6fe154328a2ae319df8aab4e24d"
   }
  }
 },
 "nbformat": 4,
 "nbformat_minor": 5
}
