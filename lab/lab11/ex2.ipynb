{
 "cells": [
  {
   "attachments": {},
   "cell_type": "markdown",
   "id": "essential-american",
   "metadata": {},
   "source": [
    "# Elasticity equation - compute CFF\n",
    "\n",
    "In this tutorial we present how to solve the elasticity equation with [PorePy](https://github.com/pmgbergen/porepy) and then how to post process the tractions to compute the CFF (Coulomb friction failure) coefficient along a fracture. The unknown is the displacement $u$.\n",
    "\n",
    "Let $\\Omega=(0,1)^3$ with boundary $\\partial \\Omega$ and outward unit normal ${\\nu}$. Given \n",
    "$\\lambda$ Lamé constant and $\\mu$ the Kirchhoff modulus, we want to solve the following problem: find $u$ such that\n",
    "$$\n",
    "\\nabla \\cdot [ 2 \\mu \\epsilon(u) + \\lambda \\nabla \\cdot u] = -b\n",
    "$$\n",
    "with $\\epsilon$ the symmetric gradient and $b$ a body force. The CFF is computed as\n",
    "$$\n",
    "    CFF = \\tau^\\top \\sigma n + \\mu_f n^\\top \\sigma n\n",
    "$$\n",
    "with $\\mu_f$ the fracture friction coefficient.\n",
    "\n",
    "We will use the Multi-Point Stress Approximation (MPSA) to discretise the problem."
   ]
  },
  {
   "cell_type": "markdown",
   "id": "56b645ac",
   "metadata": {},
   "source": [
    "## Exercise 1: footing problem\n",
    "\n",
    "The footing problem is when a force is impose on the top compressing the body and the bottom is fixed.\n",
    "\n",
    "For this test case we set $\\Omega = [0, 1]^3$, $b = 0$, and the following boundary conditions:\n",
    "$$ \n",
    "u = 0 \\text{ on } \\partial_{bottom} \\Omega \\qquad \\nu \\cdot \\sigma = 0 \\text{ on } \\partial_{left} \\Omega \\cup \\partial_{right} \\Omega \\cup \\partial_{front}\\Omega \\cup \\partial_{back} \\Omega\\qquad \\nu \\cdot \\sigma = [0, -1]^\\top \\text{ on } \\partial_{top} \\Omega\n",
    "$$\n",
    "\n",
    "We have the following relations between the $\\lambda$ and $\\mu$ as functions of the Young's modulus $E$ and Poisson ratio $\\nu$\n",
    "$$\n",
    "\\lambda = \\dfrac{\\nu E}{(1+\\nu)(1-2\\nu)}\\qquad \\mu = \\dfrac{E}{2(1+\\nu)}\n",
    "$$"
   ]
  },
  {
   "cell_type": "markdown",
   "id": "planned-danger",
   "metadata": {},
   "source": [
    "First we import some of the standard modules, like `numpy` and `scipy.sparse`. Since PyGeoN is based on [PorePy](https://github.com/pmgbergen/porepy) we import both modules."
   ]
  },
  {
   "cell_type": "code",
   "execution_count": 20,
   "id": "dietary-perth",
   "metadata": {},
   "outputs": [],
   "source": [
    "import numpy as np\n",
    "import scipy.sparse as sps\n",
    "\n",
    "import porepy as pp\n",
    "import pygeon as pg"
   ]
  },
  {
   "cell_type": "markdown",
   "id": "roman-glossary",
   "metadata": {},
   "source": [
    "We create now the grid and the fracture/fault now represent an internal constraint so that the grid adapts to it."
   ]
  },
  {
   "cell_type": "code",
   "execution_count": 21,
   "id": "spectacular-saturn",
   "metadata": {},
   "outputs": [
    {
     "name": "stdout",
     "output_type": "stream",
     "text": [
      "\n"
     ]
    }
   ],
   "source": [
    "N = 10\n",
    "dim = 3\n",
    "mesh_size = 1 / N\n",
    "\n",
    "# Define a fracture\n",
    "frac_pts = np.array(\n",
    "    [\n",
    "        [0.2, 0.9, 0.9, 0.2],\n",
    "        [0.2, 0.2, 0.8, 0.8],\n",
    "        [0.2, 1, 1, 0.2],\n",
    "    ]\n",
    ")\n",
    "frac = pp.PlaneFracture(frac_pts)\n",
    "\n",
    "sd = pg.unit_grid(dim, mesh_size, as_mdg=False, fractures=[frac], constraints=[0])\n",
    "sd.compute_geometry()"
   ]
  },
  {
   "cell_type": "markdown",
   "id": "precious-belle",
   "metadata": {},
   "source": [
    "With the following code we set the data, in particular the Lamé and the Kirchhoff modulus, and the boundary conditions. Since we need to identify each side of $\\partial \\Omega$ we need few steps."
   ]
  },
  {
   "cell_type": "code",
   "execution_count": 22,
   "id": "spare-person",
   "metadata": {},
   "outputs": [],
   "source": [
    "key = \"elasticity\"\n",
    "\n",
    "E = 1\n",
    "nu = 0.25\n",
    "mu_fric = 0.45\n",
    "\n",
    "lambda_ = E * nu / ((1 + nu) * (1 - 2 * nu))\n",
    "mu = E / (2 * (1 + nu))\n",
    "\n",
    "# Create stiffness matrix\n",
    "lambda_ = lambda_ * np.ones(sd.num_cells)\n",
    "mu = mu * np.ones(sd.num_cells) / 2\n",
    "C = pp.FourthOrderTensor(mu, lambda_)\n",
    "\n",
    "# Define boundary type\n",
    "b_faces = sd.get_all_boundary_faces()\n",
    "num_b_faces = b_faces.size\n",
    "labels = np.array([\"neu\"] * num_b_faces)\n",
    "\n",
    "bottom = np.isclose(sd.face_centers[2, b_faces], 0)\n",
    "labels[bottom] = \"dir\"\n",
    "bound = pp.BoundaryConditionVectorial(sd, b_faces, labels)\n",
    "\n",
    "bc_values = np.zeros((sd.dim, sd.num_faces))\n",
    "\n",
    "top = np.isclose(sd.face_centers[2, :], 1)\n",
    "bc_values[2, top] = -sd.face_areas[top]\n",
    "bc_values = bc_values.ravel(\"F\")\n",
    "\n",
    "# No source term\n",
    "source = np.zeros(sd.num_cells * sd.dim)\n",
    "\n",
    "# collect all data\n",
    "data = {\n",
    "    pp.PARAMETERS: {\n",
    "        key: {\n",
    "            \"fourth_order_tensor\": C,\n",
    "            \"bc_values\": bc_values,\n",
    "            \"bc\": bound,\n",
    "            \"source\": source,\n",
    "        }\n",
    "    },\n",
    "    pp.DISCRETIZATION_MATRICES: {key: {}},\n",
    "}"
   ]
  },
  {
   "attachments": {},
   "cell_type": "markdown",
   "id": "secure-flesh",
   "metadata": {},
   "source": [
    "Once the data are assigned to the grid, we construct the matrices. Once the latter is created, we also construct the right-hand side containing the boundary conditions."
   ]
  },
  {
   "cell_type": "code",
   "execution_count": 23,
   "id": "romance-findings",
   "metadata": {},
   "outputs": [],
   "source": [
    "# discretize and solve the system\n",
    "mpsa = pp.Mpsa(key)\n",
    "mpsa.discretize(sd, data)\n",
    "\n",
    "A, b = mpsa.assemble_matrix_rhs(sd, data)\n",
    "u = sps.linalg.spsolve(A, b)"
   ]
  },
  {
   "cell_type": "markdown",
   "metadata": {},
   "source": [
    "We first compute the traction for each face of the cell and reshape it so that it has the x-components for all the faces first and then all the y-components (and then all z-components in 3d case)."
   ]
  },
  {
   "cell_type": "code",
   "execution_count": 24,
   "metadata": {},
   "outputs": [],
   "source": [
    "# post process the traction for each face\n",
    "mat = data[pp.DISCRETIZATION_MATRICES][key]\n",
    "mat_stress = mat[mpsa.stress_matrix_key]\n",
    "mat_bound_stress = mat[mpsa.bound_stress_matrix_key]\n",
    "\n",
    "# The measure is in Pascals\n",
    "t = mat_stress @ u + mat_bound_stress @ bc_values\n",
    "\n",
    "# reshape the traction to be in the order of first all the x-components, then all the y-components\n",
    "t = np.reshape(t, (sd.dim, -1), order=\"F\").ravel()"
   ]
  },
  {
   "cell_type": "markdown",
   "id": "b6748ab5",
   "metadata": {},
   "source": [
    "We restrict the traction to the fracture faces"
   ]
  },
  {
   "cell_type": "code",
   "execution_count": 25,
   "id": "c74d3c51",
   "metadata": {},
   "outputs": [],
   "source": [
    "# compute the faces that are on the fracture\n",
    "points = sd.face_centers\n",
    "distances, _, _ = pp.distances.points_polygon(points, frac_pts)\n",
    "faces_on_frac = np.isclose(distances, 0)\n",
    "\n",
    "# extract the x and y components of the tractions on the fracture and make it as a vector\n",
    "t_on_frac = t[np.tile(faces_on_frac, sd.dim)].reshape((sd.dim, -1))"
   ]
  },
  {
   "cell_type": "markdown",
   "id": "c6de2d6a",
   "metadata": {},
   "source": [
    "We compute now the normal and tangential projection matrices, so that given a vector it aligns it accordingly."
   ]
  },
  {
   "cell_type": "code",
   "execution_count": 26,
   "id": "16828527",
   "metadata": {},
   "outputs": [],
   "source": [
    "# compute the unit normal vector to the fracture\n",
    "normal = sd.face_normals[:, faces_on_frac]\n",
    "normal /= np.linalg.norm(normal, axis=0)\n",
    "\n",
    "# compute the normal and tangential projection matrix to the fracture\n",
    "normal_proj = np.einsum(\"ik,jk->ijk\", normal, normal)\n",
    "tangential_proj = np.eye(3)[:, :, np.newaxis] - normal_proj"
   ]
  },
  {
   "cell_type": "markdown",
   "id": "77837b34",
   "metadata": {},
   "source": [
    "Let us compute now the normal and tangential parts of the traction and evaluate the CFF."
   ]
  },
  {
   "cell_type": "code",
   "execution_count": 27,
   "id": "217c1545",
   "metadata": {},
   "outputs": [
    {
     "name": "stdout",
     "output_type": "stream",
     "text": [
      "[0.00107168 0.00103937 0.00109351 0.0010725  0.00092315 0.00092937\n",
      " 0.00090205 0.00089304 0.00136527 0.00093362 0.00125751 0.00141567\n",
      " 0.00085157 0.00099852 0.00123214 0.00097234 0.00097466 0.00107434\n",
      " 0.00084397 0.00115084 0.00109389 0.00113895 0.0011431  0.00124593\n",
      " 0.00118354 0.00148279 0.00153456 0.00102791 0.00114533 0.00132727\n",
      " 0.00113267 0.00092027 0.0011053  0.0011797  0.00100208 0.00088283\n",
      " 0.00120198 0.00086057 0.00144951 0.00123245 0.00124161 0.00143607\n",
      " 0.00125558 0.00123906 0.00143566 0.00148031 0.00099346 0.00116621\n",
      " 0.00125111 0.00106379 0.00090168 0.00108289 0.00121969 0.00092794\n",
      " 0.0009154  0.00104125 0.0008091  0.00110241 0.00104191 0.00107984\n",
      " 0.0010912  0.00100046 0.00104954 0.0007751  0.00130405 0.00080675\n",
      " 0.00085775 0.00142032 0.00140548 0.00118707 0.00115314 0.00136858\n",
      " 0.00116848 0.00113782 0.00137451 0.00116252 0.00139554 0.00111658\n",
      " 0.00147162 0.0012252  0.00115077 0.00119046 0.00106809 0.00095305\n",
      " 0.00100929 0.00068135 0.00114674 0.00113899 0.00113625 0.0012203\n",
      " 0.00098075 0.00116106 0.00107564 0.00120348 0.00091094 0.00105683\n",
      " 0.00114928 0.0009594  0.00089347 0.00133404 0.00123992 0.00107324\n",
      " 0.00089439 0.00112541 0.00119837 0.00118173 0.00115909 0.00119368\n",
      " 0.00121499 0.00123087 0.00124452 0.00124625 0.00122341 0.00118028\n",
      " 0.00128661 0.00124965 0.00127595 0.00123802 0.00125751 0.00127126\n",
      " 0.00125223 0.00123381 0.0012372  0.00125904 0.00124444 0.00143373\n",
      " 0.00147184 0.00120311 0.00141906 0.00138483 0.00128545 0.00118791\n",
      " 0.00116351 0.00092727 0.00109402 0.0010265  0.00118115 0.00117017\n",
      " 0.00118408 0.00083551 0.00131114 0.00096219 0.00109319 0.00109028\n",
      " 0.00104144 0.0012035  0.00113361 0.0010768  0.00089443 0.00134532\n",
      " 0.00079067 0.00091692 0.00115997 0.00132486 0.00110872 0.00119621\n",
      " 0.00079489 0.00064842 0.00133373 0.00102768 0.00113751 0.00092637\n",
      " 0.00113704 0.00096038 0.00097154 0.00096544 0.00089026 0.00099985]\n"
     ]
    }
   ],
   "source": [
    "# compute the normal component of the traction\n",
    "t_normal_vec = np.einsum(\"ijk,jk->ik\", normal_proj, t_on_frac)\n",
    "t_normal = np.einsum(\"ij,ij->j\", normal, t_normal_vec)\n",
    "\n",
    "# compute the tangential component of the traction\n",
    "t_tangential_vec = np.einsum(\"ijk,jk->ik\", tangential_proj, t_on_frac)\n",
    "t_tangential = np.linalg.norm(t_tangential_vec, axis=0)\n",
    "\n",
    "# compute the Coulomb friction factor\n",
    "cff = t_tangential + mu_fric * t_normal\n",
    "\n",
    "print(cff)"
   ]
  },
  {
   "cell_type": "markdown",
   "id": "pacific-alpha",
   "metadata": {},
   "source": [
    "We finally export the solution to be visualized by [ParaView](https://www.paraview.org/)."
   ]
  },
  {
   "cell_type": "code",
   "execution_count": 28,
   "id": "satisfactory-jerusalem",
   "metadata": {},
   "outputs": [],
   "source": [
    "# reshape the displacement for the export\n",
    "u = np.reshape(u, (sd.dim, -1), order=\"F\")\n",
    "\n",
    "save = pp.Exporter(sd, \"sol\", folder_name=\"ex2\")\n",
    "save.write_vtu([(\"u\", u)])"
   ]
  },
  {
   "cell_type": "code",
   "execution_count": 29,
   "id": "d346143a",
   "metadata": {},
   "outputs": [],
   "source": [
    "# Consistency check\n",
    "assert np.isclose(cff.sum(), 0.1894849840616985)"
   ]
  }
 ],
 "metadata": {
  "kernelspec": {
   "display_name": "py3.13",
   "language": "python",
   "name": "python3"
  },
  "language_info": {
   "codemirror_mode": {
    "name": "ipython",
    "version": 3
   },
   "file_extension": ".py",
   "mimetype": "text/x-python",
   "name": "python",
   "nbconvert_exporter": "python",
   "pygments_lexer": "ipython3",
   "version": "3.13.0"
  }
 },
 "nbformat": 4,
 "nbformat_minor": 5
}
